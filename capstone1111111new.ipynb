{
 "cells": [
  {
   "cell_type": "code",
   "execution_count": 1,
   "id": "2883971a",
   "metadata": {},
   "outputs": [],
   "source": [
    "import pandas as pd\n",
    "import numpy as np"
   ]
  },
  {
   "cell_type": "code",
   "execution_count": 2,
   "id": "56c08485",
   "metadata": {},
   "outputs": [],
   "source": [
    "a = pd.read_csv('~/Downloads/airbnb-listings.csv', delimiter = ';', low_memory = False)"
   ]
  },
  {
   "cell_type": "code",
   "execution_count": 3,
   "id": "e11b1e3d",
   "metadata": {},
   "outputs": [],
   "source": [
    "df = a[a['Country'] == 'United States']"
   ]
  },
  {
   "cell_type": "code",
   "execution_count": 4,
   "id": "16659440",
   "metadata": {},
   "outputs": [],
   "source": [
    "df1 = df.drop(['Listing Url','Thumbnail Url', 'Medium Url', 'Picture Url', 'XL Picture Url','Host URL','Host Thumbnail Url', \n",
    "              'Host Picture Url','Latitude', 'Longitude'], axis = 1)"
   ]
  },
  {
   "cell_type": "code",
   "execution_count": 5,
   "id": "d2d18f7b",
   "metadata": {},
   "outputs": [
    {
     "data": {
      "text/plain": [
       "(134545, 79)"
      ]
     },
     "execution_count": 5,
     "metadata": {},
     "output_type": "execute_result"
    }
   ],
   "source": [
    "df1.shape"
   ]
  },
  {
   "cell_type": "code",
   "execution_count": 6,
   "id": "19dc0add",
   "metadata": {},
   "outputs": [],
   "source": [
    "df2= df1.drop(['Scrape ID','ID','Name','Summary','Description','Experiences Offered','Neighborhood Overview','Notes','Transit','Access',\n",
    "           'Interaction','House Rules','Host Name','Host About','Host Verifications','Amenities','Calendar Updated',\n",
    "            'Has Availability','Geolocation','Features','License','Host Acceptance Rate',\n",
    "                  'Neighbourhood Group Cleansed','Space','Host Location','First Review','Last Review',\n",
    "                 'Jurisdiction Names','Last Scraped','Smart Location','Country Code','Country',\n",
    "                  'Calendar last Scraped','City','Street'], axis = 1)"
   ]
  },
  {
   "cell_type": "code",
   "execution_count": 7,
   "id": "e2a473da",
   "metadata": {},
   "outputs": [
    {
     "data": {
      "text/plain": [
       "(134545, 44)"
      ]
     },
     "execution_count": 7,
     "metadata": {},
     "output_type": "execute_result"
    }
   ],
   "source": [
    "df2.shape"
   ]
  },
  {
   "cell_type": "code",
   "execution_count": 8,
   "id": "36e1e986",
   "metadata": {},
   "outputs": [
    {
     "data": {
      "text/plain": [
       "Index(['Host ID', 'Host Since', 'Host Response Time', 'Host Response Rate',\n",
       "       'Host Neighbourhood', 'Host Listings Count',\n",
       "       'Host Total Listings Count', 'Neighbourhood', 'Neighbourhood Cleansed',\n",
       "       'State', 'Zipcode', 'Market', 'Property Type', 'Room Type',\n",
       "       'Accommodates', 'Bathrooms', 'Bedrooms', 'Beds', 'Bed Type',\n",
       "       'Square Feet', 'Price', 'Weekly Price', 'Monthly Price',\n",
       "       'Security Deposit', 'Cleaning Fee', 'Guests Included', 'Extra People',\n",
       "       'Minimum Nights', 'Maximum Nights', 'Availability 30',\n",
       "       'Availability 60', 'Availability 90', 'Availability 365',\n",
       "       'Number of Reviews', 'Review Scores Rating', 'Review Scores Accuracy',\n",
       "       'Review Scores Cleanliness', 'Review Scores Checkin',\n",
       "       'Review Scores Communication', 'Review Scores Location',\n",
       "       'Review Scores Value', 'Cancellation Policy',\n",
       "       'Calculated host listings count', 'Reviews per Month'],\n",
       "      dtype='object')"
      ]
     },
     "execution_count": 8,
     "metadata": {},
     "output_type": "execute_result"
    }
   ],
   "source": [
    "df2.columns"
   ]
  },
  {
   "cell_type": "code",
   "execution_count": 32,
   "id": "e6e7c1c4",
   "metadata": {},
   "outputs": [],
   "source": [
    "df2 = df2[df2['Price'].notna()]"
   ]
  },
  {
   "cell_type": "code",
   "execution_count": 33,
   "id": "a948d5dd",
   "metadata": {},
   "outputs": [
    {
     "data": {
      "text/plain": [
       "Square Feet                       98.463581\n",
       "Weekly Price                      82.722260\n",
       "Monthly Price                     79.415603\n",
       "Security Deposit                  56.767561\n",
       "Cleaning Fee                      27.537128\n",
       "Review Scores Value               23.702491\n",
       "Review Scores Location            23.682881\n",
       "Review Scores Checkin             23.682881\n",
       "Review Scores Accuracy            23.622540\n",
       "Review Scores Cleanliness         23.585582\n",
       "Review Scores Communication       23.584827\n",
       "Review Scores Rating              23.454341\n",
       "Host Response Time                22.580913\n",
       "Host Response Rate                22.580913\n",
       "Reviews per Month                 22.350865\n",
       "Neighbourhood                     19.881431\n",
       "Host Neighbourhood                16.144093\n",
       "Zipcode                            1.255836\n",
       "Market                             0.761044\n",
       "Bathrooms                          0.316033\n",
       "Host Since                         0.214963\n",
       "Host Listings Count                0.214963\n",
       "Host Total Listings Count          0.214963\n",
       "Beds                               0.165936\n",
       "Bedrooms                           0.117664\n",
       "Accommodates                       0.046010\n",
       "Property Type                      0.004526\n",
       "State                              0.002263\n",
       "Cancellation Policy                0.000000\n",
       "Number of Reviews                  0.000000\n",
       "Calculated host listings count     0.000000\n",
       "Neighbourhood Cleansed             0.000000\n",
       "Availability 30                    0.000000\n",
       "Availability 365                   0.000000\n",
       "Availability 90                    0.000000\n",
       "Availability 60                    0.000000\n",
       "Maximum Nights                     0.000000\n",
       "Minimum Nights                     0.000000\n",
       "Extra People                       0.000000\n",
       "Guests Included                    0.000000\n",
       "Room Type                          0.000000\n",
       "Price                              0.000000\n",
       "Bed Type                           0.000000\n",
       "Host ID                            0.000000\n",
       "dtype: float64"
      ]
     },
     "execution_count": 33,
     "metadata": {},
     "output_type": "execute_result"
    }
   ],
   "source": [
    "(df2.isnull().sum()/len(df2)*100).sort_values(ascending=False) # sinse square feet,weekely price monthly price has null values \n",
    "                                                      # more than 80% we will drop them"
   ]
  },
  {
   "cell_type": "code",
   "execution_count": 12,
   "id": "60dbba30",
   "metadata": {},
   "outputs": [
    {
     "data": {
      "text/html": [
       "<div>\n",
       "<style scoped>\n",
       "    .dataframe tbody tr th:only-of-type {\n",
       "        vertical-align: middle;\n",
       "    }\n",
       "\n",
       "    .dataframe tbody tr th {\n",
       "        vertical-align: top;\n",
       "    }\n",
       "\n",
       "    .dataframe thead th {\n",
       "        text-align: right;\n",
       "    }\n",
       "</style>\n",
       "<table border=\"1\" class=\"dataframe\">\n",
       "  <thead>\n",
       "    <tr style=\"text-align: right;\">\n",
       "      <th></th>\n",
       "      <th>Security Deposit</th>\n",
       "      <th>Price</th>\n",
       "    </tr>\n",
       "  </thead>\n",
       "  <tbody>\n",
       "    <tr>\n",
       "      <th>Security Deposit</th>\n",
       "      <td>1.000000</td>\n",
       "      <td>0.393314</td>\n",
       "    </tr>\n",
       "    <tr>\n",
       "      <th>Price</th>\n",
       "      <td>0.393314</td>\n",
       "      <td>1.000000</td>\n",
       "    </tr>\n",
       "  </tbody>\n",
       "</table>\n",
       "</div>"
      ],
      "text/plain": [
       "                  Security Deposit     Price\n",
       "Security Deposit          1.000000  0.393314\n",
       "Price                     0.393314  1.000000"
      ]
     },
     "execution_count": 12,
     "metadata": {},
     "output_type": "execute_result"
    }
   ],
   "source": [
    "df2.loc[:,['Security Deposit','Price']].corr()"
   ]
  },
  {
   "cell_type": "code",
   "execution_count": 14,
   "id": "e93a5773",
   "metadata": {},
   "outputs": [
    {
     "data": {
      "text/plain": [
       "250.0"
      ]
     },
     "execution_count": 14,
     "metadata": {},
     "output_type": "execute_result"
    }
   ],
   "source": [
    "df2['Security Deposit'].median()"
   ]
  },
  {
   "cell_type": "code",
   "execution_count": 16,
   "id": "3a8b0de9",
   "metadata": {},
   "outputs": [
    {
     "data": {
      "text/plain": [
       "274.7632734530938"
      ]
     },
     "execution_count": 16,
     "metadata": {},
     "output_type": "execute_result"
    }
   ],
   "source": [
    "df2['Security Deposit'].mean()"
   ]
  },
  {
   "cell_type": "code",
   "execution_count": 19,
   "id": "0a53cc27",
   "metadata": {},
   "outputs": [
    {
     "data": {
      "text/plain": [
       "167.88686203172315"
      ]
     },
     "execution_count": 19,
     "metadata": {},
     "output_type": "execute_result"
    }
   ],
   "source": [
    "df2['Security Deposit'].std()"
   ]
  },
  {
   "cell_type": "code",
   "execution_count": 20,
   "id": "15e9e662",
   "metadata": {},
   "outputs": [
    {
     "data": {
      "text/plain": [
       "(0.0, 999.0)"
      ]
     },
     "execution_count": 20,
     "metadata": {},
     "output_type": "execute_result"
    }
   ],
   "source": [
    "df2['Security Deposit'].min(),df2['Security Deposit'].max()"
   ]
  },
  {
   "cell_type": "code",
   "execution_count": null,
   "id": "d1652b77",
   "metadata": {},
   "outputs": [],
   "source": [
    "# we will impute median in it as the value is revolving around 250"
   ]
  },
  {
   "cell_type": "code",
   "execution_count": 34,
   "id": "35953886",
   "metadata": {},
   "outputs": [
    {
     "name": "stdout",
     "output_type": "stream",
     "text": [
      "<class 'pandas.core.frame.DataFrame'>\n",
      "Int64Index: 132581 entries, 241 to 494571\n",
      "Data columns (total 44 columns):\n",
      " #   Column                          Non-Null Count   Dtype  \n",
      "---  ------                          --------------   -----  \n",
      " 0   Host ID                         132581 non-null  int64  \n",
      " 1   Host Since                      132296 non-null  object \n",
      " 2   Host Response Time              102643 non-null  object \n",
      " 3   Host Response Rate              102643 non-null  float64\n",
      " 4   Host Neighbourhood              111177 non-null  object \n",
      " 5   Host Listings Count             132296 non-null  float64\n",
      " 6   Host Total Listings Count       132296 non-null  float64\n",
      " 7   Neighbourhood                   106222 non-null  object \n",
      " 8   Neighbourhood Cleansed          132581 non-null  object \n",
      " 9   State                           132578 non-null  object \n",
      " 10  Zipcode                         130916 non-null  object \n",
      " 11  Market                          131572 non-null  object \n",
      " 12  Property Type                   132575 non-null  object \n",
      " 13  Room Type                       132581 non-null  object \n",
      " 14  Accommodates                    132520 non-null  float64\n",
      " 15  Bathrooms                       132162 non-null  float64\n",
      " 16  Bedrooms                        132425 non-null  float64\n",
      " 17  Beds                            132361 non-null  float64\n",
      " 18  Bed Type                        132581 non-null  object \n",
      " 19  Square Feet                     2037 non-null    float64\n",
      " 20  Price                           132581 non-null  float64\n",
      " 21  Weekly Price                    22907 non-null   float64\n",
      " 22  Monthly Price                   27291 non-null   float64\n",
      " 23  Security Deposit                57318 non-null   float64\n",
      " 24  Cleaning Fee                    96072 non-null   float64\n",
      " 25  Guests Included                 132581 non-null  float64\n",
      " 26  Extra People                    132581 non-null  float64\n",
      " 27  Minimum Nights                  132581 non-null  float64\n",
      " 28  Maximum Nights                  132581 non-null  float64\n",
      " 29  Availability 30                 132581 non-null  float64\n",
      " 30  Availability 60                 132581 non-null  float64\n",
      " 31  Availability 90                 132581 non-null  float64\n",
      " 32  Availability 365                132581 non-null  float64\n",
      " 33  Number of Reviews               132581 non-null  float64\n",
      " 34  Review Scores Rating            101485 non-null  float64\n",
      " 35  Review Scores Accuracy          101262 non-null  float64\n",
      " 36  Review Scores Cleanliness       101311 non-null  float64\n",
      " 37  Review Scores Checkin           101182 non-null  float64\n",
      " 38  Review Scores Communication     101312 non-null  float64\n",
      " 39  Review Scores Location          101182 non-null  float64\n",
      " 40  Review Scores Value             101156 non-null  float64\n",
      " 41  Cancellation Policy             132581 non-null  object \n",
      " 42  Calculated host listings count  132581 non-null  float64\n",
      " 43  Reviews per Month               102948 non-null  float64\n",
      "dtypes: float64(31), int64(1), object(12)\n",
      "memory usage: 45.5+ MB\n"
     ]
    }
   ],
   "source": [
    "df2.info()"
   ]
  },
  {
   "cell_type": "code",
   "execution_count": 36,
   "id": "7ec7faf7",
   "metadata": {},
   "outputs": [
    {
     "data": {
      "text/plain": [
       "array(['within an hour', 'within a day', 'within a few hours', nan,\n",
       "       'a few days or more'], dtype=object)"
      ]
     },
     "execution_count": 36,
     "metadata": {},
     "output_type": "execute_result"
    }
   ],
   "source": [
    "df2['Host Response Time'].unique()"
   ]
  },
  {
   "cell_type": "code",
   "execution_count": 37,
   "id": "645b5ec8",
   "metadata": {},
   "outputs": [
    {
     "data": {
      "text/plain": [
       "array([100.,  96.,  94.,  nan,  78.,  40.,  80.,  82.,  99.,  86.,  91.,\n",
       "        70.,  84.,  90.,  89.,  63.,  93.,  97.,  88.,  73.,  95.,   0.,\n",
       "        75.,  98.,  50.,  57.,  60.,  83.,  87.,  92.,  72.,  56.,  43.,\n",
       "        71.,  85.,  67.,  33.,  25.,  30.,  79.,  81.,  74.,  20.,  69.,\n",
       "        66.,  44.,  47.,  65.,  48.,  17.,  64.,  29.,  68.,  46.,  61.,\n",
       "        14.,  53.,  77.,  58.,  38.,  41.,  76.,  52.,  36.,  55.,  13.,\n",
       "        42.,  51.,  59.,  11.,  54.,  10.,  45.,  62.,   8.,  23.,   9.,\n",
       "        27.,   7.,  32.,  31.,  35.,  39.,  19.,   4.,  22.,  18.,   5.,\n",
       "        15.,   6.,  24.,   3.,  28.,  49.,  34.])"
      ]
     },
     "execution_count": 37,
     "metadata": {},
     "output_type": "execute_result"
    }
   ],
   "source": [
    "df2['Host Response Rate'].unique()      "
   ]
  },
  {
   "cell_type": "code",
   "execution_count": 38,
   "id": "fb85a1df",
   "metadata": {},
   "outputs": [
    {
     "data": {
      "text/plain": [
       "array(['Humboldt Park', nan, 'Garfield Park', ...,\n",
       "       'Southeast Oakland Hills', 'Chillum, MD', 'Richmond Annex'],\n",
       "      dtype=object)"
      ]
     },
     "execution_count": 38,
     "metadata": {},
     "output_type": "execute_result"
    }
   ],
   "source": [
    "df2['Neighbourhood'].unique()                       # nlp lagegi dono me so we will drop"
   ]
  },
  {
   "cell_type": "code",
   "execution_count": 39,
   "id": "25ace0df",
   "metadata": {},
   "outputs": [
    {
     "data": {
      "text/plain": [
       "array(['Humboldt Park', 'Garfield Park', 'Near West Side', ...,\n",
       "       'Golden Glades', 'Lahaina', 'Rose Garden'], dtype=object)"
      ]
     },
     "execution_count": 39,
     "metadata": {},
     "output_type": "execute_result"
    }
   ],
   "source": [
    "df2['Host Neighbourhood'].unique()"
   ]
  },
  {
   "cell_type": "code",
   "execution_count": 43,
   "id": "56968ab2",
   "metadata": {},
   "outputs": [],
   "source": [
    "df2.drop(['Neighbourhood','Host Neighbourhood','Square Feet','Weekly Price','Monthly Price'],axis=1,inplace=True)\n"
   ]
  },
  {
   "cell_type": "code",
   "execution_count": 44,
   "id": "8b1c374f",
   "metadata": {},
   "outputs": [
    {
     "data": {
      "text/plain": [
       "(132581, 39)"
      ]
     },
     "execution_count": 44,
     "metadata": {},
     "output_type": "execute_result"
    }
   ],
   "source": [
    "df2.shape"
   ]
  },
  {
   "cell_type": "code",
   "execution_count": 45,
   "id": "709a5605",
   "metadata": {},
   "outputs": [
    {
     "data": {
      "text/plain": [
       "Security Deposit                  56.767561\n",
       "Cleaning Fee                      27.537128\n",
       "Review Scores Value               23.702491\n",
       "Review Scores Location            23.682881\n",
       "Review Scores Checkin             23.682881\n",
       "Review Scores Accuracy            23.622540\n",
       "Review Scores Cleanliness         23.585582\n",
       "Review Scores Communication       23.584827\n",
       "Review Scores Rating              23.454341\n",
       "Host Response Time                22.580913\n",
       "Host Response Rate                22.580913\n",
       "Reviews per Month                 22.350865\n",
       "Zipcode                            1.255836\n",
       "Market                             0.761044\n",
       "Bathrooms                          0.316033\n",
       "Host Listings Count                0.214963\n",
       "Host Since                         0.214963\n",
       "Host Total Listings Count          0.214963\n",
       "Beds                               0.165936\n",
       "Bedrooms                           0.117664\n",
       "Accommodates                       0.046010\n",
       "Property Type                      0.004526\n",
       "State                              0.002263\n",
       "Number of Reviews                  0.000000\n",
       "Calculated host listings count     0.000000\n",
       "Cancellation Policy                0.000000\n",
       "Neighbourhood Cleansed             0.000000\n",
       "Availability 60                    0.000000\n",
       "Availability 365                   0.000000\n",
       "Availability 90                    0.000000\n",
       "Availability 30                    0.000000\n",
       "Maximum Nights                     0.000000\n",
       "Minimum Nights                     0.000000\n",
       "Extra People                       0.000000\n",
       "Guests Included                    0.000000\n",
       "Room Type                          0.000000\n",
       "Price                              0.000000\n",
       "Bed Type                           0.000000\n",
       "Host ID                            0.000000\n",
       "dtype: float64"
      ]
     },
     "execution_count": 45,
     "metadata": {},
     "output_type": "execute_result"
    }
   ],
   "source": [
    "((df2.isnull().sum()*100)/len(df2)).sort_values(ascending=False)"
   ]
  },
  {
   "cell_type": "code",
   "execution_count": 46,
   "id": "b97b1625",
   "metadata": {},
   "outputs": [
    {
     "data": {
      "text/plain": [
       "(132581, 39)"
      ]
     },
     "execution_count": 46,
     "metadata": {},
     "output_type": "execute_result"
    }
   ],
   "source": [
    "df2.shape"
   ]
  },
  {
   "cell_type": "code",
   "execution_count": 47,
   "id": "3e1fa0a3",
   "metadata": {},
   "outputs": [],
   "source": [
    "df2 = df2[df2['State'].notna()]"
   ]
  },
  {
   "cell_type": "code",
   "execution_count": 48,
   "id": "578880ed",
   "metadata": {},
   "outputs": [
    {
     "data": {
      "text/plain": [
       "(132578, 39)"
      ]
     },
     "execution_count": 48,
     "metadata": {},
     "output_type": "execute_result"
    }
   ],
   "source": [
    "df2.shape"
   ]
  },
  {
   "cell_type": "code",
   "execution_count": 49,
   "id": "bae95f56",
   "metadata": {},
   "outputs": [],
   "source": [
    "df2 = df2[df2['Property Type'].notna()]"
   ]
  },
  {
   "cell_type": "code",
   "execution_count": 51,
   "id": "bf1470af",
   "metadata": {},
   "outputs": [],
   "source": [
    "df2 = df2[df2['Accommodates'].notna()]"
   ]
  },
  {
   "cell_type": "code",
   "execution_count": 52,
   "id": "3e7ea605",
   "metadata": {},
   "outputs": [],
   "source": [
    "df2 = df2[df2['Bedrooms'].notna()]"
   ]
  },
  {
   "cell_type": "code",
   "execution_count": 53,
   "id": "aec6be65",
   "metadata": {},
   "outputs": [],
   "source": [
    "df2 = df2[df2['Beds'].notna()]"
   ]
  },
  {
   "cell_type": "code",
   "execution_count": 54,
   "id": "b54e5dab",
   "metadata": {},
   "outputs": [],
   "source": [
    "df2 = df2[df2['Host Total Listings Count'].notna()]"
   ]
  },
  {
   "cell_type": "code",
   "execution_count": 55,
   "id": "9647fa3a",
   "metadata": {},
   "outputs": [],
   "source": [
    "df2 = df2[df2['Host Since'].notna()]"
   ]
  },
  {
   "cell_type": "code",
   "execution_count": 56,
   "id": "7cf0a3b4",
   "metadata": {},
   "outputs": [],
   "source": [
    "df2 = df2[df2['Host Listings Count'].notna()]"
   ]
  },
  {
   "cell_type": "code",
   "execution_count": 57,
   "id": "ed557086",
   "metadata": {},
   "outputs": [],
   "source": [
    "df2 = df2[df2['Bathrooms'].notna()]"
   ]
  },
  {
   "cell_type": "code",
   "execution_count": 58,
   "id": "85fa15a6",
   "metadata": {},
   "outputs": [],
   "source": [
    "df2 = df2[df2['Market'].notna()]"
   ]
  },
  {
   "cell_type": "code",
   "execution_count": 59,
   "id": "e1d4d9f7",
   "metadata": {},
   "outputs": [
    {
     "data": {
      "text/plain": [
       "(130571, 39)"
      ]
     },
     "execution_count": 59,
     "metadata": {},
     "output_type": "execute_result"
    }
   ],
   "source": [
    "df2.shape"
   ]
  },
  {
   "cell_type": "code",
   "execution_count": 60,
   "id": "7d450bc7",
   "metadata": {},
   "outputs": [
    {
     "data": {
      "text/plain": [
       "2007"
      ]
     },
     "execution_count": 60,
     "metadata": {},
     "output_type": "execute_result"
    }
   ],
   "source": [
    "132578-130571"
   ]
  },
  {
   "cell_type": "code",
   "execution_count": 75,
   "id": "0665d026",
   "metadata": {},
   "outputs": [
    {
     "data": {
      "text/plain": [
       "Security Deposit                  56.795154\n",
       "Cleaning Fee                      27.472410\n",
       "Review Scores Value               23.388042\n",
       "Review Scores Location            23.368129\n",
       "Review Scores Checkin             23.368129\n",
       "Review Scores Accuracy            23.306094\n",
       "Review Scores Cleanliness         23.270098\n",
       "Review Scores Communication       23.268567\n",
       "Review Scores Rating              23.139135\n",
       "Host Response Time                22.393947\n",
       "Host Response Rate                22.393947\n",
       "Reviews per Month                 22.053136\n",
       "Zipcode                            1.232280\n",
       "Accommodates                       0.000000\n",
       "Availability 90                    0.000000\n",
       "Calculated host listings count     0.000000\n",
       "Cancellation Policy                0.000000\n",
       "Host Listings Count                0.000000\n",
       "Host Total Listings Count          0.000000\n",
       "Neighbourhood Cleansed             0.000000\n",
       "State                              0.000000\n",
       "Market                             0.000000\n",
       "Property Type                      0.000000\n",
       "Number of Reviews                  0.000000\n",
       "Availability 365                   0.000000\n",
       "Availability 60                    0.000000\n",
       "Bathrooms                          0.000000\n",
       "Availability 30                    0.000000\n",
       "Maximum Nights                     0.000000\n",
       "Minimum Nights                     0.000000\n",
       "Extra People                       0.000000\n",
       "Guests Included                    0.000000\n",
       "Host Since                         0.000000\n",
       "Room Type                          0.000000\n",
       "Price                              0.000000\n",
       "Bed Type                           0.000000\n",
       "Beds                               0.000000\n",
       "Bedrooms                           0.000000\n",
       "Host ID                            0.000000\n",
       "dtype: float64"
      ]
     },
     "execution_count": 75,
     "metadata": {},
     "output_type": "execute_result"
    }
   ],
   "source": [
    "((df2.isnull().sum()*100)/len(df2)).sort_values(ascending=False)"
   ]
  },
  {
   "cell_type": "code",
   "execution_count": 85,
   "id": "64bfde84",
   "metadata": {},
   "outputs": [
    {
     "data": {
      "text/plain": [
       "Index(['Host Response Rate', 'Accommodates', 'Bathrooms', 'Bedrooms', 'Beds',\n",
       "       'Price', 'Security Deposit', 'Cleaning Fee', 'Guests Included',\n",
       "       'Extra People', 'Minimum Nights', 'Maximum Nights', 'Availability 30',\n",
       "       'Availability 60', 'Availability 90', 'Availability 365',\n",
       "       'Number of Reviews', 'Review Scores Rating', 'Review Scores Accuracy',\n",
       "       'Review Scores Cleanliness', 'Review Scores Checkin',\n",
       "       'Review Scores Communication', 'Review Scores Location',\n",
       "       'Review Scores Value', 'Calculated host listings count',\n",
       "       'Reviews per Month'],\n",
       "      dtype='object')"
      ]
     },
     "execution_count": 85,
     "metadata": {},
     "output_type": "execute_result"
    }
   ],
   "source": [
    "# now dealing with the null values\n",
    "df_num=df2.select_dtypes(include=np.number)\n",
    "df_num.columns"
   ]
  },
  {
   "cell_type": "code",
   "execution_count": 78,
   "id": "58c5c663",
   "metadata": {},
   "outputs": [],
   "source": [
    "df2.drop('Host ID',axis=1,inplace=True)"
   ]
  },
  {
   "cell_type": "code",
   "execution_count": 80,
   "id": "511b1376",
   "metadata": {},
   "outputs": [
    {
     "data": {
      "text/plain": [
       "array([2.000e+00, 1.000e+00, 3.000e+00, 1.600e+01, 9.000e+00, 4.000e+00,\n",
       "       7.000e+00, 1.200e+01, 6.000e+00, 1.900e+01, 2.300e+01, 2.700e+01,\n",
       "       2.400e+01, 2.100e+01, 1.000e+01, 1.500e+01, 5.000e+00, 1.100e+01,\n",
       "       2.500e+01, 3.600e+01, 2.000e+01, 1.800e+01, 8.000e+00, 1.300e+01,\n",
       "       6.000e+01, 8.200e+01, 2.120e+02, 2.600e+01, 5.400e+01, 9.500e+01,\n",
       "       4.720e+02, 3.720e+02, 1.190e+02, 3.070e+02, 0.000e+00, 3.000e+01,\n",
       "       1.030e+02, 1.700e+01, 1.400e+01, 2.900e+01, 5.280e+02, 3.500e+01,\n",
       "       3.300e+01, 2.200e+01, 3.400e+01, 4.300e+01, 4.200e+01, 1.730e+02,\n",
       "       6.080e+02, 5.520e+02, 5.200e+01, 7.490e+02, 3.630e+02, 3.700e+01,\n",
       "       5.580e+02, 3.130e+02, 1.850e+02, 2.330e+02, 2.950e+02, 8.500e+01,\n",
       "       5.000e+01, 3.410e+02, 1.870e+02, 2.800e+01, 4.790e+02, 6.900e+01,\n",
       "       1.780e+02, 1.620e+02, 6.200e+01, 4.500e+01, 5.600e+01, 7.200e+01,\n",
       "       4.250e+02, 1.770e+02, 4.100e+01, 4.700e+01, 1.050e+02, 3.540e+02,\n",
       "       5.020e+02, 1.690e+02, 3.390e+02, 5.300e+01, 6.090e+02, 8.790e+02,\n",
       "       3.800e+01, 6.120e+02, 4.800e+01, 3.900e+01, 1.220e+02, 3.200e+01,\n",
       "       6.320e+02, 2.390e+02, 1.180e+02, 6.890e+02, 4.400e+01, 3.420e+02,\n",
       "       1.480e+02, 6.500e+01, 8.550e+02, 3.100e+01, 4.000e+01, 1.280e+02,\n",
       "       2.200e+02, 8.370e+02, 1.920e+02, 6.100e+01, 1.114e+03, 6.280e+02,\n",
       "       2.140e+02, 5.570e+02, 7.000e+01, 8.000e+01, 6.200e+02, 4.280e+02,\n",
       "       7.900e+01, 9.900e+01, 4.630e+02, 1.290e+02, 5.470e+02, 1.410e+02,\n",
       "       1.500e+02, 2.240e+02, 1.230e+02, 1.830e+02, 5.700e+01, 2.670e+02,\n",
       "       8.390e+02, 4.600e+01, 2.600e+02, 7.560e+02, 2.360e+02, 7.100e+01,\n",
       "       1.020e+02, 2.740e+02, 8.430e+02, 1.010e+02, 1.790e+02, 1.910e+02,\n",
       "       6.600e+01, 2.160e+02, 7.600e+01, 8.560e+02, 1.026e+03, 5.100e+01,\n",
       "       3.290e+02, 2.350e+02, 7.660e+02, 8.600e+01, 2.250e+02, 7.400e+01,\n",
       "       1.720e+02, 7.700e+01, 8.210e+02, 6.490e+02, 3.110e+02, 8.400e+01,\n",
       "       1.390e+02, 2.780e+02, 2.750e+02, 1.940e+02, 6.400e+01, 5.900e+01,\n",
       "       5.350e+02, 8.690e+02, 1.360e+02, 2.590e+02, 6.500e+02, 8.300e+01,\n",
       "       2.870e+02, 7.400e+02, 7.300e+01, 5.600e+02, 2.490e+02, 1.630e+02,\n",
       "       7.840e+02, 1.330e+02, 3.740e+02, 7.180e+02, 4.960e+02, 3.320e+02,\n",
       "       2.300e+02, 1.350e+02, 1.540e+02, 5.980e+02, 9.600e+01])"
      ]
     },
     "execution_count": 80,
     "metadata": {},
     "output_type": "execute_result"
    }
   ],
   "source": [
    "df2['Host Total Listings Count'].unique() # this column is of no use as it has values in exponential"
   ]
  },
  {
   "cell_type": "code",
   "execution_count": 81,
   "id": "c9eb0320",
   "metadata": {},
   "outputs": [],
   "source": [
    "df2.drop('Host Total Listings Count',axis=1,inplace=True)"
   ]
  },
  {
   "cell_type": "code",
   "execution_count": 83,
   "id": "074bf08c",
   "metadata": {},
   "outputs": [
    {
     "data": {
      "text/plain": [
       "array([2.000e+00, 1.000e+00, 3.000e+00, 1.600e+01, 9.000e+00, 4.000e+00,\n",
       "       7.000e+00, 1.200e+01, 6.000e+00, 1.900e+01, 2.300e+01, 2.700e+01,\n",
       "       2.400e+01, 2.100e+01, 1.000e+01, 1.500e+01, 5.000e+00, 1.100e+01,\n",
       "       2.500e+01, 3.600e+01, 2.000e+01, 1.800e+01, 8.000e+00, 1.300e+01,\n",
       "       6.000e+01, 8.200e+01, 2.120e+02, 2.600e+01, 5.400e+01, 9.500e+01,\n",
       "       4.720e+02, 3.720e+02, 1.190e+02, 3.070e+02, 0.000e+00, 3.000e+01,\n",
       "       1.030e+02, 1.700e+01, 1.400e+01, 2.900e+01, 5.280e+02, 3.500e+01,\n",
       "       3.300e+01, 2.200e+01, 3.400e+01, 4.300e+01, 4.200e+01, 1.730e+02,\n",
       "       6.080e+02, 5.520e+02, 5.200e+01, 7.490e+02, 3.630e+02, 3.700e+01,\n",
       "       5.580e+02, 3.130e+02, 1.850e+02, 2.330e+02, 2.950e+02, 8.500e+01,\n",
       "       5.000e+01, 3.410e+02, 1.870e+02, 2.800e+01, 4.790e+02, 6.900e+01,\n",
       "       1.780e+02, 1.620e+02, 6.200e+01, 4.500e+01, 5.600e+01, 7.200e+01,\n",
       "       4.250e+02, 1.770e+02, 4.100e+01, 4.700e+01, 1.050e+02, 3.540e+02,\n",
       "       5.020e+02, 1.690e+02, 3.390e+02, 5.300e+01, 6.090e+02, 8.790e+02,\n",
       "       3.800e+01, 6.120e+02, 4.800e+01, 3.900e+01, 1.220e+02, 3.200e+01,\n",
       "       6.320e+02, 2.390e+02, 1.180e+02, 6.890e+02, 4.400e+01, 3.420e+02,\n",
       "       1.480e+02, 6.500e+01, 8.550e+02, 3.100e+01, 4.000e+01, 1.280e+02,\n",
       "       2.200e+02, 8.370e+02, 1.920e+02, 6.100e+01, 1.114e+03, 6.280e+02,\n",
       "       2.140e+02, 5.570e+02, 7.000e+01, 8.000e+01, 6.200e+02, 4.280e+02,\n",
       "       7.900e+01, 9.900e+01, 4.630e+02, 1.290e+02, 5.470e+02, 1.410e+02,\n",
       "       1.500e+02, 2.240e+02, 1.230e+02, 1.830e+02, 5.700e+01, 2.670e+02,\n",
       "       8.390e+02, 4.600e+01, 2.600e+02, 7.560e+02, 2.360e+02, 7.100e+01,\n",
       "       1.020e+02, 2.740e+02, 8.430e+02, 1.010e+02, 1.790e+02, 1.910e+02,\n",
       "       6.600e+01, 2.160e+02, 7.600e+01, 8.560e+02, 1.026e+03, 5.100e+01,\n",
       "       3.290e+02, 2.350e+02, 7.660e+02, 8.600e+01, 2.250e+02, 7.400e+01,\n",
       "       1.720e+02, 7.700e+01, 8.210e+02, 6.490e+02, 3.110e+02, 8.400e+01,\n",
       "       1.390e+02, 2.780e+02, 2.750e+02, 1.940e+02, 6.400e+01, 5.900e+01,\n",
       "       5.350e+02, 8.690e+02, 1.360e+02, 2.590e+02, 6.500e+02, 8.300e+01,\n",
       "       2.870e+02, 7.400e+02, 7.300e+01, 5.600e+02, 2.490e+02, 1.630e+02,\n",
       "       7.840e+02, 1.330e+02, 3.740e+02, 7.180e+02, 4.960e+02, 3.320e+02,\n",
       "       2.300e+02, 1.350e+02, 1.540e+02, 5.980e+02, 9.600e+01])"
      ]
     },
     "execution_count": 83,
     "metadata": {},
     "output_type": "execute_result"
    }
   ],
   "source": [
    "df2['Host Listings Count'].unique()  # this column too"
   ]
  },
  {
   "cell_type": "code",
   "execution_count": 84,
   "id": "16f81d02",
   "metadata": {},
   "outputs": [],
   "source": [
    "df2.drop('Host Listings Count',axis=1,inplace=True)"
   ]
  },
  {
   "cell_type": "code",
   "execution_count": 86,
   "id": "c7cf7883",
   "metadata": {},
   "outputs": [
    {
     "data": {
      "text/plain": [
       "array([ 1.,  2.,  6.,  4.,  5.,  3., 10.,  7.,  8., 16.,  0., 12., 14.,\n",
       "       11., 13.,  9., 15., 18., 20.])"
      ]
     },
     "execution_count": 86,
     "metadata": {},
     "output_type": "execute_result"
    }
   ],
   "source": [
    "df['Guests Included'].unique()"
   ]
  },
  {
   "cell_type": "code",
   "execution_count": 87,
   "id": "8d2b8a71",
   "metadata": {},
   "outputs": [
    {
     "data": {
      "text/plain": [
       "array([  0.,  25.,  15.,  10.,  20.,  30.,  50.,  35., 100.,  19.,  40.,\n",
       "         8.,  18.,   9.,   5.,  75., 200.,  29.,  39.,  12.,  70.,  17.,\n",
       "        24.,  65.,  45.,  49.,   7.,  14.,  33.,  98.,  22., 185., 250.,\n",
       "        46.,  59., 130.,  60.,  95., 150.,  27.,  34., 129.,  36.,  11.,\n",
       "       120., 125., 300.,  47.,  80.,  85.,  28.,   6.,  58.,  44.,  99.,\n",
       "        26.,  55.,  32.,  13., 199.,  16., 145.,  90.,  86.,  21.,  42.,\n",
       "       189.,  69., 169.,  83.,  38.,  56.,  23., 140.,  53.,  79., 275.,\n",
       "       220., 175.,  48.,  92.,  31., 215.,  89.,  43.,  37., 299., 280.,\n",
       "       160., 500., 115.,  88.,  57.,  66.,  62.,  82., 225.,  67., 149.,\n",
       "       105.,  74.,  41., 176., 155.,  68.,  51., 179.,  72., 180.,  52.,\n",
       "        63., 170.,  64., 255.,   1.,  84.,  71.,  93., 101.,  77., 111.,\n",
       "        54.,  97., 110., 135., 285.,  94., 164., 190., 148., 165., 295.,\n",
       "        87.,  76., 195.])"
      ]
     },
     "execution_count": 87,
     "metadata": {},
     "output_type": "execute_result"
    }
   ],
   "source": [
    "df['Extra People'].unique()"
   ]
  },
  {
   "cell_type": "code",
   "execution_count": null,
   "id": "553f1695",
   "metadata": {},
   "outputs": [],
   "source": [
    "#these both the columns are of no use"
   ]
  },
  {
   "cell_type": "code",
   "execution_count": 89,
   "id": "4085ffdf",
   "metadata": {},
   "outputs": [],
   "source": [
    "df2.rename({'Extra People':'Extra_people','Guests Included':'Guest_included'},axis=1,inplace=True)"
   ]
  },
  {
   "cell_type": "code",
   "execution_count": null,
   "id": "480a5744",
   "metadata": {},
   "outputs": [],
   "source": [
    "# ho: extra people dont have ane effect on price\n",
    "#ha : extra people have effects on price"
   ]
  },
  {
   "cell_type": "code",
   "execution_count": 90,
   "id": "1e05e329",
   "metadata": {},
   "outputs": [
    {
     "data": {
      "text/html": [
       "<div>\n",
       "<style scoped>\n",
       "    .dataframe tbody tr th:only-of-type {\n",
       "        vertical-align: middle;\n",
       "    }\n",
       "\n",
       "    .dataframe tbody tr th {\n",
       "        vertical-align: top;\n",
       "    }\n",
       "\n",
       "    .dataframe thead th {\n",
       "        text-align: right;\n",
       "    }\n",
       "</style>\n",
       "<table border=\"1\" class=\"dataframe\">\n",
       "  <thead>\n",
       "    <tr style=\"text-align: right;\">\n",
       "      <th></th>\n",
       "      <th>df</th>\n",
       "      <th>sum_sq</th>\n",
       "      <th>mean_sq</th>\n",
       "      <th>F</th>\n",
       "      <th>PR(&gt;F)</th>\n",
       "    </tr>\n",
       "  </thead>\n",
       "  <tbody>\n",
       "    <tr>\n",
       "      <th>Extra_people</th>\n",
       "      <td>1.0</td>\n",
       "      <td>2.378405e+07</td>\n",
       "      <td>2.378405e+07</td>\n",
       "      <td>1282.448826</td>\n",
       "      <td>1.691244e-279</td>\n",
       "    </tr>\n",
       "    <tr>\n",
       "      <th>Residual</th>\n",
       "      <td>130569.0</td>\n",
       "      <td>2.421507e+09</td>\n",
       "      <td>1.854580e+04</td>\n",
       "      <td>NaN</td>\n",
       "      <td>NaN</td>\n",
       "    </tr>\n",
       "  </tbody>\n",
       "</table>\n",
       "</div>"
      ],
      "text/plain": [
       "                    df        sum_sq       mean_sq            F         PR(>F)\n",
       "Extra_people       1.0  2.378405e+07  2.378405e+07  1282.448826  1.691244e-279\n",
       "Residual      130569.0  2.421507e+09  1.854580e+04          NaN            NaN"
      ]
     },
     "execution_count": 90,
     "metadata": {},
     "output_type": "execute_result"
    }
   ],
   "source": [
    "import statsmodels.formula.api as sma \n",
    "from statsmodels.stats.anova import anova_lm \n",
    "\n",
    "model = sma.ols('Price ~ Extra_people', data = df2).fit()\n",
    "anova_lm(model)"
   ]
  },
  {
   "cell_type": "code",
   "execution_count": 92,
   "id": "3931e390",
   "metadata": {},
   "outputs": [
    {
     "data": {
      "text/plain": [
       "Index(['Host Since', 'Host Response Time', 'Host Response Rate',\n",
       "       'Neighbourhood Cleansed', 'State', 'Zipcode', 'Market', 'Property Type',\n",
       "       'Room Type', 'Accommodates', 'Bathrooms', 'Bedrooms', 'Beds',\n",
       "       'Bed Type', 'Price', 'Security Deposit', 'Cleaning Fee',\n",
       "       'Guest_included', 'Extra_people', 'Minimum Nights', 'Maximum Nights',\n",
       "       'Availability 30', 'Availability 60', 'Availability 90',\n",
       "       'Availability 365', 'Number of Reviews', 'Review Scores Rating',\n",
       "       'Review Scores Accuracy', 'Review Scores Cleanliness',\n",
       "       'Review Scores Checkin', 'Review Scores Communication',\n",
       "       'Review Scores Location', 'Review Scores Value', 'Cancellation Policy',\n",
       "       'Calculated host listings count', 'Reviews per Month'],\n",
       "      dtype='object')"
      ]
     },
     "execution_count": 92,
     "metadata": {},
     "output_type": "execute_result"
    }
   ],
   "source": [
    "df2.columns"
   ]
  },
  {
   "cell_type": "code",
   "execution_count": null,
   "id": "2227a3d3",
   "metadata": {},
   "outputs": [],
   "source": []
  },
  {
   "cell_type": "code",
   "execution_count": 96,
   "id": "8c7c0876",
   "metadata": {},
   "outputs": [
    {
     "data": {
      "text/html": [
       "<div>\n",
       "<style scoped>\n",
       "    .dataframe tbody tr th:only-of-type {\n",
       "        vertical-align: middle;\n",
       "    }\n",
       "\n",
       "    .dataframe tbody tr th {\n",
       "        vertical-align: top;\n",
       "    }\n",
       "\n",
       "    .dataframe thead th {\n",
       "        text-align: right;\n",
       "    }\n",
       "</style>\n",
       "<table border=\"1\" class=\"dataframe\">\n",
       "  <thead>\n",
       "    <tr style=\"text-align: right;\">\n",
       "      <th></th>\n",
       "      <th>df</th>\n",
       "      <th>sum_sq</th>\n",
       "      <th>mean_sq</th>\n",
       "      <th>F</th>\n",
       "      <th>PR(&gt;F)</th>\n",
       "    </tr>\n",
       "  </thead>\n",
       "  <tbody>\n",
       "    <tr>\n",
       "      <th>Extra_people</th>\n",
       "      <td>1.0</td>\n",
       "      <td>2.378405e+07</td>\n",
       "      <td>2.378405e+07</td>\n",
       "      <td>1282.448826</td>\n",
       "      <td>1.691244e-279</td>\n",
       "    </tr>\n",
       "    <tr>\n",
       "      <th>Residual</th>\n",
       "      <td>130569.0</td>\n",
       "      <td>2.421507e+09</td>\n",
       "      <td>1.854580e+04</td>\n",
       "      <td>NaN</td>\n",
       "      <td>NaN</td>\n",
       "    </tr>\n",
       "  </tbody>\n",
       "</table>\n",
       "</div>"
      ],
      "text/plain": [
       "                    df        sum_sq       mean_sq            F         PR(>F)\n",
       "Extra_people       1.0  2.378405e+07  2.378405e+07  1282.448826  1.691244e-279\n",
       "Residual      130569.0  2.421507e+09  1.854580e+04          NaN            NaN"
      ]
     },
     "execution_count": 96,
     "metadata": {},
     "output_type": "execute_result"
    }
   ],
   "source": [
    "import statsmodels.formula.api as sma \n",
    "from statsmodels.stats.anova import anova_lm \n",
    "                                                         # p value si less than 0.05 we can say thaat extra people willhave diffrenet effect on price\n",
    "model = sma.ols('Price ~ Extra_people', data = df2).fit()\n",
    "anova_lm(model)"
   ]
  },
  {
   "cell_type": "code",
   "execution_count": 97,
   "id": "dc0e098b",
   "metadata": {},
   "outputs": [],
   "source": [
    "df2.drop('Guest_included',axis=1,inplace=True)"
   ]
  },
  {
   "cell_type": "code",
   "execution_count": 98,
   "id": "284ec427",
   "metadata": {},
   "outputs": [],
   "source": [
    "df_num=df2.select_dtypes(include=np.number)"
   ]
  },
  {
   "cell_type": "code",
   "execution_count": 99,
   "id": "5f2a10b3",
   "metadata": {},
   "outputs": [
    {
     "data": {
      "text/plain": [
       "Index(['Host Response Rate', 'Accommodates', 'Bathrooms', 'Bedrooms', 'Beds',\n",
       "       'Price', 'Security Deposit', 'Cleaning Fee', 'Extra_people',\n",
       "       'Minimum Nights', 'Maximum Nights', 'Availability 30',\n",
       "       'Availability 60', 'Availability 90', 'Availability 365',\n",
       "       'Number of Reviews', 'Review Scores Rating', 'Review Scores Accuracy',\n",
       "       'Review Scores Cleanliness', 'Review Scores Checkin',\n",
       "       'Review Scores Communication', 'Review Scores Location',\n",
       "       'Review Scores Value', 'Calculated host listings count',\n",
       "       'Reviews per Month'],\n",
       "      dtype='object')"
      ]
     },
     "execution_count": 99,
     "metadata": {},
     "output_type": "execute_result"
    }
   ],
   "source": [
    "df_num.columns"
   ]
  },
  {
   "cell_type": "code",
   "execution_count": 102,
   "id": "2b40322f",
   "metadata": {},
   "outputs": [
    {
     "data": {
      "text/plain": [
       "Ttest_indResult(statistic=22.727730138506452, pvalue=3.0790777532135613e-114)"
      ]
     },
     "execution_count": 102,
     "metadata": {},
     "output_type": "execute_result"
    }
   ],
   "source": [
    "import scipy.stats as stats\n",
    "stats.ttest_ind(df2['Availability 365'],df2['Price'])"
   ]
  },
  {
   "cell_type": "code",
   "execution_count": 103,
   "id": "03e33bc3",
   "metadata": {},
   "outputs": [
    {
     "data": {
      "text/plain": [
       "Ttest_indResult(statistic=-295.9058486867535, pvalue=0.0)"
      ]
     },
     "execution_count": 103,
     "metadata": {},
     "output_type": "execute_result"
    }
   ],
   "source": [
    "import scipy.stats as stats\n",
    "stats.ttest_ind(df2['Availability 90'],df2['Price'])"
   ]
  },
  {
   "cell_type": "code",
   "execution_count": 104,
   "id": "f1fe7997",
   "metadata": {},
   "outputs": [
    {
     "data": {
      "text/plain": [
       "Ttest_indResult(statistic=-342.9209899615569, pvalue=0.0)"
      ]
     },
     "execution_count": 104,
     "metadata": {},
     "output_type": "execute_result"
    }
   ],
   "source": [
    "import scipy.stats as stats\n",
    "stats.ttest_ind(df2['Availability 60'],df2['Price'])"
   ]
  },
  {
   "cell_type": "code",
   "execution_count": 105,
   "id": "972a7845",
   "metadata": {},
   "outputs": [
    {
     "data": {
      "text/plain": [
       "Ttest_indResult(statistic=-383.1667294589351, pvalue=0.0)"
      ]
     },
     "execution_count": 105,
     "metadata": {},
     "output_type": "execute_result"
    }
   ],
   "source": [
    "import scipy.stats as stats\n",
    "stats.ttest_ind(df2['Availability 30'],df2['Price'])"
   ]
  },
  {
   "cell_type": "code",
   "execution_count": 106,
   "id": "969b1293",
   "metadata": {},
   "outputs": [],
   "source": [
    "# we cantt remove all these as p value is less  than 0.05 "
   ]
  },
  {
   "cell_type": "code",
   "execution_count": 108,
   "id": "76d9c5f0",
   "metadata": {},
   "outputs": [
    {
     "data": {
      "text/html": [
       "<div>\n",
       "<style scoped>\n",
       "    .dataframe tbody tr th:only-of-type {\n",
       "        vertical-align: middle;\n",
       "    }\n",
       "\n",
       "    .dataframe tbody tr th {\n",
       "        vertical-align: top;\n",
       "    }\n",
       "\n",
       "    .dataframe thead th {\n",
       "        text-align: right;\n",
       "    }\n",
       "</style>\n",
       "<table border=\"1\" class=\"dataframe\">\n",
       "  <thead>\n",
       "    <tr style=\"text-align: right;\">\n",
       "      <th></th>\n",
       "      <th>Availability 30</th>\n",
       "      <th>Price</th>\n",
       "    </tr>\n",
       "  </thead>\n",
       "  <tbody>\n",
       "    <tr>\n",
       "      <th>Availability 30</th>\n",
       "      <td>1.000000</td>\n",
       "      <td>0.055439</td>\n",
       "    </tr>\n",
       "    <tr>\n",
       "      <th>Price</th>\n",
       "      <td>0.055439</td>\n",
       "      <td>1.000000</td>\n",
       "    </tr>\n",
       "  </tbody>\n",
       "</table>\n",
       "</div>"
      ],
      "text/plain": [
       "                 Availability 30     Price\n",
       "Availability 30         1.000000  0.055439\n",
       "Price                   0.055439  1.000000"
      ]
     },
     "execution_count": 108,
     "metadata": {},
     "output_type": "execute_result"
    }
   ],
   "source": [
    "df2.loc[:,['Availability 30','Price']].corr()"
   ]
  },
  {
   "cell_type": "code",
   "execution_count": 109,
   "id": "706c9b52",
   "metadata": {},
   "outputs": [
    {
     "data": {
      "text/html": [
       "<div>\n",
       "<style scoped>\n",
       "    .dataframe tbody tr th:only-of-type {\n",
       "        vertical-align: middle;\n",
       "    }\n",
       "\n",
       "    .dataframe tbody tr th {\n",
       "        vertical-align: top;\n",
       "    }\n",
       "\n",
       "    .dataframe thead th {\n",
       "        text-align: right;\n",
       "    }\n",
       "</style>\n",
       "<table border=\"1\" class=\"dataframe\">\n",
       "  <thead>\n",
       "    <tr style=\"text-align: right;\">\n",
       "      <th></th>\n",
       "      <th>Availability 365</th>\n",
       "      <th>Price</th>\n",
       "    </tr>\n",
       "  </thead>\n",
       "  <tbody>\n",
       "    <tr>\n",
       "      <th>Availability 365</th>\n",
       "      <td>1.000000</td>\n",
       "      <td>0.041704</td>\n",
       "    </tr>\n",
       "    <tr>\n",
       "      <th>Price</th>\n",
       "      <td>0.041704</td>\n",
       "      <td>1.000000</td>\n",
       "    </tr>\n",
       "  </tbody>\n",
       "</table>\n",
       "</div>"
      ],
      "text/plain": [
       "                  Availability 365     Price\n",
       "Availability 365          1.000000  0.041704\n",
       "Price                     0.041704  1.000000"
      ]
     },
     "execution_count": 109,
     "metadata": {},
     "output_type": "execute_result"
    }
   ],
   "source": [
    "df2.loc[:,['Availability 365','Price']].corr()  # correlation is suggesting no relationship with price but testing is showing "
   ]
  },
  {
   "cell_type": "code",
   "execution_count": 110,
   "id": "8477137e",
   "metadata": {},
   "outputs": [],
   "source": [
    "# now imputing null values"
   ]
  },
  {
   "cell_type": "code",
   "execution_count": 111,
   "id": "71459be9",
   "metadata": {},
   "outputs": [
    {
     "data": {
      "text/plain": [
       "1.0"
      ]
     },
     "execution_count": 111,
     "metadata": {},
     "output_type": "execute_result"
    }
   ],
   "source": [
    "df2['Beds'].median()"
   ]
  },
  {
   "cell_type": "code",
   "execution_count": 112,
   "id": "41d4f3e9",
   "metadata": {},
   "outputs": [
    {
     "data": {
      "text/plain": [
       "1.0"
      ]
     },
     "execution_count": 112,
     "metadata": {},
     "output_type": "execute_result"
    }
   ],
   "source": [
    "df2['Bedrooms'].median()"
   ]
  },
  {
   "cell_type": "code",
   "execution_count": 115,
   "id": "db475ab9",
   "metadata": {},
   "outputs": [
    {
     "data": {
      "text/plain": [
       "array([1. , 1.5, 2. , 3. , 3.5, 2.5, 5. , 4.5, 0.5, 4. , 0. , 5.5, 8. ,\n",
       "       6. , 6.5, 7. ])"
      ]
     },
     "execution_count": 115,
     "metadata": {},
     "output_type": "execute_result"
    }
   ],
   "source": [
    "df2['Bathrooms'].unique()"
   ]
  },
  {
   "cell_type": "code",
   "execution_count": 114,
   "id": "92f4b62d",
   "metadata": {},
   "outputs": [
    {
     "data": {
      "text/plain": [
       "array([ 1.,  2.,  3.,  5.,  0.,  4.,  6.,  7.,  8., 10.,  9.])"
      ]
     },
     "execution_count": 114,
     "metadata": {},
     "output_type": "execute_result"
    }
   ],
   "source": [
    "df2['Bedrooms'].unique()"
   ]
  },
  {
   "cell_type": "code",
   "execution_count": 119,
   "id": "c2fa8092",
   "metadata": {},
   "outputs": [
    {
     "data": {
      "text/plain": [
       "6184          House\n",
       "10501         Other\n",
       "30856         House\n",
       "30858         House\n",
       "31292         House\n",
       "74836         House\n",
       "90628     Apartment\n",
       "105827        House\n",
       "120197        House\n",
       "136872        House\n",
       "143221        House\n",
       "146564        Other\n",
       "189938        House\n",
       "202696        House\n",
       "230135        House\n",
       "232260        Other\n",
       "262103        House\n",
       "262125        House\n",
       "269597        House\n",
       "293622        House\n",
       "309901        House\n",
       "315963        House\n",
       "319005        House\n",
       "321064        House\n",
       "358131        House\n",
       "358148        House\n",
       "393258        Other\n",
       "401759        Other\n",
       "427015    Townhouse\n",
       "437209        House\n",
       "453011        House\n",
       "478688        House\n",
       "Name: Property Type, dtype: object"
      ]
     },
     "execution_count": 119,
     "metadata": {},
     "output_type": "execute_result"
    }
   ],
   "source": [
    "df2.loc[df2['Bathrooms']==6,'Property Type']   # kuch impute nhi kar payege ase search karke so will impute median"
   ]
  },
  {
   "cell_type": "code",
   "execution_count": 122,
   "id": "17d1bc18",
   "metadata": {},
   "outputs": [
    {
     "data": {
      "text/plain": [
       "Availability 60                       0\n",
       "Accommodates                          0\n",
       "Bathrooms                             0\n",
       "Bedrooms                              0\n",
       "Beds                                  0\n",
       "Price                                 0\n",
       "Number of Reviews                     0\n",
       "Availability 365                      0\n",
       "Extra_people                          0\n",
       "Minimum Nights                        0\n",
       "Maximum Nights                        0\n",
       "Availability 30                       0\n",
       "Calculated host listings count        0\n",
       "Availability 90                       0\n",
       "Reviews per Month                 28795\n",
       "Host Response Rate                29240\n",
       "Review Scores Rating              30213\n",
       "Review Scores Communication       30382\n",
       "Review Scores Cleanliness         30384\n",
       "Review Scores Accuracy            30431\n",
       "Review Scores Checkin             30512\n",
       "Review Scores Location            30512\n",
       "Review Scores Value               30538\n",
       "Cleaning Fee                      35871\n",
       "Security Deposit                  74158\n",
       "dtype: int64"
      ]
     },
     "execution_count": 122,
     "metadata": {},
     "output_type": "execute_result"
    }
   ],
   "source": [
    "df_num.isnull().sum().sort_values()"
   ]
  },
  {
   "cell_type": "code",
   "execution_count": 128,
   "id": "dbc83a96",
   "metadata": {},
   "outputs": [],
   "source": [
    "#creating imputer for imputing numeriacl variables"
   ]
  },
  {
   "cell_type": "code",
   "execution_count": 130,
   "id": "5d608c45",
   "metadata": {},
   "outputs": [],
   "source": [
    "from sklearn.impute import SimpleImputer\n",
    "imputer=SimpleImputer(missing_values=np.nan,strategy='median')\n",
    "imputer=imputer.fit(df_num)\n",
    "df_num1=imputer.transform(df_num)\n"
   ]
  },
  {
   "cell_type": "code",
   "execution_count": 132,
   "id": "79e2873d",
   "metadata": {},
   "outputs": [],
   "source": [
    "df_num2=pd.DataFrame(df_num1,columns=df_num.columns)"
   ]
  },
  {
   "cell_type": "code",
   "execution_count": 134,
   "id": "e0d0a634",
   "metadata": {},
   "outputs": [
    {
     "data": {
      "text/plain": [
       "Host Response Rate                0\n",
       "Accommodates                      0\n",
       "Bathrooms                         0\n",
       "Bedrooms                          0\n",
       "Beds                              0\n",
       "Price                             0\n",
       "Security Deposit                  0\n",
       "Cleaning Fee                      0\n",
       "Extra_people                      0\n",
       "Minimum Nights                    0\n",
       "Maximum Nights                    0\n",
       "Availability 30                   0\n",
       "Availability 60                   0\n",
       "Availability 90                   0\n",
       "Availability 365                  0\n",
       "Number of Reviews                 0\n",
       "Review Scores Rating              0\n",
       "Review Scores Accuracy            0\n",
       "Review Scores Cleanliness         0\n",
       "Review Scores Checkin             0\n",
       "Review Scores Communication       0\n",
       "Review Scores Location            0\n",
       "Review Scores Value               0\n",
       "Calculated host listings count    0\n",
       "Reviews per Month                 0\n",
       "dtype: int64"
      ]
     },
     "execution_count": 134,
     "metadata": {},
     "output_type": "execute_result"
    }
   ],
   "source": [
    "df_num2.isnull().sum() # we have dealt with all the issing values in the numericl column"
   ]
  },
  {
   "cell_type": "code",
   "execution_count": 135,
   "id": "c03773a1",
   "metadata": {},
   "outputs": [],
   "source": [
    "df_cat=df2.select_dtypes(include='object')"
   ]
  },
  {
   "cell_type": "code",
   "execution_count": 136,
   "id": "3bf41af4",
   "metadata": {},
   "outputs": [
    {
     "data": {
      "text/plain": [
       "Index(['Host Since', 'Host Response Time', 'Neighbourhood Cleansed', 'State',\n",
       "       'Zipcode', 'Market', 'Property Type', 'Room Type', 'Bed Type',\n",
       "       'Cancellation Policy'],\n",
       "      dtype='object')"
      ]
     },
     "execution_count": 136,
     "metadata": {},
     "output_type": "execute_result"
    }
   ],
   "source": [
    "df_cat.columns"
   ]
  },
  {
   "cell_type": "code",
   "execution_count": 137,
   "id": "078435c5",
   "metadata": {},
   "outputs": [
    {
     "data": {
      "text/plain": [
       "Host Since                    0\n",
       "Host Response Time        29240\n",
       "Neighbourhood Cleansed        0\n",
       "State                         0\n",
       "Zipcode                    1609\n",
       "Market                        0\n",
       "Property Type                 0\n",
       "Room Type                     0\n",
       "Bed Type                      0\n",
       "Cancellation Policy           0\n",
       "dtype: int64"
      ]
     },
     "execution_count": 137,
     "metadata": {},
     "output_type": "execute_result"
    }
   ],
   "source": [
    "df_cat.isnull().sum()"
   ]
  },
  {
   "cell_type": "code",
   "execution_count": 138,
   "id": "a5999f20",
   "metadata": {},
   "outputs": [],
   "source": [
    "# only two have null values"
   ]
  },
  {
   "cell_type": "code",
   "execution_count": 141,
   "id": "25c68bf9",
   "metadata": {},
   "outputs": [
    {
     "data": {
      "text/plain": [
       "0    within an hour\n",
       "dtype: object"
      ]
     },
     "execution_count": 141,
     "metadata": {},
     "output_type": "execute_result"
    }
   ],
   "source": [
    "df2['Host Response Time'].mode()"
   ]
  },
  {
   "cell_type": "code",
   "execution_count": 142,
   "id": "56f45181",
   "metadata": {},
   "outputs": [
    {
     "name": "stderr",
     "output_type": "stream",
     "text": [
      "C:\\Users\\SIDDHA~1\\AppData\\Local\\Temp/ipykernel_9688/3972624460.py:1: SettingWithCopyWarning: \n",
      "A value is trying to be set on a copy of a slice from a DataFrame.\n",
      "Try using .loc[row_indexer,col_indexer] = value instead\n",
      "\n",
      "See the caveats in the documentation: https://pandas.pydata.org/pandas-docs/stable/user_guide/indexing.html#returning-a-view-versus-a-copy\n",
      "  df_cat['Host Response Time']=df_cat['Host Response Time'].fillna('within an hour')\n"
     ]
    }
   ],
   "source": [
    "df_cat['Host Response Time']=df_cat['Host Response Time'].fillna('within an hour')"
   ]
  },
  {
   "cell_type": "code",
   "execution_count": 146,
   "id": "0be44ccd",
   "metadata": {},
   "outputs": [
    {
     "data": {
      "text/plain": [
       "0    11211\n",
       "dtype: object"
      ]
     },
     "execution_count": 146,
     "metadata": {},
     "output_type": "execute_result"
    }
   ],
   "source": [
    "df_cat['Zipcode'].mode()"
   ]
  },
  {
   "cell_type": "code",
   "execution_count": 147,
   "id": "d876c4f7",
   "metadata": {},
   "outputs": [
    {
     "name": "stderr",
     "output_type": "stream",
     "text": [
      "C:\\Users\\SIDDHA~1\\AppData\\Local\\Temp/ipykernel_9688/18202732.py:1: SettingWithCopyWarning: \n",
      "A value is trying to be set on a copy of a slice from a DataFrame.\n",
      "Try using .loc[row_indexer,col_indexer] = value instead\n",
      "\n",
      "See the caveats in the documentation: https://pandas.pydata.org/pandas-docs/stable/user_guide/indexing.html#returning-a-view-versus-a-copy\n",
      "  df_cat['Zipcode']=df_cat['Zipcode'].fillna(11211)\n"
     ]
    }
   ],
   "source": [
    "df_cat['Zipcode']=df_cat['Zipcode'].fillna(11211)"
   ]
  },
  {
   "cell_type": "code",
   "execution_count": 148,
   "id": "ad56d3fc",
   "metadata": {},
   "outputs": [],
   "source": [
    "from warnings import filterwarnings\n",
    "filterwarnings('ignore')"
   ]
  },
  {
   "cell_type": "code",
   "execution_count": 149,
   "id": "2bfba34b",
   "metadata": {},
   "outputs": [
    {
     "data": {
      "text/plain": [
       "Host Since                0\n",
       "Host Response Time        0\n",
       "Neighbourhood Cleansed    0\n",
       "State                     0\n",
       "Zipcode                   0\n",
       "Market                    0\n",
       "Property Type             0\n",
       "Room Type                 0\n",
       "Bed Type                  0\n",
       "Cancellation Policy       0\n",
       "dtype: int64"
      ]
     },
     "execution_count": 149,
     "metadata": {},
     "output_type": "execute_result"
    }
   ],
   "source": [
    "df_cat.isnull().sum()"
   ]
  },
  {
   "cell_type": "code",
   "execution_count": 156,
   "id": "f4ecae3d",
   "metadata": {},
   "outputs": [
    {
     "data": {
      "image/png": "[encoded data removed]",
      "text/plain": [
       "<Figure size 1440x720 with 25 Axes>"
      ]
     },
     "metadata": {
      "needs_background": "light"
     },
     "output_type": "display_data"
    }
   ],
   "source": [
    "a=5\n",
    "b=5\n",
    "c=1\n",
    "cols=df_num2.columns\n",
    "plt.figure(figsize=[20,10])\n",
    "for i in cols:\n",
    "    plt.subplot(a,b,c)\n",
    "    plt.title(i)\n",
    "    sns.distplot(df_num2.loc[:,i],color='coral')\n",
    "    c=c+1\n",
    "plt.tight_layout()\n",
    "plt.show()"
   ]
  },
  {
   "cell_type": "code",
   "execution_count": 155,
   "id": "a1ee06ce",
   "metadata": {},
   "outputs": [],
   "source": [
    "# as seen from the distplot data is not normal"
   ]
  },
  {
   "cell_type": "code",
   "execution_count": 157,
   "id": "82c6d752",
   "metadata": {},
   "outputs": [
    {
     "data": {
      "image/png": "[encoded data removed]",
      "text/plain": [
       "<Figure size 1440x720 with 25 Axes>"
      ]
     },
     "metadata": {
      "needs_background": "light"
     },
     "output_type": "display_data"
    }
   ],
   "source": [
    "a=5\n",
    "b=5\n",
    "c=1\n",
    "cols=df_num2.columns\n",
    "plt.figure(figsize=[20,10])\n",
    "for i in cols:\n",
    "    plt.subplot(a,b,c)\n",
    "    plt.title(i)\n",
    "    sns.boxplot(df_num2.loc[:,i],color='coral')\n",
    "    c=c+1\n",
    "plt.tight_layout()\n",
    "plt.show()\n",
    "    "
   ]
  },
  {
   "cell_type": "code",
   "execution_count": 158,
   "id": "b1188952",
   "metadata": {},
   "outputs": [],
   "source": [
    "# datacontains lot of outliers"
   ]
  },
  {
   "cell_type": "code",
   "execution_count": null,
   "id": "f1cdacd7",
   "metadata": {},
   "outputs": [],
   "source": []
  },
  {
   "cell_type": "code",
   "execution_count": 163,
   "id": "9fdf2d01",
   "metadata": {},
   "outputs": [
    {
     "data": {
      "text/plain": [
       "<BarContainer object of 3 artists>"
      ]
     },
     "execution_count": 163,
     "metadata": {},
     "output_type": "execute_result"
    },
    {
     "data": {
      "image/png": "[encoded data removed]",
      "text/plain": [
       "<Figure size 432x180 with 1 Axes>"
      ]
     },
     "metadata": {
      "needs_background": "light"
     },
     "output_type": "display_data"
    }
   ],
   "source": [
    "df1 = df2.groupby(\"Room Type\").count()[\"State\"].reset_index().sort_values(\"State\", ascending=False)\n",
    "\n",
    "plt.figure(figsize=(6,2.5))\n",
    "plt.barh(df1[\"Room Type\"], df1[\"State\"])           # entire home or apartments are the main listingson airbnb\n",
    "# we can conclude that people listed his  full apartment/entire house on rent on airbnb rather than giving single room "
   ]
  },
  {
   "cell_type": "code",
   "execution_count": null,
   "id": "fa58e868",
   "metadata": {},
   "outputs": [],
   "source": []
  },
  {
   "cell_type": "code",
   "execution_count": 174,
   "id": "d5258851",
   "metadata": {},
   "outputs": [
    {
     "data": {
      "text/plain": [
       "Index(['Host Response Rate', 'Accommodates', 'Bathrooms', 'Bedrooms', 'Beds',\n",
       "       'Price', 'Security Deposit', 'Cleaning Fee', 'Extra_people',\n",
       "       'Minimum Nights', 'Maximum Nights', 'Availability 30',\n",
       "       'Availability 60', 'Availability 90', 'Availability 365',\n",
       "       'Number of Reviews', 'Review Scores Rating', 'Review Scores Accuracy',\n",
       "       'Review Scores Cleanliness', 'Review Scores Checkin',\n",
       "       'Review Scores Communication', 'Review Scores Location',\n",
       "       'Review Scores Value', 'Calculated host listings count',\n",
       "       'Reviews per Month'],\n",
       "      dtype='object')"
      ]
     },
     "execution_count": 174,
     "metadata": {},
     "output_type": "execute_result"
    }
   ],
   "source": [
    "df_num2.columns"
   ]
  },
  {
   "cell_type": "code",
   "execution_count": 171,
   "id": "0b924ba4",
   "metadata": {},
   "outputs": [
    {
     "data": {
      "text/plain": [
       "<AxesSubplot:xlabel='Beds', ylabel='Price'>"
      ]
     },
     "execution_count": 171,
     "metadata": {},
     "output_type": "execute_result"
    },
    {
     "data": {
      "image/png": "[encoded data removed]",
      "text/plain": [
       "<Figure size 432x180 with 1 Axes>"
      ]
     },
     "metadata": {
      "needs_background": "light"
     },
     "output_type": "display_data"
    }
   ],
   "source": [
    "plt.figure(figsize=(6,2.5))\n",
    "plt.xticks(rotation=90)\n",
    "sns.barplot(x=df_num[\"Beds\"], y=df_num[\"Price\"],data=df_num) "
   ]
  },
  {
   "cell_type": "code",
   "execution_count": null,
   "id": "5e7d47df",
   "metadata": {},
   "outputs": [],
   "source": [
    "# as we can see that price depends upon no of beds but also on other things like location if itis not like that \n",
    "# then no of beds should have highest price"
   ]
  },
  {
   "cell_type": "code",
   "execution_count": 173,
   "id": "ff6b106f",
   "metadata": {},
   "outputs": [
    {
     "data": {
      "text/plain": [
       "<AxesSubplot:xlabel='Host Response Rate', ylabel='Price'>"
      ]
     },
     "execution_count": 173,
     "metadata": {},
     "output_type": "execute_result"
    },
    {
     "data": {
      "image/png": "[encoded data removed]",
      "text/plain": [
       "<Figure size 432x180 with 1 Axes>"
      ]
     },
     "metadata": {
      "needs_background": "light"
     },
     "output_type": "display_data"
    }
   ],
   "source": [
    "plt.figure(figsize=(6,2.5))\n",
    "plt.xticks(rotation=90)\n",
    "sns.scatterplot(x=df_num2[\"Host Response Rate\"], y=df_num2[\"Price\"],data=df_num2) "
   ]
  },
  {
   "cell_type": "code",
   "execution_count": 178,
   "id": "3b701fcb",
   "metadata": {},
   "outputs": [
    {
     "data": {
      "text/plain": [
       "<AxesSubplot:xlabel='Number of Reviews', ylabel='Price'>"
      ]
     },
     "execution_count": 178,
     "metadata": {},
     "output_type": "execute_result"
    },
    {
     "data": {
      "image/png": "[encoded data removed]",
      "text/plain": [
       "<Figure size 432x180 with 1 Axes>"
      ]
     },
     "metadata": {
      "needs_background": "light"
     },
     "output_type": "display_data"
    }
   ],
   "source": [
    "plt.figure(figsize=(6,2.5))\n",
    "plt.xticks(rotation=90)\n",
    "sns.barplot(x=df_num2[\"Number of Reviews\"], y=df_num2[\"Price\"],data=df_num2) "
   ]
  },
  {
   "cell_type": "code",
   "execution_count": 181,
   "id": "cf2168bc",
   "metadata": {},
   "outputs": [
    {
     "data": {
      "text/plain": [
       "array([100.,  96.,  97.,  95.,  87.,  93.,  91.,  98.,  92.,  94.,  88.,\n",
       "        80.,  99.,  90.,  83.,  79.,  86.,  81.,  74.,  89.,  68.,  82.,\n",
       "        30.,  85.,  73.,  84.,  60.,  78.,  72.,  70.,  75.,  77.,  67.,\n",
       "        40.,  20.,  76.,  71.,  65.,  53.,  64.,  55.,  63.,  50.,  69.,\n",
       "        47.,  27.,  66.,  52.,  49.,  56.,  57.,  54.,  48.,  62.,  43.,\n",
       "        46.,  58.,  44.,  35.,  33.])"
      ]
     },
     "execution_count": 181,
     "metadata": {},
     "output_type": "execute_result"
    }
   ],
   "source": [
    "df_num2['Review Scores Rating'].unique()"
   ]
  },
  {
   "cell_type": "code",
   "execution_count": 182,
   "id": "b9c11dd0",
   "metadata": {},
   "outputs": [
    {
     "data": {
      "text/plain": [
       "<AxesSubplot:xlabel='Review Scores Rating', ylabel='Price'>"
      ]
     },
     "execution_count": 182,
     "metadata": {},
     "output_type": "execute_result"
    },
    {
     "data": {
      "image/png": "[encoded data removed]",
      "text/plain": [
       "<Figure size 432x180 with 1 Axes>"
      ]
     },
     "metadata": {
      "needs_background": "light"
     },
     "output_type": "display_data"
    }
   ],
   "source": [
    "plt.figure(figsize=(6,2.5))\n",
    "plt.xticks(rotation=90)\n",
    "sns.barplot(x=df_num2['Review Scores Rating'], y=df_num2[\"Price\"],data=df_num2) "
   ]
  },
  {
   "cell_type": "code",
   "execution_count": 183,
   "id": "89ca6966",
   "metadata": {},
   "outputs": [],
   "source": [
    "log=np.log(df_num2.Price)\n",
    "sqrt=np.sqrt(df_num2.Price)\n",
    "recp=np.reciprocal(df_num2.Price)"
   ]
  },
  {
   "cell_type": "code",
   "execution_count": 184,
   "id": "def23509",
   "metadata": {},
   "outputs": [],
   "source": [
    "transformed=pd.DataFrame({'Log':log,'SQRT':sqrt,'RECP':recp})"
   ]
  },
  {
   "cell_type": "code",
   "execution_count": 185,
   "id": "df47f2b0",
   "metadata": {},
   "outputs": [
    {
     "data": {
      "text/plain": [
       "Log         NaN\n",
       "SQRT    1.41584\n",
       "RECP        NaN\n",
       "dtype: float64"
      ]
     },
     "execution_count": 185,
     "metadata": {},
     "output_type": "execute_result"
    }
   ],
   "source": [
    "transformed.skew()"
   ]
  },
  {
   "cell_type": "code",
   "execution_count": null,
   "id": "8422114f",
   "metadata": {},
   "outputs": [],
   "source": [
    "# jada kuch fark ni ara "
   ]
  },
  {
   "cell_type": "code",
   "execution_count": 187,
   "id": "fd589a9a",
   "metadata": {},
   "outputs": [],
   "source": [
    "#so we will go by standard scaler"
   ]
  },
  {
   "cell_type": "code",
   "execution_count": 197,
   "id": "59bf0e16",
   "metadata": {},
   "outputs": [],
   "source": [
    "from sklearn.preprocessing import StandardScaler"
   ]
  },
  {
   "cell_type": "code",
   "execution_count": 194,
   "id": "6e24610b",
   "metadata": {},
   "outputs": [],
   "source": [
    "from sklearn.preprocessing import PowerTransformer"
   ]
  },
  {
   "cell_type": "code",
   "execution_count": 198,
   "id": "0b916d9f",
   "metadata": {},
   "outputs": [],
   "source": [
    "sc=StandardScaler()\n",
    "a=sc.fit_transform(df_num2)"
   ]
  },
  {
   "cell_type": "code",
   "execution_count": 200,
   "id": "f44424c4",
   "metadata": {},
   "outputs": [],
   "source": [
    "df_num3=pd.DataFrame(a,columns=df_num2.columns)\n"
   ]
  },
  {
   "cell_type": "code",
   "execution_count": 203,
   "id": "466fdb07",
   "metadata": {},
   "outputs": [
    {
     "data": {
      "image/png": "[encoded data removed]",
      "text/plain": [
       "<Figure size 1440x720 with 25 Axes>"
      ]
     },
     "metadata": {
      "needs_background": "light"
     },
     "output_type": "display_data"
    }
   ],
   "source": [
    "a=5\n",
    "b=5\n",
    "c=1\n",
    "cols=df_num3.columns\n",
    "plt.figure(figsize=[20,10])\n",
    "for i in cols:\n",
    "    plt.subplot(a,b,c)\n",
    "    plt.title(i)\n",
    "    sns.distplot(df_num3.loc[:,i],color='coral')\n",
    "    c=c+1\n",
    "plt.tight_layout()\n",
    "plt.show()"
   ]
  },
  {
   "cell_type": "code",
   "execution_count": 204,
   "id": "d6d79811",
   "metadata": {},
   "outputs": [
    {
     "data": {
      "text/plain": [
       "Index(['Host Since', 'Host Response Time', 'Neighbourhood Cleansed', 'State',\n",
       "       'Zipcode', 'Market', 'Property Type', 'Room Type', 'Bed Type',\n",
       "       'Cancellation Policy'],\n",
       "      dtype='object')"
      ]
     },
     "execution_count": 204,
     "metadata": {},
     "output_type": "execute_result"
    }
   ],
   "source": [
    "df_cat.columns"
   ]
  },
  {
   "cell_type": "code",
   "execution_count": 214,
   "id": "edf83083",
   "metadata": {},
   "outputs": [],
   "source": [
    "df_cat1=df_cat.drop('Host Since',axis=1)"
   ]
  },
  {
   "cell_type": "code",
   "execution_count": 215,
   "id": "98e44211",
   "metadata": {},
   "outputs": [
    {
     "data": {
      "text/plain": [
       "array(['within an hour', 'within a day', 'within a few hours',\n",
       "       'a few days or more'], dtype=object)"
      ]
     },
     "execution_count": 215,
     "metadata": {},
     "output_type": "execute_result"
    }
   ],
   "source": [
    "df_cat1['Host Response Time'].unique()"
   ]
  },
  {
   "cell_type": "markdown",
   "id": "256be0f0",
   "metadata": {},
   "source": [
    "\n",
    "from sklearn.preprocessing import LabelEncoder\n",
    "\n",
    "le=LabelEncoder()"
   ]
  },
  {
   "cell_type": "markdown",
   "id": "1b07b314",
   "metadata": {},
   "source": [
    "a=le.fit_transform(df_cat1['Host Response Time'])  \n",
    "b=pd.DataFrame(a,columns=['Host Response Time'])    # we apply \n",
    "b['Host Response Time'].unique()"
   ]
  },
  {
   "cell_type": "code",
   "execution_count": 217,
   "id": "859a40b7",
   "metadata": {},
   "outputs": [],
   "source": [
    "hrt = {'within an hour':1,'within a few hours':2,'within a day':3,'a few days or more':4}\n",
    "df_cat1['Host Response Time ord'] = df_cat1['Host Response Time'].map(hrt)"
   ]
  },
  {
   "cell_type": "code",
   "execution_count": 219,
   "id": "0921a231",
   "metadata": {},
   "outputs": [],
   "source": [
    "df_cat1.drop('Host Response Time',axis=1,inplace=True)"
   ]
  },
  {
   "cell_type": "code",
   "execution_count": 224,
   "id": "887f2128",
   "metadata": {},
   "outputs": [
    {
     "data": {
      "text/plain": [
       "array(['strict', 'flexible', 'moderate', 'no_refunds', 'super_strict_30',\n",
       "       'super_strict_60', 'long_term'], dtype=object)"
      ]
     },
     "execution_count": 224,
     "metadata": {},
     "output_type": "execute_result"
    }
   ],
   "source": [
    "df_cat1['Cancellation Policy'].unique()"
   ]
  },
  {
   "cell_type": "code",
   "execution_count": 225,
   "id": "852801e5",
   "metadata": {},
   "outputs": [
    {
     "data": {
      "text/plain": [
       "<AxesSubplot:xlabel='Cancellation Policy', ylabel='Price'>"
      ]
     },
     "execution_count": 225,
     "metadata": {},
     "output_type": "execute_result"
    },
    {
     "data": {
      "image/png": "[encoded data removed]",
      "text/plain": [
       "<Figure size 432x288 with 1 Axes>"
      ]
     },
     "metadata": {
      "needs_background": "light"
     },
     "output_type": "display_data"
    }
   ],
   "source": [
    "plt.xticks(rotation=90)\n",
    "sns.barplot(x=df2['Cancellation Policy'],y=df2['Price'],data=df2) "
   ]
  },
  {
   "cell_type": "code",
   "execution_count": 226,
   "id": "8c926207",
   "metadata": {},
   "outputs": [],
   "source": [
    "#as we can see from the grapgh that super strict policy has more price of the property\n",
    "# we cans ay that price of the proprety is affected by cancellation policy\n"
   ]
  },
  {
   "cell_type": "code",
   "execution_count": 227,
   "id": "2d35ba24",
   "metadata": {},
   "outputs": [
    {
     "data": {
      "text/plain": [
       "array(['strict', 'flexible', 'moderate', 'no_refunds', 'super_strict_30',\n",
       "       'super_strict_60', 'long_term'], dtype=object)"
      ]
     },
     "execution_count": 227,
     "metadata": {},
     "output_type": "execute_result"
    }
   ],
   "source": [
    "df_cat1['Cancellation Policy'].unique()"
   ]
  },
  {
   "cell_type": "code",
   "execution_count": 233,
   "id": "66971f5f",
   "metadata": {},
   "outputs": [],
   "source": [
    "# we can simply more like flexible,moerate to put in one group \n",
    "#super strict 30, super strict 60\n",
    "df_cat1['Cancellation Policy'].replace(to_replace=['flexible','moderate','super_strict_30','super_strict_60'],value=['normal','normal','super_strict','super_strict'],inplace=True)"
   ]
  },
  {
   "cell_type": "code",
   "execution_count": 234,
   "id": "1f91b1b5",
   "metadata": {},
   "outputs": [
    {
     "data": {
      "text/plain": [
       "array(['strict', 'normal', 'no_refunds', 'super_strict', 'long_term'],\n",
       "      dtype=object)"
      ]
     },
     "execution_count": 234,
     "metadata": {},
     "output_type": "execute_result"
    }
   ],
   "source": [
    "df_cat1['Cancellation Policy'].unique()"
   ]
  },
  {
   "cell_type": "code",
   "execution_count": 235,
   "id": "ff084813",
   "metadata": {},
   "outputs": [],
   "source": [
    "from sklearn.preprocessing import LabelEncoder\n",
    "\n",
    "le=LabelEncoder()\n"
   ]
  },
  {
   "cell_type": "code",
   "execution_count": 245,
   "id": "05750e88",
   "metadata": {},
   "outputs": [
    {
     "data": {
      "text/plain": [
       "array([3, 2, 1, 4, 0])"
      ]
     },
     "execution_count": 245,
     "metadata": {},
     "output_type": "execute_result"
    }
   ],
   "source": [
    "a=le.fit_transform(df_cat1['Cancellation Policy'])  \n",
    "b=pd.DataFrame(a,columns=['Cancellation Policy 1'])    # we apply \n",
    "b['Cancellation Policy 1'].unique()"
   ]
  },
  {
   "cell_type": "code",
   "execution_count": 243,
   "id": "8eba9cd4",
   "metadata": {},
   "outputs": [
    {
     "data": {
      "text/plain": [
       "Index(['Neighbourhood Cleansed', 'State', 'Zipcode', 'Market', 'Property Type',\n",
       "       'Room Type', 'Bed Type', 'Cancellation Policy',\n",
       "       'Host Response Time ord'],\n",
       "      dtype='object')"
      ]
     },
     "execution_count": 243,
     "metadata": {},
     "output_type": "execute_result"
    }
   ],
   "source": [
    "df_cat1.columns"
   ]
  },
  {
   "cell_type": "code",
   "execution_count": 254,
   "id": "71e023d2",
   "metadata": {},
   "outputs": [
    {
     "data": {
      "text/plain": [
       "array(['Humboldt Park', 'East Garfield Park', 'South Lawndale', ...,\n",
       "       'Bay Terrace, Staten Island', 'Sobrante Park', 'Seminary'],\n",
       "      dtype=object)"
      ]
     },
     "execution_count": 254,
     "metadata": {},
     "output_type": "execute_result"
    }
   ],
   "source": [
    "df_cat1['Neighbourhood Cleansed'].unique()"
   ]
  },
  {
   "cell_type": "code",
   "execution_count": 256,
   "id": "113190ce",
   "metadata": {},
   "outputs": [],
   "source": [
    "df_cat1.drop('Zipcode',axis=1,inplace=True) # state le lia to zip code ki need nhi h"
   ]
  },
  {
   "cell_type": "code",
   "execution_count": 257,
   "id": "acbc129e",
   "metadata": {},
   "outputs": [
    {
     "data": {
      "text/plain": [
       "Index(['Neighbourhood Cleansed', 'State', 'Market', 'Property Type',\n",
       "       'Room Type', 'Bed Type', 'Cancellation Policy',\n",
       "       'Host Response Time ord'],\n",
       "      dtype='object')"
      ]
     },
     "execution_count": 257,
     "metadata": {},
     "output_type": "execute_result"
    }
   ],
   "source": [
    "df_cat1.columns"
   ]
  },
  {
   "cell_type": "code",
   "execution_count": 259,
   "id": "c375df83",
   "metadata": {},
   "outputs": [
    {
     "data": {
      "text/plain": [
       "array(['Real Bed', 'Futon', 'Pull-out Sofa', 'Airbed', 'Couch'],\n",
       "      dtype=object)"
      ]
     },
     "execution_count": 259,
     "metadata": {},
     "output_type": "execute_result"
    }
   ],
   "source": [
    "df_cat1['Bed Type'].unique()"
   ]
  },
  {
   "cell_type": "code",
   "execution_count": 260,
   "id": "02b8a572",
   "metadata": {},
   "outputs": [
    {
     "data": {
      "text/plain": [
       "<AxesSubplot:xlabel='Bed Type', ylabel='Price'>"
      ]
     },
     "execution_count": 260,
     "metadata": {},
     "output_type": "execute_result"
    },
    {
     "data": {
      "image/png": "[encoded data removed]",
      "text/plain": [
       "<Figure size 432x288 with 1 Axes>"
      ]
     },
     "metadata": {
      "needs_background": "light"
     },
     "output_type": "display_data"
    }
   ],
   "source": [
    "sns.barplot(x=df2['Bed Type'],y=df2['Price'],data=df2)"
   ]
  },
  {
   "cell_type": "code",
   "execution_count": 261,
   "id": "b94aed93",
   "metadata": {},
   "outputs": [],
   "source": [
    "# those having real bed are having more price "
   ]
  },
  {
   "cell_type": "code",
   "execution_count": 263,
   "id": "e90f7b9c",
   "metadata": {},
   "outputs": [
    {
     "data": {
      "text/plain": [
       "array(['Real Bed', 'Futon', 'Pull-out Sofa', 'Airbed', 'Couch'],\n",
       "      dtype=object)"
      ]
     },
     "execution_count": 263,
     "metadata": {},
     "output_type": "execute_result"
    }
   ],
   "source": [
    "df_cat1['Bed Type'].unique()"
   ]
  },
  {
   "cell_type": "code",
   "execution_count": 264,
   "id": "51e1d17f",
   "metadata": {},
   "outputs": [],
   "source": [
    "hrt_1 = {'Real Bed':1,'Pull-out Sofa':2,'Couch':3,'Airbed':4,'Futon':5}\n",
    "df_cat1['Bed Type 1'] = df_cat1['Bed Type'].map(hrt_1)"
   ]
  },
  {
   "cell_type": "code",
   "execution_count": 266,
   "id": "5437b2c9",
   "metadata": {},
   "outputs": [],
   "source": [
    "df_cat1.drop('Bed Type',axis=1,inplace=True)"
   ]
  },
  {
   "cell_type": "code",
   "execution_count": 267,
   "id": "68d63f78",
   "metadata": {},
   "outputs": [
    {
     "data": {
      "text/html": [
       "<div>\n",
       "<style scoped>\n",
       "    .dataframe tbody tr th:only-of-type {\n",
       "        vertical-align: middle;\n",
       "    }\n",
       "\n",
       "    .dataframe tbody tr th {\n",
       "        vertical-align: top;\n",
       "    }\n",
       "\n",
       "    .dataframe thead th {\n",
       "        text-align: right;\n",
       "    }\n",
       "</style>\n",
       "<table border=\"1\" class=\"dataframe\">\n",
       "  <thead>\n",
       "    <tr style=\"text-align: right;\">\n",
       "      <th></th>\n",
       "      <th>Neighbourhood Cleansed</th>\n",
       "      <th>State</th>\n",
       "      <th>Market</th>\n",
       "      <th>Property Type</th>\n",
       "      <th>Room Type</th>\n",
       "      <th>Cancellation Policy</th>\n",
       "      <th>Host Response Time ord</th>\n",
       "      <th>Bed Type 1</th>\n",
       "    </tr>\n",
       "  </thead>\n",
       "  <tbody>\n",
       "    <tr>\n",
       "      <th>241</th>\n",
       "      <td>Humboldt Park</td>\n",
       "      <td>IL</td>\n",
       "      <td>Chicago</td>\n",
       "      <td>Apartment</td>\n",
       "      <td>Private room</td>\n",
       "      <td>strict</td>\n",
       "      <td>1</td>\n",
       "      <td>1</td>\n",
       "    </tr>\n",
       "    <tr>\n",
       "      <th>242</th>\n",
       "      <td>Humboldt Park</td>\n",
       "      <td>IL</td>\n",
       "      <td>Chicago</td>\n",
       "      <td>House</td>\n",
       "      <td>Private room</td>\n",
       "      <td>normal</td>\n",
       "      <td>3</td>\n",
       "      <td>1</td>\n",
       "    </tr>\n",
       "    <tr>\n",
       "      <th>243</th>\n",
       "      <td>Humboldt Park</td>\n",
       "      <td>IL</td>\n",
       "      <td>Chicago</td>\n",
       "      <td>Apartment</td>\n",
       "      <td>Private room</td>\n",
       "      <td>normal</td>\n",
       "      <td>1</td>\n",
       "      <td>1</td>\n",
       "    </tr>\n",
       "    <tr>\n",
       "      <th>244</th>\n",
       "      <td>Humboldt Park</td>\n",
       "      <td>IL</td>\n",
       "      <td>Chicago</td>\n",
       "      <td>Apartment</td>\n",
       "      <td>Entire home/apt</td>\n",
       "      <td>normal</td>\n",
       "      <td>1</td>\n",
       "      <td>1</td>\n",
       "    </tr>\n",
       "    <tr>\n",
       "      <th>245</th>\n",
       "      <td>East Garfield Park</td>\n",
       "      <td>IL</td>\n",
       "      <td>Chicago</td>\n",
       "      <td>House</td>\n",
       "      <td>Private room</td>\n",
       "      <td>strict</td>\n",
       "      <td>1</td>\n",
       "      <td>1</td>\n",
       "    </tr>\n",
       "  </tbody>\n",
       "</table>\n",
       "</div>"
      ],
      "text/plain": [
       "    Neighbourhood Cleansed State   Market Property Type        Room Type  \\\n",
       "241          Humboldt Park    IL  Chicago     Apartment     Private room   \n",
       "242          Humboldt Park    IL  Chicago         House     Private room   \n",
       "243          Humboldt Park    IL  Chicago     Apartment     Private room   \n",
       "244          Humboldt Park    IL  Chicago     Apartment  Entire home/apt   \n",
       "245     East Garfield Park    IL  Chicago         House     Private room   \n",
       "\n",
       "    Cancellation Policy  Host Response Time ord  Bed Type 1  \n",
       "241              strict                       1           1  \n",
       "242              normal                       3           1  \n",
       "243              normal                       1           1  \n",
       "244              normal                       1           1  \n",
       "245              strict                       1           1  "
      ]
     },
     "execution_count": 267,
     "metadata": {},
     "output_type": "execute_result"
    }
   ],
   "source": [
    "df_cat1.head()"
   ]
  },
  {
   "cell_type": "code",
   "execution_count": 269,
   "id": "c61cfe6b",
   "metadata": {},
   "outputs": [
    {
     "data": {
      "text/plain": [
       "array(['Private room', 'Entire home/apt', 'Shared room'], dtype=object)"
      ]
     },
     "execution_count": 269,
     "metadata": {},
     "output_type": "execute_result"
    }
   ],
   "source": [
    "df_cat1['Room Type'].unique()"
   ]
  },
  {
   "cell_type": "code",
   "execution_count": 270,
   "id": "c5768c0f",
   "metadata": {},
   "outputs": [
    {
     "data": {
      "text/plain": [
       "<AxesSubplot:xlabel='Room Type', ylabel='Price'>"
      ]
     },
     "execution_count": 270,
     "metadata": {},
     "output_type": "execute_result"
    },
    {
     "data": {
      "image/png": "[encoded data removed]",
      "text/plain": [
       "<Figure size 432x288 with 1 Axes>"
      ]
     },
     "metadata": {
      "needs_background": "light"
     },
     "output_type": "display_data"
    }
   ],
   "source": [
    "sns.barplot(x=df2['Room Type'],y=df2['Price'],data=df2)"
   ]
  },
  {
   "cell_type": "code",
   "execution_count": 271,
   "id": "0b6be3f3",
   "metadata": {},
   "outputs": [],
   "source": [
    "# entire room has more price"
   ]
  },
  {
   "cell_type": "code",
   "execution_count": 272,
   "id": "67b3b11d",
   "metadata": {},
   "outputs": [
    {
     "data": {
      "text/plain": [
       "array(['Private room', 'Entire home/apt', 'Shared room'], dtype=object)"
      ]
     },
     "execution_count": 272,
     "metadata": {},
     "output_type": "execute_result"
    }
   ],
   "source": [
    "df_cat1['Room Type'].unique()"
   ]
  },
  {
   "cell_type": "code",
   "execution_count": 273,
   "id": "293e32d1",
   "metadata": {},
   "outputs": [],
   "source": [
    "hrt_2 = {'Entire home/apt':1,'Private room':2,'Shared room':3}\n",
    "df_cat1['Room_Type_1'] = df_cat1['Room Type'].map(hrt_2)"
   ]
  },
  {
   "cell_type": "code",
   "execution_count": 274,
   "id": "99b4d911",
   "metadata": {},
   "outputs": [],
   "source": [
    "df_cat1.drop('Room Type',axis=1,inplace=True)"
   ]
  },
  {
   "cell_type": "code",
   "execution_count": 275,
   "id": "b809dfd0",
   "metadata": {},
   "outputs": [
    {
     "data": {
      "text/html": [
       "<div>\n",
       "<style scoped>\n",
       "    .dataframe tbody tr th:only-of-type {\n",
       "        vertical-align: middle;\n",
       "    }\n",
       "\n",
       "    .dataframe tbody tr th {\n",
       "        vertical-align: top;\n",
       "    }\n",
       "\n",
       "    .dataframe thead th {\n",
       "        text-align: right;\n",
       "    }\n",
       "</style>\n",
       "<table border=\"1\" class=\"dataframe\">\n",
       "  <thead>\n",
       "    <tr style=\"text-align: right;\">\n",
       "      <th></th>\n",
       "      <th>Neighbourhood Cleansed</th>\n",
       "      <th>State</th>\n",
       "      <th>Market</th>\n",
       "      <th>Property Type</th>\n",
       "      <th>Cancellation Policy</th>\n",
       "      <th>Host Response Time ord</th>\n",
       "      <th>Bed Type 1</th>\n",
       "      <th>Room_Type_1</th>\n",
       "    </tr>\n",
       "  </thead>\n",
       "  <tbody>\n",
       "    <tr>\n",
       "      <th>241</th>\n",
       "      <td>Humboldt Park</td>\n",
       "      <td>IL</td>\n",
       "      <td>Chicago</td>\n",
       "      <td>Apartment</td>\n",
       "      <td>strict</td>\n",
       "      <td>1</td>\n",
       "      <td>1</td>\n",
       "      <td>2</td>\n",
       "    </tr>\n",
       "    <tr>\n",
       "      <th>242</th>\n",
       "      <td>Humboldt Park</td>\n",
       "      <td>IL</td>\n",
       "      <td>Chicago</td>\n",
       "      <td>House</td>\n",
       "      <td>normal</td>\n",
       "      <td>3</td>\n",
       "      <td>1</td>\n",
       "      <td>2</td>\n",
       "    </tr>\n",
       "    <tr>\n",
       "      <th>243</th>\n",
       "      <td>Humboldt Park</td>\n",
       "      <td>IL</td>\n",
       "      <td>Chicago</td>\n",
       "      <td>Apartment</td>\n",
       "      <td>normal</td>\n",
       "      <td>1</td>\n",
       "      <td>1</td>\n",
       "      <td>2</td>\n",
       "    </tr>\n",
       "    <tr>\n",
       "      <th>244</th>\n",
       "      <td>Humboldt Park</td>\n",
       "      <td>IL</td>\n",
       "      <td>Chicago</td>\n",
       "      <td>Apartment</td>\n",
       "      <td>normal</td>\n",
       "      <td>1</td>\n",
       "      <td>1</td>\n",
       "      <td>1</td>\n",
       "    </tr>\n",
       "    <tr>\n",
       "      <th>245</th>\n",
       "      <td>East Garfield Park</td>\n",
       "      <td>IL</td>\n",
       "      <td>Chicago</td>\n",
       "      <td>House</td>\n",
       "      <td>strict</td>\n",
       "      <td>1</td>\n",
       "      <td>1</td>\n",
       "      <td>2</td>\n",
       "    </tr>\n",
       "  </tbody>\n",
       "</table>\n",
       "</div>"
      ],
      "text/plain": [
       "    Neighbourhood Cleansed State   Market Property Type Cancellation Policy  \\\n",
       "241          Humboldt Park    IL  Chicago     Apartment              strict   \n",
       "242          Humboldt Park    IL  Chicago         House              normal   \n",
       "243          Humboldt Park    IL  Chicago     Apartment              normal   \n",
       "244          Humboldt Park    IL  Chicago     Apartment              normal   \n",
       "245     East Garfield Park    IL  Chicago         House              strict   \n",
       "\n",
       "     Host Response Time ord  Bed Type 1  Room_Type_1  \n",
       "241                       1           1            2  \n",
       "242                       3           1            2  \n",
       "243                       1           1            2  \n",
       "244                       1           1            1  \n",
       "245                       1           1            2  "
      ]
     },
     "execution_count": 275,
     "metadata": {},
     "output_type": "execute_result"
    }
   ],
   "source": [
    "df_cat1.head()"
   ]
  },
  {
   "cell_type": "code",
   "execution_count": 276,
   "id": "45abe136",
   "metadata": {},
   "outputs": [
    {
     "data": {
      "text/plain": [
       "array(['Apartment', 'House', 'Townhouse', 'Condominium', 'Guesthouse',\n",
       "       'Other', 'Camper/RV', 'Bungalow', 'Villa', 'Treehouse',\n",
       "       'Bed & Breakfast', 'Loft', 'Cabin', 'Dorm', 'Hostel', 'Chalet',\n",
       "       'Boat', 'Tent', 'Guest suite', 'In-law', 'Lighthouse',\n",
       "       'Serviced apartment', 'Hut', 'Boutique hotel', 'Timeshare', 'Yurt',\n",
       "       'Castle', 'Tipi', 'Nature lodge', 'Train', 'Cave', 'Earth House',\n",
       "       'Entire Floor', 'Vacation home', 'Island', 'Casa particular',\n",
       "       'Plane', 'Pension (Korea)'], dtype=object)"
      ]
     },
     "execution_count": 276,
     "metadata": {},
     "output_type": "execute_result"
    }
   ],
   "source": [
    "df_cat1['Property Type'].unique()"
   ]
  },
  {
   "cell_type": "code",
   "execution_count": 278,
   "id": "53927025",
   "metadata": {},
   "outputs": [
    {
     "data": {
      "text/plain": [
       "<AxesSubplot:xlabel='Property Type', ylabel='Price'>"
      ]
     },
     "execution_count": 278,
     "metadata": {},
     "output_type": "execute_result"
    },
    {
     "data": {
      "image/png": "[encoded data removed]",
      "text/plain": [
       "<Figure size 2160x1440 with 1 Axes>"
      ]
     },
     "metadata": {
      "needs_background": "light"
     },
     "output_type": "display_data"
    }
   ],
   "source": [
    "plt.figure(figsize=[30,20])\n",
    "plt.xticks(rotation=90)\n",
    "sns.barplot(df2['Property Type'],y=df2['Price'],data=df2)"
   ]
  },
  {
   "cell_type": "code",
   "execution_count": 281,
   "id": "ba5ffd64",
   "metadata": {},
   "outputs": [
    {
     "data": {
      "text/plain": [
       "array([ 0, 18, 32, 11, 16, 25,  6,  4, 36, 34,  1, 23,  5, 12, 17, 10,  2,\n",
       "       29, 15, 20, 22, 28, 19,  3, 30, 37,  8, 31, 24, 33,  9, 13, 14, 35,\n",
       "       21,  7, 27, 26])"
      ]
     },
     "execution_count": 281,
     "metadata": {},
     "output_type": "execute_result"
    }
   ],
   "source": [
    "e=le.fit_transform(df_cat1['Property Type'])  \n",
    "f=pd.DataFrame(e,columns=['Property_Type_1'])    # we apply \n",
    "f['Property_Type_1'].unique()"
   ]
  },
  {
   "cell_type": "code",
   "execution_count": 290,
   "id": "7b5539dd",
   "metadata": {},
   "outputs": [
    {
     "data": {
      "text/html": [
       "<div>\n",
       "<style scoped>\n",
       "    .dataframe tbody tr th:only-of-type {\n",
       "        vertical-align: middle;\n",
       "    }\n",
       "\n",
       "    .dataframe tbody tr th {\n",
       "        vertical-align: top;\n",
       "    }\n",
       "\n",
       "    .dataframe thead th {\n",
       "        text-align: right;\n",
       "    }\n",
       "</style>\n",
       "<table border=\"1\" class=\"dataframe\">\n",
       "  <thead>\n",
       "    <tr style=\"text-align: right;\">\n",
       "      <th></th>\n",
       "      <th>Property_Type_1</th>\n",
       "      <th>Cancellation Policy 1</th>\n",
       "    </tr>\n",
       "  </thead>\n",
       "  <tbody>\n",
       "    <tr>\n",
       "      <th>0</th>\n",
       "      <td>0</td>\n",
       "      <td>3</td>\n",
       "    </tr>\n",
       "    <tr>\n",
       "      <th>1</th>\n",
       "      <td>18</td>\n",
       "      <td>2</td>\n",
       "    </tr>\n",
       "    <tr>\n",
       "      <th>2</th>\n",
       "      <td>0</td>\n",
       "      <td>2</td>\n",
       "    </tr>\n",
       "    <tr>\n",
       "      <th>3</th>\n",
       "      <td>0</td>\n",
       "      <td>2</td>\n",
       "    </tr>\n",
       "    <tr>\n",
       "      <th>4</th>\n",
       "      <td>18</td>\n",
       "      <td>3</td>\n",
       "    </tr>\n",
       "    <tr>\n",
       "      <th>...</th>\n",
       "      <td>...</td>\n",
       "      <td>...</td>\n",
       "    </tr>\n",
       "    <tr>\n",
       "      <th>130566</th>\n",
       "      <td>0</td>\n",
       "      <td>2</td>\n",
       "    </tr>\n",
       "    <tr>\n",
       "      <th>130567</th>\n",
       "      <td>18</td>\n",
       "      <td>2</td>\n",
       "    </tr>\n",
       "    <tr>\n",
       "      <th>130568</th>\n",
       "      <td>18</td>\n",
       "      <td>2</td>\n",
       "    </tr>\n",
       "    <tr>\n",
       "      <th>130569</th>\n",
       "      <td>18</td>\n",
       "      <td>2</td>\n",
       "    </tr>\n",
       "    <tr>\n",
       "      <th>130570</th>\n",
       "      <td>18</td>\n",
       "      <td>2</td>\n",
       "    </tr>\n",
       "  </tbody>\n",
       "</table>\n",
       "<p>130571 rows × 2 columns</p>\n",
       "</div>"
      ],
      "text/plain": [
       "        Property_Type_1  Cancellation Policy 1\n",
       "0                     0                      3\n",
       "1                    18                      2\n",
       "2                     0                      2\n",
       "3                     0                      2\n",
       "4                    18                      3\n",
       "...                 ...                    ...\n",
       "130566                0                      2\n",
       "130567               18                      2\n",
       "130568               18                      2\n",
       "130569               18                      2\n",
       "130570               18                      2\n",
       "\n",
       "[130571 rows x 2 columns]"
      ]
     },
     "execution_count": 290,
     "metadata": {},
     "output_type": "execute_result"
    }
   ],
   "source": [
    "aa=pd.concat([f,b],axis=1)\n",
    "aa"
   ]
  },
  {
   "cell_type": "code",
   "execution_count": 292,
   "id": "6c881db0",
   "metadata": {},
   "outputs": [
    {
     "name": "stdout",
     "output_type": "stream",
     "text": [
      "<class 'pandas.core.frame.DataFrame'>\n",
      "Int64Index: 130571 entries, 241 to 494571\n",
      "Data columns (total 8 columns):\n",
      " #   Column                  Non-Null Count   Dtype \n",
      "---  ------                  --------------   ----- \n",
      " 0   Neighbourhood Cleansed  130571 non-null  object\n",
      " 1   State                   130571 non-null  object\n",
      " 2   Market                  130571 non-null  object\n",
      " 3   Property Type           130571 non-null  object\n",
      " 4   Cancellation Policy     130571 non-null  object\n",
      " 5   Host Response Time ord  130571 non-null  int64 \n",
      " 6   Bed Type 1              130571 non-null  int64 \n",
      " 7   Room_Type_1             130571 non-null  int64 \n",
      "dtypes: int64(3), object(5)\n",
      "memory usage: 13.0+ MB\n"
     ]
    }
   ],
   "source": [
    "df_cat1.info()\n"
   ]
  },
  {
   "cell_type": "code",
   "execution_count": 295,
   "id": "de23e1ea",
   "metadata": {},
   "outputs": [
    {
     "data": {
      "text/plain": [
       "dtype('int32')"
      ]
     },
     "execution_count": 295,
     "metadata": {},
     "output_type": "execute_result"
    }
   ],
   "source": [
    "a.dtype"
   ]
  },
  {
   "cell_type": "code",
   "execution_count": null,
   "id": "b9fe9625",
   "metadata": {},
   "outputs": [],
   "source": []
  },
  {
   "cell_type": "code",
   "execution_count": 305,
   "id": "8db63597",
   "metadata": {},
   "outputs": [],
   "source": [
    "df_cat1=df_cat1.reset_index().drop('index',axis=1)"
   ]
  },
  {
   "cell_type": "code",
   "execution_count": 310,
   "id": "f609c78d",
   "metadata": {},
   "outputs": [],
   "source": [
    "df_cat1=pd.concat([df_cat1,aa],axis=1)"
   ]
  },
  {
   "cell_type": "code",
   "execution_count": 312,
   "id": "6c8a1dd5",
   "metadata": {},
   "outputs": [],
   "source": [
    "df_cat1.drop('Cancellation Policy',axis=1,inplace=True)"
   ]
  },
  {
   "cell_type": "code",
   "execution_count": 313,
   "id": "9e851a5e",
   "metadata": {},
   "outputs": [
    {
     "data": {
      "text/html": [
       "<div>\n",
       "<style scoped>\n",
       "    .dataframe tbody tr th:only-of-type {\n",
       "        vertical-align: middle;\n",
       "    }\n",
       "\n",
       "    .dataframe tbody tr th {\n",
       "        vertical-align: top;\n",
       "    }\n",
       "\n",
       "    .dataframe thead th {\n",
       "        text-align: right;\n",
       "    }\n",
       "</style>\n",
       "<table border=\"1\" class=\"dataframe\">\n",
       "  <thead>\n",
       "    <tr style=\"text-align: right;\">\n",
       "      <th></th>\n",
       "      <th>Neighbourhood Cleansed</th>\n",
       "      <th>State</th>\n",
       "      <th>Market</th>\n",
       "      <th>Property Type</th>\n",
       "      <th>Host Response Time ord</th>\n",
       "      <th>Bed Type 1</th>\n",
       "      <th>Room_Type_1</th>\n",
       "      <th>Property_Type_1</th>\n",
       "      <th>Cancellation Policy 1</th>\n",
       "    </tr>\n",
       "  </thead>\n",
       "  <tbody>\n",
       "    <tr>\n",
       "      <th>0</th>\n",
       "      <td>Humboldt Park</td>\n",
       "      <td>IL</td>\n",
       "      <td>Chicago</td>\n",
       "      <td>Apartment</td>\n",
       "      <td>1</td>\n",
       "      <td>1</td>\n",
       "      <td>2</td>\n",
       "      <td>0</td>\n",
       "      <td>3</td>\n",
       "    </tr>\n",
       "    <tr>\n",
       "      <th>1</th>\n",
       "      <td>Humboldt Park</td>\n",
       "      <td>IL</td>\n",
       "      <td>Chicago</td>\n",
       "      <td>House</td>\n",
       "      <td>3</td>\n",
       "      <td>1</td>\n",
       "      <td>2</td>\n",
       "      <td>18</td>\n",
       "      <td>2</td>\n",
       "    </tr>\n",
       "    <tr>\n",
       "      <th>2</th>\n",
       "      <td>Humboldt Park</td>\n",
       "      <td>IL</td>\n",
       "      <td>Chicago</td>\n",
       "      <td>Apartment</td>\n",
       "      <td>1</td>\n",
       "      <td>1</td>\n",
       "      <td>2</td>\n",
       "      <td>0</td>\n",
       "      <td>2</td>\n",
       "    </tr>\n",
       "    <tr>\n",
       "      <th>3</th>\n",
       "      <td>Humboldt Park</td>\n",
       "      <td>IL</td>\n",
       "      <td>Chicago</td>\n",
       "      <td>Apartment</td>\n",
       "      <td>1</td>\n",
       "      <td>1</td>\n",
       "      <td>1</td>\n",
       "      <td>0</td>\n",
       "      <td>2</td>\n",
       "    </tr>\n",
       "    <tr>\n",
       "      <th>4</th>\n",
       "      <td>East Garfield Park</td>\n",
       "      <td>IL</td>\n",
       "      <td>Chicago</td>\n",
       "      <td>House</td>\n",
       "      <td>1</td>\n",
       "      <td>1</td>\n",
       "      <td>2</td>\n",
       "      <td>18</td>\n",
       "      <td>3</td>\n",
       "    </tr>\n",
       "  </tbody>\n",
       "</table>\n",
       "</div>"
      ],
      "text/plain": [
       "  Neighbourhood Cleansed State   Market Property Type  Host Response Time ord  \\\n",
       "0          Humboldt Park    IL  Chicago     Apartment                       1   \n",
       "1          Humboldt Park    IL  Chicago         House                       3   \n",
       "2          Humboldt Park    IL  Chicago     Apartment                       1   \n",
       "3          Humboldt Park    IL  Chicago     Apartment                       1   \n",
       "4     East Garfield Park    IL  Chicago         House                       1   \n",
       "\n",
       "   Bed Type 1  Room_Type_1  Property_Type_1  Cancellation Policy 1  \n",
       "0           1            2                0                      3  \n",
       "1           1            2               18                      2  \n",
       "2           1            2                0                      2  \n",
       "3           1            1                0                      2  \n",
       "4           1            2               18                      3  "
      ]
     },
     "execution_count": 313,
     "metadata": {},
     "output_type": "execute_result"
    }
   ],
   "source": [
    "df_cat1.head()"
   ]
  },
  {
   "cell_type": "code",
   "execution_count": 314,
   "id": "d0e902cc",
   "metadata": {},
   "outputs": [],
   "source": [
    "df_cat1.drop('Property Type',axis=1,inplace=True)"
   ]
  },
  {
   "cell_type": "code",
   "execution_count": 315,
   "id": "ffcc9a9a",
   "metadata": {},
   "outputs": [
    {
     "data": {
      "text/html": [
       "<div>\n",
       "<style scoped>\n",
       "    .dataframe tbody tr th:only-of-type {\n",
       "        vertical-align: middle;\n",
       "    }\n",
       "\n",
       "    .dataframe tbody tr th {\n",
       "        vertical-align: top;\n",
       "    }\n",
       "\n",
       "    .dataframe thead th {\n",
       "        text-align: right;\n",
       "    }\n",
       "</style>\n",
       "<table border=\"1\" class=\"dataframe\">\n",
       "  <thead>\n",
       "    <tr style=\"text-align: right;\">\n",
       "      <th></th>\n",
       "      <th>Neighbourhood Cleansed</th>\n",
       "      <th>State</th>\n",
       "      <th>Market</th>\n",
       "      <th>Host Response Time ord</th>\n",
       "      <th>Bed Type 1</th>\n",
       "      <th>Room_Type_1</th>\n",
       "      <th>Property_Type_1</th>\n",
       "      <th>Cancellation Policy 1</th>\n",
       "    </tr>\n",
       "  </thead>\n",
       "  <tbody>\n",
       "    <tr>\n",
       "      <th>0</th>\n",
       "      <td>Humboldt Park</td>\n",
       "      <td>IL</td>\n",
       "      <td>Chicago</td>\n",
       "      <td>1</td>\n",
       "      <td>1</td>\n",
       "      <td>2</td>\n",
       "      <td>0</td>\n",
       "      <td>3</td>\n",
       "    </tr>\n",
       "    <tr>\n",
       "      <th>1</th>\n",
       "      <td>Humboldt Park</td>\n",
       "      <td>IL</td>\n",
       "      <td>Chicago</td>\n",
       "      <td>3</td>\n",
       "      <td>1</td>\n",
       "      <td>2</td>\n",
       "      <td>18</td>\n",
       "      <td>2</td>\n",
       "    </tr>\n",
       "    <tr>\n",
       "      <th>2</th>\n",
       "      <td>Humboldt Park</td>\n",
       "      <td>IL</td>\n",
       "      <td>Chicago</td>\n",
       "      <td>1</td>\n",
       "      <td>1</td>\n",
       "      <td>2</td>\n",
       "      <td>0</td>\n",
       "      <td>2</td>\n",
       "    </tr>\n",
       "    <tr>\n",
       "      <th>3</th>\n",
       "      <td>Humboldt Park</td>\n",
       "      <td>IL</td>\n",
       "      <td>Chicago</td>\n",
       "      <td>1</td>\n",
       "      <td>1</td>\n",
       "      <td>1</td>\n",
       "      <td>0</td>\n",
       "      <td>2</td>\n",
       "    </tr>\n",
       "    <tr>\n",
       "      <th>4</th>\n",
       "      <td>East Garfield Park</td>\n",
       "      <td>IL</td>\n",
       "      <td>Chicago</td>\n",
       "      <td>1</td>\n",
       "      <td>1</td>\n",
       "      <td>2</td>\n",
       "      <td>18</td>\n",
       "      <td>3</td>\n",
       "    </tr>\n",
       "  </tbody>\n",
       "</table>\n",
       "</div>"
      ],
      "text/plain": [
       "  Neighbourhood Cleansed State   Market  Host Response Time ord  Bed Type 1  \\\n",
       "0          Humboldt Park    IL  Chicago                       1           1   \n",
       "1          Humboldt Park    IL  Chicago                       3           1   \n",
       "2          Humboldt Park    IL  Chicago                       1           1   \n",
       "3          Humboldt Park    IL  Chicago                       1           1   \n",
       "4     East Garfield Park    IL  Chicago                       1           1   \n",
       "\n",
       "   Room_Type_1  Property_Type_1  Cancellation Policy 1  \n",
       "0            2                0                      3  \n",
       "1            2               18                      2  \n",
       "2            2                0                      2  \n",
       "3            1                0                      2  \n",
       "4            2               18                      3  "
      ]
     },
     "execution_count": 315,
     "metadata": {},
     "output_type": "execute_result"
    }
   ],
   "source": [
    "df_cat1.head()"
   ]
  },
  {
   "cell_type": "code",
   "execution_count": 317,
   "id": "da7da92d",
   "metadata": {},
   "outputs": [
    {
     "data": {
      "text/plain": [
       "1196"
      ]
     },
     "execution_count": 317,
     "metadata": {},
     "output_type": "execute_result"
    }
   ],
   "source": [
    "df_cat1['Neighbourhood Cleansed'].nunique()"
   ]
  },
  {
   "cell_type": "code",
   "execution_count": null,
   "id": "8b787ad2",
   "metadata": {},
   "outputs": [],
   "source": []
  },
  {
   "cell_type": "code",
   "execution_count": 319,
   "id": "686bc54c",
   "metadata": {},
   "outputs": [],
   "source": [
    "encode=(df_cat1['Neighbourhood Cleansed'].value_counts()/df_cat1['Neighbourhood Cleansed'].value_counts().sum())*100"
   ]
  },
  {
   "cell_type": "code",
   "execution_count": 320,
   "id": "125116c6",
   "metadata": {},
   "outputs": [],
   "source": [
    "df_cat1['Neighbourhood_Cleansed_1']=df_cat1['Neighbourhood Cleansed'].map(encode)"
   ]
  },
  {
   "cell_type": "code",
   "execution_count": 321,
   "id": "825da57a",
   "metadata": {},
   "outputs": [
    {
     "data": {
      "text/html": [
       "<div>\n",
       "<style scoped>\n",
       "    .dataframe tbody tr th:only-of-type {\n",
       "        vertical-align: middle;\n",
       "    }\n",
       "\n",
       "    .dataframe tbody tr th {\n",
       "        vertical-align: top;\n",
       "    }\n",
       "\n",
       "    .dataframe thead th {\n",
       "        text-align: right;\n",
       "    }\n",
       "</style>\n",
       "<table border=\"1\" class=\"dataframe\">\n",
       "  <thead>\n",
       "    <tr style=\"text-align: right;\">\n",
       "      <th></th>\n",
       "      <th>Neighbourhood Cleansed</th>\n",
       "      <th>State</th>\n",
       "      <th>Market</th>\n",
       "      <th>Host Response Time ord</th>\n",
       "      <th>Bed Type 1</th>\n",
       "      <th>Room_Type_1</th>\n",
       "      <th>Property_Type_1</th>\n",
       "      <th>Cancellation Policy 1</th>\n",
       "      <th>Neighbourhood_Cleansed_1</th>\n",
       "    </tr>\n",
       "  </thead>\n",
       "  <tbody>\n",
       "    <tr>\n",
       "      <th>0</th>\n",
       "      <td>Humboldt Park</td>\n",
       "      <td>IL</td>\n",
       "      <td>Chicago</td>\n",
       "      <td>1</td>\n",
       "      <td>1</td>\n",
       "      <td>2</td>\n",
       "      <td>0</td>\n",
       "      <td>3</td>\n",
       "      <td>0.036762</td>\n",
       "    </tr>\n",
       "    <tr>\n",
       "      <th>1</th>\n",
       "      <td>Humboldt Park</td>\n",
       "      <td>IL</td>\n",
       "      <td>Chicago</td>\n",
       "      <td>3</td>\n",
       "      <td>1</td>\n",
       "      <td>2</td>\n",
       "      <td>18</td>\n",
       "      <td>2</td>\n",
       "      <td>0.036762</td>\n",
       "    </tr>\n",
       "    <tr>\n",
       "      <th>2</th>\n",
       "      <td>Humboldt Park</td>\n",
       "      <td>IL</td>\n",
       "      <td>Chicago</td>\n",
       "      <td>1</td>\n",
       "      <td>1</td>\n",
       "      <td>2</td>\n",
       "      <td>0</td>\n",
       "      <td>2</td>\n",
       "      <td>0.036762</td>\n",
       "    </tr>\n",
       "    <tr>\n",
       "      <th>3</th>\n",
       "      <td>Humboldt Park</td>\n",
       "      <td>IL</td>\n",
       "      <td>Chicago</td>\n",
       "      <td>1</td>\n",
       "      <td>1</td>\n",
       "      <td>1</td>\n",
       "      <td>0</td>\n",
       "      <td>2</td>\n",
       "      <td>0.036762</td>\n",
       "    </tr>\n",
       "    <tr>\n",
       "      <th>4</th>\n",
       "      <td>East Garfield Park</td>\n",
       "      <td>IL</td>\n",
       "      <td>Chicago</td>\n",
       "      <td>1</td>\n",
       "      <td>1</td>\n",
       "      <td>2</td>\n",
       "      <td>18</td>\n",
       "      <td>3</td>\n",
       "      <td>0.041357</td>\n",
       "    </tr>\n",
       "  </tbody>\n",
       "</table>\n",
       "</div>"
      ],
      "text/plain": [
       "  Neighbourhood Cleansed State   Market  Host Response Time ord  Bed Type 1  \\\n",
       "0          Humboldt Park    IL  Chicago                       1           1   \n",
       "1          Humboldt Park    IL  Chicago                       3           1   \n",
       "2          Humboldt Park    IL  Chicago                       1           1   \n",
       "3          Humboldt Park    IL  Chicago                       1           1   \n",
       "4     East Garfield Park    IL  Chicago                       1           1   \n",
       "\n",
       "   Room_Type_1  Property_Type_1  Cancellation Policy 1  \\\n",
       "0            2                0                      3   \n",
       "1            2               18                      2   \n",
       "2            2                0                      2   \n",
       "3            1                0                      2   \n",
       "4            2               18                      3   \n",
       "\n",
       "   Neighbourhood_Cleansed_1  \n",
       "0                  0.036762  \n",
       "1                  0.036762  \n",
       "2                  0.036762  \n",
       "3                  0.036762  \n",
       "4                  0.041357  "
      ]
     },
     "execution_count": 321,
     "metadata": {},
     "output_type": "execute_result"
    }
   ],
   "source": [
    "df_cat1.head()"
   ]
  },
  {
   "cell_type": "code",
   "execution_count": 322,
   "id": "b95633ed",
   "metadata": {},
   "outputs": [],
   "source": [
    "df_cat1.drop('Neighbourhood Cleansed',axis=1,inplace=True)"
   ]
  },
  {
   "cell_type": "code",
   "execution_count": 423,
   "id": "c2d2c45f",
   "metadata": {},
   "outputs": [
    {
     "data": {
      "text/html": [
       "<div>\n",
       "<style scoped>\n",
       "    .dataframe tbody tr th:only-of-type {\n",
       "        vertical-align: middle;\n",
       "    }\n",
       "\n",
       "    .dataframe tbody tr th {\n",
       "        vertical-align: top;\n",
       "    }\n",
       "\n",
       "    .dataframe thead th {\n",
       "        text-align: right;\n",
       "    }\n",
       "</style>\n",
       "<table border=\"1\" class=\"dataframe\">\n",
       "  <thead>\n",
       "    <tr style=\"text-align: right;\">\n",
       "      <th></th>\n",
       "      <th>Host Response Time ord</th>\n",
       "      <th>Bed Type 1</th>\n",
       "      <th>Room_Type_1</th>\n",
       "      <th>Property_Type_1</th>\n",
       "      <th>Cancellation Policy 1</th>\n",
       "      <th>Neighbourhood_Cleansed_1</th>\n",
       "      <th>Host Since Days</th>\n",
       "      <th>North east</th>\n",
       "      <th>midwest</th>\n",
       "      <th>south</th>\n",
       "      <th>west</th>\n",
       "      <th>Market_1</th>\n",
       "    </tr>\n",
       "  </thead>\n",
       "  <tbody>\n",
       "    <tr>\n",
       "      <th>0</th>\n",
       "      <td>1</td>\n",
       "      <td>1</td>\n",
       "      <td>2</td>\n",
       "      <td>0</td>\n",
       "      <td>3</td>\n",
       "      <td>0.036762</td>\n",
       "      <td>3476</td>\n",
       "      <td>0</td>\n",
       "      <td>1</td>\n",
       "      <td>0</td>\n",
       "      <td>0</td>\n",
       "      <td>3.946512</td>\n",
       "    </tr>\n",
       "    <tr>\n",
       "      <th>1</th>\n",
       "      <td>3</td>\n",
       "      <td>1</td>\n",
       "      <td>2</td>\n",
       "      <td>18</td>\n",
       "      <td>2</td>\n",
       "      <td>0.036762</td>\n",
       "      <td>2499</td>\n",
       "      <td>0</td>\n",
       "      <td>1</td>\n",
       "      <td>0</td>\n",
       "      <td>0</td>\n",
       "      <td>3.946512</td>\n",
       "    </tr>\n",
       "    <tr>\n",
       "      <th>2</th>\n",
       "      <td>1</td>\n",
       "      <td>1</td>\n",
       "      <td>2</td>\n",
       "      <td>0</td>\n",
       "      <td>2</td>\n",
       "      <td>0.036762</td>\n",
       "      <td>2624</td>\n",
       "      <td>0</td>\n",
       "      <td>1</td>\n",
       "      <td>0</td>\n",
       "      <td>0</td>\n",
       "      <td>3.946512</td>\n",
       "    </tr>\n",
       "    <tr>\n",
       "      <th>3</th>\n",
       "      <td>1</td>\n",
       "      <td>1</td>\n",
       "      <td>1</td>\n",
       "      <td>0</td>\n",
       "      <td>2</td>\n",
       "      <td>0.036762</td>\n",
       "      <td>2749</td>\n",
       "      <td>0</td>\n",
       "      <td>1</td>\n",
       "      <td>0</td>\n",
       "      <td>0</td>\n",
       "      <td>3.946512</td>\n",
       "    </tr>\n",
       "    <tr>\n",
       "      <th>4</th>\n",
       "      <td>1</td>\n",
       "      <td>1</td>\n",
       "      <td>2</td>\n",
       "      <td>18</td>\n",
       "      <td>3</td>\n",
       "      <td>0.041357</td>\n",
       "      <td>3840</td>\n",
       "      <td>0</td>\n",
       "      <td>1</td>\n",
       "      <td>0</td>\n",
       "      <td>0</td>\n",
       "      <td>3.946512</td>\n",
       "    </tr>\n",
       "  </tbody>\n",
       "</table>\n",
       "</div>"
      ],
      "text/plain": [
       "   Host Response Time ord  Bed Type 1  Room_Type_1  Property_Type_1  \\\n",
       "0                       1           1            2                0   \n",
       "1                       3           1            2               18   \n",
       "2                       1           1            2                0   \n",
       "3                       1           1            1                0   \n",
       "4                       1           1            2               18   \n",
       "\n",
       "   Cancellation Policy 1  Neighbourhood_Cleansed_1  Host Since Days  \\\n",
       "0                      3                  0.036762             3476   \n",
       "1                      2                  0.036762             2499   \n",
       "2                      2                  0.036762             2624   \n",
       "3                      2                  0.036762             2749   \n",
       "4                      3                  0.041357             3840   \n",
       "\n",
       "   North east  midwest  south  west  Market_1  \n",
       "0           0        1      0     0  3.946512  \n",
       "1           0        1      0     0  3.946512  \n",
       "2           0        1      0     0  3.946512  \n",
       "3           0        1      0     0  3.946512  \n",
       "4           0        1      0     0  3.946512  "
      ]
     },
     "execution_count": 423,
     "metadata": {},
     "output_type": "execute_result"
    }
   ],
   "source": [
    "df_cat1.head()"
   ]
  },
  {
   "cell_type": "code",
   "execution_count": 325,
   "id": "d1bd6012",
   "metadata": {},
   "outputs": [
    {
     "data": {
      "text/plain": [
       "array(['IL', 'CA', 'CO', 'TN', 'LA', 'ca', 'MA', 'TX', 'OR', 'WA', 'wa',\n",
       "       'DC', 'NY', 'ny', 'MP', 'MD', 'il', 'Il', 'NJ', 'Ca', 'VT'],\n",
       "      dtype=object)"
      ]
     },
     "execution_count": 325,
     "metadata": {},
     "output_type": "execute_result"
    }
   ],
   "source": [
    "df_cat1.State.unique()"
   ]
  },
  {
   "cell_type": "code",
   "execution_count": 326,
   "id": "6738cb28",
   "metadata": {},
   "outputs": [],
   "source": [
    "df_cat1.State.replace(to_replace=['wa','il','Il','ca','Ca','ny'],value=['WA','IL','IL','CA','CA','NY'],inplace=True)"
   ]
  },
  {
   "cell_type": "code",
   "execution_count": 327,
   "id": "6732ce18",
   "metadata": {},
   "outputs": [
    {
     "data": {
      "text/plain": [
       "array(['IL', 'CA', 'CO', 'TN', 'LA', 'MA', 'TX', 'OR', 'WA', 'DC', 'NY',\n",
       "       'MP', 'MD', 'NJ', 'VT'], dtype=object)"
      ]
     },
     "execution_count": 327,
     "metadata": {},
     "output_type": "execute_result"
    }
   ],
   "source": [
    "df_cat1.State.unique()"
   ]
  },
  {
   "cell_type": "code",
   "execution_count": 328,
   "id": "3a52c1c4",
   "metadata": {},
   "outputs": [],
   "source": [
    "midwest=['IL']\n",
    "west=['CA','CO','OR']\n",
    "south=['TN','LA','TX','WA','DC','MD']\n",
    "Northeast=['MA','NY','MP','NJ','VT']\n"
   ]
  },
  {
   "cell_type": "code",
   "execution_count": 329,
   "id": "ccd603b3",
   "metadata": {},
   "outputs": [],
   "source": [
    "def out(x):\n",
    "    if x in midwest:\n",
    "        return('midwest')\n",
    "    elif x in west :\n",
    "        return('west')\n",
    "    elif x in south :\n",
    "        return('south')\n",
    "    else :\n",
    "        return('North east')"
   ]
  },
  {
   "cell_type": "code",
   "execution_count": 330,
   "id": "e721b476",
   "metadata": {},
   "outputs": [
    {
     "data": {
      "text/plain": [
       "west          53165\n",
       "North east    43437\n",
       "south         28816\n",
       "midwest        5153\n",
       "Name: State, dtype: int64"
      ]
     },
     "execution_count": 330,
     "metadata": {},
     "output_type": "execute_result"
    }
   ],
   "source": [
    "df_cat1.State.apply(out).value_counts()"
   ]
  },
  {
   "cell_type": "code",
   "execution_count": 331,
   "id": "87bd0ce4",
   "metadata": {},
   "outputs": [],
   "source": [
    "df_cat1['state_1']=df_cat1.State.apply(out)"
   ]
  },
  {
   "cell_type": "code",
   "execution_count": 332,
   "id": "01563b6b",
   "metadata": {},
   "outputs": [
    {
     "data": {
      "text/html": [
       "<div>\n",
       "<style scoped>\n",
       "    .dataframe tbody tr th:only-of-type {\n",
       "        vertical-align: middle;\n",
       "    }\n",
       "\n",
       "    .dataframe tbody tr th {\n",
       "        vertical-align: top;\n",
       "    }\n",
       "\n",
       "    .dataframe thead th {\n",
       "        text-align: right;\n",
       "    }\n",
       "</style>\n",
       "<table border=\"1\" class=\"dataframe\">\n",
       "  <thead>\n",
       "    <tr style=\"text-align: right;\">\n",
       "      <th></th>\n",
       "      <th>State</th>\n",
       "      <th>Market</th>\n",
       "      <th>Host Response Time ord</th>\n",
       "      <th>Bed Type 1</th>\n",
       "      <th>Room_Type_1</th>\n",
       "      <th>Property_Type_1</th>\n",
       "      <th>Cancellation Policy 1</th>\n",
       "      <th>Neighbourhood_Cleansed_1</th>\n",
       "      <th>state_1</th>\n",
       "    </tr>\n",
       "  </thead>\n",
       "  <tbody>\n",
       "    <tr>\n",
       "      <th>0</th>\n",
       "      <td>IL</td>\n",
       "      <td>Chicago</td>\n",
       "      <td>1</td>\n",
       "      <td>1</td>\n",
       "      <td>2</td>\n",
       "      <td>0</td>\n",
       "      <td>3</td>\n",
       "      <td>0.036762</td>\n",
       "      <td>midwest</td>\n",
       "    </tr>\n",
       "    <tr>\n",
       "      <th>1</th>\n",
       "      <td>IL</td>\n",
       "      <td>Chicago</td>\n",
       "      <td>3</td>\n",
       "      <td>1</td>\n",
       "      <td>2</td>\n",
       "      <td>18</td>\n",
       "      <td>2</td>\n",
       "      <td>0.036762</td>\n",
       "      <td>midwest</td>\n",
       "    </tr>\n",
       "    <tr>\n",
       "      <th>2</th>\n",
       "      <td>IL</td>\n",
       "      <td>Chicago</td>\n",
       "      <td>1</td>\n",
       "      <td>1</td>\n",
       "      <td>2</td>\n",
       "      <td>0</td>\n",
       "      <td>2</td>\n",
       "      <td>0.036762</td>\n",
       "      <td>midwest</td>\n",
       "    </tr>\n",
       "    <tr>\n",
       "      <th>3</th>\n",
       "      <td>IL</td>\n",
       "      <td>Chicago</td>\n",
       "      <td>1</td>\n",
       "      <td>1</td>\n",
       "      <td>1</td>\n",
       "      <td>0</td>\n",
       "      <td>2</td>\n",
       "      <td>0.036762</td>\n",
       "      <td>midwest</td>\n",
       "    </tr>\n",
       "    <tr>\n",
       "      <th>4</th>\n",
       "      <td>IL</td>\n",
       "      <td>Chicago</td>\n",
       "      <td>1</td>\n",
       "      <td>1</td>\n",
       "      <td>2</td>\n",
       "      <td>18</td>\n",
       "      <td>3</td>\n",
       "      <td>0.041357</td>\n",
       "      <td>midwest</td>\n",
       "    </tr>\n",
       "  </tbody>\n",
       "</table>\n",
       "</div>"
      ],
      "text/plain": [
       "  State   Market  Host Response Time ord  Bed Type 1  Room_Type_1  \\\n",
       "0    IL  Chicago                       1           1            2   \n",
       "1    IL  Chicago                       3           1            2   \n",
       "2    IL  Chicago                       1           1            2   \n",
       "3    IL  Chicago                       1           1            1   \n",
       "4    IL  Chicago                       1           1            2   \n",
       "\n",
       "   Property_Type_1  Cancellation Policy 1  Neighbourhood_Cleansed_1  state_1  \n",
       "0                0                      3                  0.036762  midwest  \n",
       "1               18                      2                  0.036762  midwest  \n",
       "2                0                      2                  0.036762  midwest  \n",
       "3                0                      2                  0.036762  midwest  \n",
       "4               18                      3                  0.041357  midwest  "
      ]
     },
     "execution_count": 332,
     "metadata": {},
     "output_type": "execute_result"
    }
   ],
   "source": [
    "df_cat1.head()"
   ]
  },
  {
   "cell_type": "code",
   "execution_count": 333,
   "id": "22cdefd3",
   "metadata": {},
   "outputs": [],
   "source": [
    "df_cat1.drop('State',axis=1,inplace=True)"
   ]
  },
  {
   "cell_type": "code",
   "execution_count": 335,
   "id": "51bfb797",
   "metadata": {},
   "outputs": [
    {
     "data": {
      "text/html": [
       "<div>\n",
       "<style scoped>\n",
       "    .dataframe tbody tr th:only-of-type {\n",
       "        vertical-align: middle;\n",
       "    }\n",
       "\n",
       "    .dataframe tbody tr th {\n",
       "        vertical-align: top;\n",
       "    }\n",
       "\n",
       "    .dataframe thead th {\n",
       "        text-align: right;\n",
       "    }\n",
       "</style>\n",
       "<table border=\"1\" class=\"dataframe\">\n",
       "  <thead>\n",
       "    <tr style=\"text-align: right;\">\n",
       "      <th></th>\n",
       "      <th>Market</th>\n",
       "      <th>Host Response Time ord</th>\n",
       "      <th>Bed Type 1</th>\n",
       "      <th>Room_Type_1</th>\n",
       "      <th>Property_Type_1</th>\n",
       "      <th>Cancellation Policy 1</th>\n",
       "      <th>Neighbourhood_Cleansed_1</th>\n",
       "      <th>state_1</th>\n",
       "    </tr>\n",
       "  </thead>\n",
       "  <tbody>\n",
       "    <tr>\n",
       "      <th>0</th>\n",
       "      <td>Chicago</td>\n",
       "      <td>1</td>\n",
       "      <td>1</td>\n",
       "      <td>2</td>\n",
       "      <td>0</td>\n",
       "      <td>3</td>\n",
       "      <td>0.036762</td>\n",
       "      <td>midwest</td>\n",
       "    </tr>\n",
       "    <tr>\n",
       "      <th>1</th>\n",
       "      <td>Chicago</td>\n",
       "      <td>3</td>\n",
       "      <td>1</td>\n",
       "      <td>2</td>\n",
       "      <td>18</td>\n",
       "      <td>2</td>\n",
       "      <td>0.036762</td>\n",
       "      <td>midwest</td>\n",
       "    </tr>\n",
       "    <tr>\n",
       "      <th>2</th>\n",
       "      <td>Chicago</td>\n",
       "      <td>1</td>\n",
       "      <td>1</td>\n",
       "      <td>2</td>\n",
       "      <td>0</td>\n",
       "      <td>2</td>\n",
       "      <td>0.036762</td>\n",
       "      <td>midwest</td>\n",
       "    </tr>\n",
       "    <tr>\n",
       "      <th>3</th>\n",
       "      <td>Chicago</td>\n",
       "      <td>1</td>\n",
       "      <td>1</td>\n",
       "      <td>1</td>\n",
       "      <td>0</td>\n",
       "      <td>2</td>\n",
       "      <td>0.036762</td>\n",
       "      <td>midwest</td>\n",
       "    </tr>\n",
       "    <tr>\n",
       "      <th>4</th>\n",
       "      <td>Chicago</td>\n",
       "      <td>1</td>\n",
       "      <td>1</td>\n",
       "      <td>2</td>\n",
       "      <td>18</td>\n",
       "      <td>3</td>\n",
       "      <td>0.041357</td>\n",
       "      <td>midwest</td>\n",
       "    </tr>\n",
       "  </tbody>\n",
       "</table>\n",
       "</div>"
      ],
      "text/plain": [
       "    Market  Host Response Time ord  Bed Type 1  Room_Type_1  Property_Type_1  \\\n",
       "0  Chicago                       1           1            2                0   \n",
       "1  Chicago                       3           1            2               18   \n",
       "2  Chicago                       1           1            2                0   \n",
       "3  Chicago                       1           1            1                0   \n",
       "4  Chicago                       1           1            2               18   \n",
       "\n",
       "   Cancellation Policy 1  Neighbourhood_Cleansed_1  state_1  \n",
       "0                      3                  0.036762  midwest  \n",
       "1                      2                  0.036762  midwest  \n",
       "2                      2                  0.036762  midwest  \n",
       "3                      2                  0.036762  midwest  \n",
       "4                      3                  0.041357  midwest  "
      ]
     },
     "execution_count": 335,
     "metadata": {},
     "output_type": "execute_result"
    }
   ],
   "source": [
    "df_cat1.head()"
   ]
  },
  {
   "cell_type": "code",
   "execution_count": 337,
   "id": "a28afb71",
   "metadata": {},
   "outputs": [
    {
     "data": {
      "text/plain": [
       "241       2012-10-11\n",
       "242       2015-06-15\n",
       "243       2015-02-10\n",
       "244       2014-10-08\n",
       "245       2011-10-13\n",
       "             ...    \n",
       "494567    2012-06-20\n",
       "494568    2017-02-19\n",
       "494569    2014-07-17\n",
       "494570    2015-03-29\n",
       "494571    2016-05-05\n",
       "Name: Host Since, Length: 130571, dtype: object"
      ]
     },
     "execution_count": 337,
     "metadata": {},
     "output_type": "execute_result"
    }
   ],
   "source": [
    "df_cat['Host Since']"
   ]
  },
  {
   "cell_type": "code",
   "execution_count": 340,
   "id": "57d2f4cd",
   "metadata": {},
   "outputs": [],
   "source": [
    "#df_sales['vintage']=\n",
    "today_date = pd.to_datetime(pd.to_datetime(\"today\").date())\n",
    "df_cat[\"Host Since\"] = pd.to_datetime(df_cat[\"Host Since\"])\n",
    "df_cat[\"Host Since Days\"] = (today_date - df_cat[\"Host Since\"])\n",
    "df_cat['Host Since Days'] = df_cat[['Host Since Days']].apply(pd.to_numeric)\n",
    "df_cat['Host Since Days'] = df_cat['Host Since Days'] / (24*60*60*1e9) #np.timedelta64(1, 'D')\n",
    "df_cat[\"Host Since Days\"] = df_cat[\"Host Since Days\"].astype(int)"
   ]
  },
  {
   "cell_type": "code",
   "execution_count": 341,
   "id": "44e07585",
   "metadata": {},
   "outputs": [
    {
     "data": {
      "text/html": [
       "<div>\n",
       "<style scoped>\n",
       "    .dataframe tbody tr th:only-of-type {\n",
       "        vertical-align: middle;\n",
       "    }\n",
       "\n",
       "    .dataframe tbody tr th {\n",
       "        vertical-align: top;\n",
       "    }\n",
       "\n",
       "    .dataframe thead th {\n",
       "        text-align: right;\n",
       "    }\n",
       "</style>\n",
       "<table border=\"1\" class=\"dataframe\">\n",
       "  <thead>\n",
       "    <tr style=\"text-align: right;\">\n",
       "      <th></th>\n",
       "      <th>Host Since</th>\n",
       "      <th>Host Response Time</th>\n",
       "      <th>Neighbourhood Cleansed</th>\n",
       "      <th>State</th>\n",
       "      <th>Zipcode</th>\n",
       "      <th>Market</th>\n",
       "      <th>Property Type</th>\n",
       "      <th>Room Type</th>\n",
       "      <th>Bed Type</th>\n",
       "      <th>Cancellation Policy</th>\n",
       "      <th>Host Since Days</th>\n",
       "    </tr>\n",
       "  </thead>\n",
       "  <tbody>\n",
       "    <tr>\n",
       "      <th>241</th>\n",
       "      <td>2012-10-11</td>\n",
       "      <td>within an hour</td>\n",
       "      <td>Humboldt Park</td>\n",
       "      <td>IL</td>\n",
       "      <td>60647</td>\n",
       "      <td>Chicago</td>\n",
       "      <td>Apartment</td>\n",
       "      <td>Private room</td>\n",
       "      <td>Real Bed</td>\n",
       "      <td>strict</td>\n",
       "      <td>3476</td>\n",
       "    </tr>\n",
       "    <tr>\n",
       "      <th>242</th>\n",
       "      <td>2015-06-15</td>\n",
       "      <td>within a day</td>\n",
       "      <td>Humboldt Park</td>\n",
       "      <td>IL</td>\n",
       "      <td>60651</td>\n",
       "      <td>Chicago</td>\n",
       "      <td>House</td>\n",
       "      <td>Private room</td>\n",
       "      <td>Real Bed</td>\n",
       "      <td>flexible</td>\n",
       "      <td>2499</td>\n",
       "    </tr>\n",
       "    <tr>\n",
       "      <th>243</th>\n",
       "      <td>2015-02-10</td>\n",
       "      <td>within an hour</td>\n",
       "      <td>Humboldt Park</td>\n",
       "      <td>IL</td>\n",
       "      <td>60651</td>\n",
       "      <td>Chicago</td>\n",
       "      <td>Apartment</td>\n",
       "      <td>Private room</td>\n",
       "      <td>Real Bed</td>\n",
       "      <td>moderate</td>\n",
       "      <td>2624</td>\n",
       "    </tr>\n",
       "    <tr>\n",
       "      <th>244</th>\n",
       "      <td>2014-10-08</td>\n",
       "      <td>within an hour</td>\n",
       "      <td>Humboldt Park</td>\n",
       "      <td>IL</td>\n",
       "      <td>60651</td>\n",
       "      <td>Chicago</td>\n",
       "      <td>Apartment</td>\n",
       "      <td>Entire home/apt</td>\n",
       "      <td>Real Bed</td>\n",
       "      <td>flexible</td>\n",
       "      <td>2749</td>\n",
       "    </tr>\n",
       "    <tr>\n",
       "      <th>245</th>\n",
       "      <td>2011-10-13</td>\n",
       "      <td>within an hour</td>\n",
       "      <td>East Garfield Park</td>\n",
       "      <td>IL</td>\n",
       "      <td>60624</td>\n",
       "      <td>Chicago</td>\n",
       "      <td>House</td>\n",
       "      <td>Private room</td>\n",
       "      <td>Real Bed</td>\n",
       "      <td>strict</td>\n",
       "      <td>3840</td>\n",
       "    </tr>\n",
       "  </tbody>\n",
       "</table>\n",
       "</div>"
      ],
      "text/plain": [
       "    Host Since Host Response Time Neighbourhood Cleansed State Zipcode  \\\n",
       "241 2012-10-11     within an hour          Humboldt Park    IL   60647   \n",
       "242 2015-06-15       within a day          Humboldt Park    IL   60651   \n",
       "243 2015-02-10     within an hour          Humboldt Park    IL   60651   \n",
       "244 2014-10-08     within an hour          Humboldt Park    IL   60651   \n",
       "245 2011-10-13     within an hour     East Garfield Park    IL   60624   \n",
       "\n",
       "      Market Property Type        Room Type  Bed Type Cancellation Policy  \\\n",
       "241  Chicago     Apartment     Private room  Real Bed              strict   \n",
       "242  Chicago         House     Private room  Real Bed            flexible   \n",
       "243  Chicago     Apartment     Private room  Real Bed            moderate   \n",
       "244  Chicago     Apartment  Entire home/apt  Real Bed            flexible   \n",
       "245  Chicago         House     Private room  Real Bed              strict   \n",
       "\n",
       "     Host Since Days  \n",
       "241             3476  \n",
       "242             2499  \n",
       "243             2624  \n",
       "244             2749  \n",
       "245             3840  "
      ]
     },
     "execution_count": 341,
     "metadata": {},
     "output_type": "execute_result"
    }
   ],
   "source": [
    "df_cat.head()"
   ]
  },
  {
   "cell_type": "code",
   "execution_count": 343,
   "id": "1faf2172",
   "metadata": {},
   "outputs": [],
   "source": [
    "nyi_days=df_cat.loc[:,['Host Since Days']]"
   ]
  },
  {
   "cell_type": "code",
   "execution_count": 347,
   "id": "5231fa99",
   "metadata": {},
   "outputs": [
    {
     "data": {
      "text/html": [
       "<div>\n",
       "<style scoped>\n",
       "    .dataframe tbody tr th:only-of-type {\n",
       "        vertical-align: middle;\n",
       "    }\n",
       "\n",
       "    .dataframe tbody tr th {\n",
       "        vertical-align: top;\n",
       "    }\n",
       "\n",
       "    .dataframe thead th {\n",
       "        text-align: right;\n",
       "    }\n",
       "</style>\n",
       "<table border=\"1\" class=\"dataframe\">\n",
       "  <thead>\n",
       "    <tr style=\"text-align: right;\">\n",
       "      <th></th>\n",
       "      <th>Host Since Days</th>\n",
       "    </tr>\n",
       "  </thead>\n",
       "  <tbody>\n",
       "    <tr>\n",
       "      <th>0</th>\n",
       "      <td>3476</td>\n",
       "    </tr>\n",
       "    <tr>\n",
       "      <th>1</th>\n",
       "      <td>2499</td>\n",
       "    </tr>\n",
       "    <tr>\n",
       "      <th>2</th>\n",
       "      <td>2624</td>\n",
       "    </tr>\n",
       "    <tr>\n",
       "      <th>3</th>\n",
       "      <td>2749</td>\n",
       "    </tr>\n",
       "    <tr>\n",
       "      <th>4</th>\n",
       "      <td>3840</td>\n",
       "    </tr>\n",
       "    <tr>\n",
       "      <th>...</th>\n",
       "      <td>...</td>\n",
       "    </tr>\n",
       "    <tr>\n",
       "      <th>130566</th>\n",
       "      <td>3589</td>\n",
       "    </tr>\n",
       "    <tr>\n",
       "      <th>130567</th>\n",
       "      <td>1884</td>\n",
       "    </tr>\n",
       "    <tr>\n",
       "      <th>130568</th>\n",
       "      <td>2832</td>\n",
       "    </tr>\n",
       "    <tr>\n",
       "      <th>130569</th>\n",
       "      <td>2577</td>\n",
       "    </tr>\n",
       "    <tr>\n",
       "      <th>130570</th>\n",
       "      <td>2174</td>\n",
       "    </tr>\n",
       "  </tbody>\n",
       "</table>\n",
       "<p>130571 rows × 1 columns</p>\n",
       "</div>"
      ],
      "text/plain": [
       "        Host Since Days\n",
       "0                  3476\n",
       "1                  2499\n",
       "2                  2624\n",
       "3                  2749\n",
       "4                  3840\n",
       "...                 ...\n",
       "130566             3589\n",
       "130567             1884\n",
       "130568             2832\n",
       "130569             2577\n",
       "130570             2174\n",
       "\n",
       "[130571 rows x 1 columns]"
      ]
     },
     "execution_count": 347,
     "metadata": {},
     "output_type": "execute_result"
    }
   ],
   "source": [
    "zz=nyi_days.reset_index().drop('index',axis=1)\n",
    "zz"
   ]
  },
  {
   "cell_type": "code",
   "execution_count": null,
   "id": "e217061b",
   "metadata": {},
   "outputs": [],
   "source": []
  },
  {
   "cell_type": "code",
   "execution_count": 377,
   "id": "cb96b971",
   "metadata": {},
   "outputs": [],
   "source": [
    "df_cat1=pd.concat([df_cat1,zz],axis=1)"
   ]
  },
  {
   "cell_type": "code",
   "execution_count": 379,
   "id": "86a0c285",
   "metadata": {},
   "outputs": [],
   "source": [
    "xx=pd.get_dummies(df_cat1['state_1'])"
   ]
  },
  {
   "cell_type": "code",
   "execution_count": 380,
   "id": "5605c309",
   "metadata": {},
   "outputs": [],
   "source": [
    "df_cat1=pd.concat([df_cat1,xx],axis=1)"
   ]
  },
  {
   "cell_type": "code",
   "execution_count": 381,
   "id": "0115479d",
   "metadata": {},
   "outputs": [
    {
     "data": {
      "text/html": [
       "<div>\n",
       "<style scoped>\n",
       "    .dataframe tbody tr th:only-of-type {\n",
       "        vertical-align: middle;\n",
       "    }\n",
       "\n",
       "    .dataframe tbody tr th {\n",
       "        vertical-align: top;\n",
       "    }\n",
       "\n",
       "    .dataframe thead th {\n",
       "        text-align: right;\n",
       "    }\n",
       "</style>\n",
       "<table border=\"1\" class=\"dataframe\">\n",
       "  <thead>\n",
       "    <tr style=\"text-align: right;\">\n",
       "      <th></th>\n",
       "      <th>Market</th>\n",
       "      <th>Host Response Time ord</th>\n",
       "      <th>Bed Type 1</th>\n",
       "      <th>Room_Type_1</th>\n",
       "      <th>Property_Type_1</th>\n",
       "      <th>Cancellation Policy 1</th>\n",
       "      <th>Neighbourhood_Cleansed_1</th>\n",
       "      <th>state_1</th>\n",
       "      <th>Host Since Days</th>\n",
       "      <th>North east</th>\n",
       "      <th>midwest</th>\n",
       "      <th>south</th>\n",
       "      <th>west</th>\n",
       "    </tr>\n",
       "  </thead>\n",
       "  <tbody>\n",
       "    <tr>\n",
       "      <th>0</th>\n",
       "      <td>Chicago</td>\n",
       "      <td>1</td>\n",
       "      <td>1</td>\n",
       "      <td>2</td>\n",
       "      <td>0</td>\n",
       "      <td>3</td>\n",
       "      <td>0.036762</td>\n",
       "      <td>midwest</td>\n",
       "      <td>3476</td>\n",
       "      <td>0</td>\n",
       "      <td>1</td>\n",
       "      <td>0</td>\n",
       "      <td>0</td>\n",
       "    </tr>\n",
       "    <tr>\n",
       "      <th>1</th>\n",
       "      <td>Chicago</td>\n",
       "      <td>3</td>\n",
       "      <td>1</td>\n",
       "      <td>2</td>\n",
       "      <td>18</td>\n",
       "      <td>2</td>\n",
       "      <td>0.036762</td>\n",
       "      <td>midwest</td>\n",
       "      <td>2499</td>\n",
       "      <td>0</td>\n",
       "      <td>1</td>\n",
       "      <td>0</td>\n",
       "      <td>0</td>\n",
       "    </tr>\n",
       "    <tr>\n",
       "      <th>2</th>\n",
       "      <td>Chicago</td>\n",
       "      <td>1</td>\n",
       "      <td>1</td>\n",
       "      <td>2</td>\n",
       "      <td>0</td>\n",
       "      <td>2</td>\n",
       "      <td>0.036762</td>\n",
       "      <td>midwest</td>\n",
       "      <td>2624</td>\n",
       "      <td>0</td>\n",
       "      <td>1</td>\n",
       "      <td>0</td>\n",
       "      <td>0</td>\n",
       "    </tr>\n",
       "    <tr>\n",
       "      <th>3</th>\n",
       "      <td>Chicago</td>\n",
       "      <td>1</td>\n",
       "      <td>1</td>\n",
       "      <td>1</td>\n",
       "      <td>0</td>\n",
       "      <td>2</td>\n",
       "      <td>0.036762</td>\n",
       "      <td>midwest</td>\n",
       "      <td>2749</td>\n",
       "      <td>0</td>\n",
       "      <td>1</td>\n",
       "      <td>0</td>\n",
       "      <td>0</td>\n",
       "    </tr>\n",
       "    <tr>\n",
       "      <th>4</th>\n",
       "      <td>Chicago</td>\n",
       "      <td>1</td>\n",
       "      <td>1</td>\n",
       "      <td>2</td>\n",
       "      <td>18</td>\n",
       "      <td>3</td>\n",
       "      <td>0.041357</td>\n",
       "      <td>midwest</td>\n",
       "      <td>3840</td>\n",
       "      <td>0</td>\n",
       "      <td>1</td>\n",
       "      <td>0</td>\n",
       "      <td>0</td>\n",
       "    </tr>\n",
       "  </tbody>\n",
       "</table>\n",
       "</div>"
      ],
      "text/plain": [
       "    Market  Host Response Time ord  Bed Type 1  Room_Type_1  Property_Type_1  \\\n",
       "0  Chicago                       1           1            2                0   \n",
       "1  Chicago                       3           1            2               18   \n",
       "2  Chicago                       1           1            2                0   \n",
       "3  Chicago                       1           1            1                0   \n",
       "4  Chicago                       1           1            2               18   \n",
       "\n",
       "   Cancellation Policy 1  Neighbourhood_Cleansed_1  state_1  Host Since Days  \\\n",
       "0                      3                  0.036762  midwest             3476   \n",
       "1                      2                  0.036762  midwest             2499   \n",
       "2                      2                  0.036762  midwest             2624   \n",
       "3                      2                  0.036762  midwest             2749   \n",
       "4                      3                  0.041357  midwest             3840   \n",
       "\n",
       "   North east  midwest  south  west  \n",
       "0           0        1      0     0  \n",
       "1           0        1      0     0  \n",
       "2           0        1      0     0  \n",
       "3           0        1      0     0  \n",
       "4           0        1      0     0  "
      ]
     },
     "execution_count": 381,
     "metadata": {},
     "output_type": "execute_result"
    }
   ],
   "source": [
    "df_cat1.head()"
   ]
  },
  {
   "cell_type": "code",
   "execution_count": 382,
   "id": "cd2503f2",
   "metadata": {},
   "outputs": [
    {
     "data": {
      "text/html": [
       "<div>\n",
       "<style scoped>\n",
       "    .dataframe tbody tr th:only-of-type {\n",
       "        vertical-align: middle;\n",
       "    }\n",
       "\n",
       "    .dataframe tbody tr th {\n",
       "        vertical-align: top;\n",
       "    }\n",
       "\n",
       "    .dataframe thead th {\n",
       "        text-align: right;\n",
       "    }\n",
       "</style>\n",
       "<table border=\"1\" class=\"dataframe\">\n",
       "  <thead>\n",
       "    <tr style=\"text-align: right;\">\n",
       "      <th></th>\n",
       "      <th>Market</th>\n",
       "      <th>Host Response Time ord</th>\n",
       "      <th>Bed Type 1</th>\n",
       "      <th>Room_Type_1</th>\n",
       "      <th>Property_Type_1</th>\n",
       "      <th>Cancellation Policy 1</th>\n",
       "      <th>Neighbourhood_Cleansed_1</th>\n",
       "      <th>state_1</th>\n",
       "      <th>Host Since Days</th>\n",
       "      <th>North east</th>\n",
       "      <th>midwest</th>\n",
       "      <th>south</th>\n",
       "      <th>west</th>\n",
       "    </tr>\n",
       "  </thead>\n",
       "  <tbody>\n",
       "    <tr>\n",
       "      <th>0</th>\n",
       "      <td>Chicago</td>\n",
       "      <td>1</td>\n",
       "      <td>1</td>\n",
       "      <td>2</td>\n",
       "      <td>0</td>\n",
       "      <td>3</td>\n",
       "      <td>0.036762</td>\n",
       "      <td>midwest</td>\n",
       "      <td>3476</td>\n",
       "      <td>0</td>\n",
       "      <td>1</td>\n",
       "      <td>0</td>\n",
       "      <td>0</td>\n",
       "    </tr>\n",
       "    <tr>\n",
       "      <th>1</th>\n",
       "      <td>Chicago</td>\n",
       "      <td>3</td>\n",
       "      <td>1</td>\n",
       "      <td>2</td>\n",
       "      <td>18</td>\n",
       "      <td>2</td>\n",
       "      <td>0.036762</td>\n",
       "      <td>midwest</td>\n",
       "      <td>2499</td>\n",
       "      <td>0</td>\n",
       "      <td>1</td>\n",
       "      <td>0</td>\n",
       "      <td>0</td>\n",
       "    </tr>\n",
       "    <tr>\n",
       "      <th>2</th>\n",
       "      <td>Chicago</td>\n",
       "      <td>1</td>\n",
       "      <td>1</td>\n",
       "      <td>2</td>\n",
       "      <td>0</td>\n",
       "      <td>2</td>\n",
       "      <td>0.036762</td>\n",
       "      <td>midwest</td>\n",
       "      <td>2624</td>\n",
       "      <td>0</td>\n",
       "      <td>1</td>\n",
       "      <td>0</td>\n",
       "      <td>0</td>\n",
       "    </tr>\n",
       "    <tr>\n",
       "      <th>3</th>\n",
       "      <td>Chicago</td>\n",
       "      <td>1</td>\n",
       "      <td>1</td>\n",
       "      <td>1</td>\n",
       "      <td>0</td>\n",
       "      <td>2</td>\n",
       "      <td>0.036762</td>\n",
       "      <td>midwest</td>\n",
       "      <td>2749</td>\n",
       "      <td>0</td>\n",
       "      <td>1</td>\n",
       "      <td>0</td>\n",
       "      <td>0</td>\n",
       "    </tr>\n",
       "    <tr>\n",
       "      <th>4</th>\n",
       "      <td>Chicago</td>\n",
       "      <td>1</td>\n",
       "      <td>1</td>\n",
       "      <td>2</td>\n",
       "      <td>18</td>\n",
       "      <td>3</td>\n",
       "      <td>0.041357</td>\n",
       "      <td>midwest</td>\n",
       "      <td>3840</td>\n",
       "      <td>0</td>\n",
       "      <td>1</td>\n",
       "      <td>0</td>\n",
       "      <td>0</td>\n",
       "    </tr>\n",
       "  </tbody>\n",
       "</table>\n",
       "</div>"
      ],
      "text/plain": [
       "    Market  Host Response Time ord  Bed Type 1  Room_Type_1  Property_Type_1  \\\n",
       "0  Chicago                       1           1            2                0   \n",
       "1  Chicago                       3           1            2               18   \n",
       "2  Chicago                       1           1            2                0   \n",
       "3  Chicago                       1           1            1                0   \n",
       "4  Chicago                       1           1            2               18   \n",
       "\n",
       "   Cancellation Policy 1  Neighbourhood_Cleansed_1  state_1  Host Since Days  \\\n",
       "0                      3                  0.036762  midwest             3476   \n",
       "1                      2                  0.036762  midwest             2499   \n",
       "2                      2                  0.036762  midwest             2624   \n",
       "3                      2                  0.036762  midwest             2749   \n",
       "4                      3                  0.041357  midwest             3840   \n",
       "\n",
       "   North east  midwest  south  west  \n",
       "0           0        1      0     0  \n",
       "1           0        1      0     0  \n",
       "2           0        1      0     0  \n",
       "3           0        1      0     0  \n",
       "4           0        1      0     0  "
      ]
     },
     "execution_count": 382,
     "metadata": {},
     "output_type": "execute_result"
    }
   ],
   "source": [
    "df_cat1.head()"
   ]
  },
  {
   "cell_type": "code",
   "execution_count": 383,
   "id": "5c169b63",
   "metadata": {},
   "outputs": [],
   "source": [
    "df_cat1.drop('state_1',axis=1,inplace=True)"
   ]
  },
  {
   "cell_type": "code",
   "execution_count": 384,
   "id": "2c4b2198",
   "metadata": {},
   "outputs": [
    {
     "data": {
      "text/html": [
       "<div>\n",
       "<style scoped>\n",
       "    .dataframe tbody tr th:only-of-type {\n",
       "        vertical-align: middle;\n",
       "    }\n",
       "\n",
       "    .dataframe tbody tr th {\n",
       "        vertical-align: top;\n",
       "    }\n",
       "\n",
       "    .dataframe thead th {\n",
       "        text-align: right;\n",
       "    }\n",
       "</style>\n",
       "<table border=\"1\" class=\"dataframe\">\n",
       "  <thead>\n",
       "    <tr style=\"text-align: right;\">\n",
       "      <th></th>\n",
       "      <th>Market</th>\n",
       "      <th>Host Response Time ord</th>\n",
       "      <th>Bed Type 1</th>\n",
       "      <th>Room_Type_1</th>\n",
       "      <th>Property_Type_1</th>\n",
       "      <th>Cancellation Policy 1</th>\n",
       "      <th>Neighbourhood_Cleansed_1</th>\n",
       "      <th>Host Since Days</th>\n",
       "      <th>North east</th>\n",
       "      <th>midwest</th>\n",
       "      <th>south</th>\n",
       "      <th>west</th>\n",
       "    </tr>\n",
       "  </thead>\n",
       "  <tbody>\n",
       "    <tr>\n",
       "      <th>0</th>\n",
       "      <td>Chicago</td>\n",
       "      <td>1</td>\n",
       "      <td>1</td>\n",
       "      <td>2</td>\n",
       "      <td>0</td>\n",
       "      <td>3</td>\n",
       "      <td>0.036762</td>\n",
       "      <td>3476</td>\n",
       "      <td>0</td>\n",
       "      <td>1</td>\n",
       "      <td>0</td>\n",
       "      <td>0</td>\n",
       "    </tr>\n",
       "    <tr>\n",
       "      <th>1</th>\n",
       "      <td>Chicago</td>\n",
       "      <td>3</td>\n",
       "      <td>1</td>\n",
       "      <td>2</td>\n",
       "      <td>18</td>\n",
       "      <td>2</td>\n",
       "      <td>0.036762</td>\n",
       "      <td>2499</td>\n",
       "      <td>0</td>\n",
       "      <td>1</td>\n",
       "      <td>0</td>\n",
       "      <td>0</td>\n",
       "    </tr>\n",
       "    <tr>\n",
       "      <th>2</th>\n",
       "      <td>Chicago</td>\n",
       "      <td>1</td>\n",
       "      <td>1</td>\n",
       "      <td>2</td>\n",
       "      <td>0</td>\n",
       "      <td>2</td>\n",
       "      <td>0.036762</td>\n",
       "      <td>2624</td>\n",
       "      <td>0</td>\n",
       "      <td>1</td>\n",
       "      <td>0</td>\n",
       "      <td>0</td>\n",
       "    </tr>\n",
       "    <tr>\n",
       "      <th>3</th>\n",
       "      <td>Chicago</td>\n",
       "      <td>1</td>\n",
       "      <td>1</td>\n",
       "      <td>1</td>\n",
       "      <td>0</td>\n",
       "      <td>2</td>\n",
       "      <td>0.036762</td>\n",
       "      <td>2749</td>\n",
       "      <td>0</td>\n",
       "      <td>1</td>\n",
       "      <td>0</td>\n",
       "      <td>0</td>\n",
       "    </tr>\n",
       "    <tr>\n",
       "      <th>4</th>\n",
       "      <td>Chicago</td>\n",
       "      <td>1</td>\n",
       "      <td>1</td>\n",
       "      <td>2</td>\n",
       "      <td>18</td>\n",
       "      <td>3</td>\n",
       "      <td>0.041357</td>\n",
       "      <td>3840</td>\n",
       "      <td>0</td>\n",
       "      <td>1</td>\n",
       "      <td>0</td>\n",
       "      <td>0</td>\n",
       "    </tr>\n",
       "  </tbody>\n",
       "</table>\n",
       "</div>"
      ],
      "text/plain": [
       "    Market  Host Response Time ord  Bed Type 1  Room_Type_1  Property_Type_1  \\\n",
       "0  Chicago                       1           1            2                0   \n",
       "1  Chicago                       3           1            2               18   \n",
       "2  Chicago                       1           1            2                0   \n",
       "3  Chicago                       1           1            1                0   \n",
       "4  Chicago                       1           1            2               18   \n",
       "\n",
       "   Cancellation Policy 1  Neighbourhood_Cleansed_1  Host Since Days  \\\n",
       "0                      3                  0.036762             3476   \n",
       "1                      2                  0.036762             2499   \n",
       "2                      2                  0.036762             2624   \n",
       "3                      2                  0.036762             2749   \n",
       "4                      3                  0.041357             3840   \n",
       "\n",
       "   North east  midwest  south  west  \n",
       "0           0        1      0     0  \n",
       "1           0        1      0     0  \n",
       "2           0        1      0     0  \n",
       "3           0        1      0     0  \n",
       "4           0        1      0     0  "
      ]
     },
     "execution_count": 384,
     "metadata": {},
     "output_type": "execute_result"
    }
   ],
   "source": [
    "df_cat1.head()"
   ]
  },
  {
   "cell_type": "code",
   "execution_count": 385,
   "id": "5fae20b8",
   "metadata": {},
   "outputs": [],
   "source": [
    "encode1=(df_cat1.Market.value_counts()/df_cat1.Market.value_counts().sum())*100"
   ]
  },
  {
   "cell_type": "code",
   "execution_count": 386,
   "id": "f56085f2",
   "metadata": {},
   "outputs": [],
   "source": [
    "df_cat1['Market_1']=df_cat1.Market.map(encode1)"
   ]
  },
  {
   "cell_type": "code",
   "execution_count": 387,
   "id": "815691ee",
   "metadata": {},
   "outputs": [
    {
     "data": {
      "text/html": [
       "<div>\n",
       "<style scoped>\n",
       "    .dataframe tbody tr th:only-of-type {\n",
       "        vertical-align: middle;\n",
       "    }\n",
       "\n",
       "    .dataframe tbody tr th {\n",
       "        vertical-align: top;\n",
       "    }\n",
       "\n",
       "    .dataframe thead th {\n",
       "        text-align: right;\n",
       "    }\n",
       "</style>\n",
       "<table border=\"1\" class=\"dataframe\">\n",
       "  <thead>\n",
       "    <tr style=\"text-align: right;\">\n",
       "      <th></th>\n",
       "      <th>Market</th>\n",
       "      <th>Host Response Time ord</th>\n",
       "      <th>Bed Type 1</th>\n",
       "      <th>Room_Type_1</th>\n",
       "      <th>Property_Type_1</th>\n",
       "      <th>Cancellation Policy 1</th>\n",
       "      <th>Neighbourhood_Cleansed_1</th>\n",
       "      <th>Host Since Days</th>\n",
       "      <th>North east</th>\n",
       "      <th>midwest</th>\n",
       "      <th>south</th>\n",
       "      <th>west</th>\n",
       "      <th>Market_1</th>\n",
       "    </tr>\n",
       "  </thead>\n",
       "  <tbody>\n",
       "    <tr>\n",
       "      <th>0</th>\n",
       "      <td>Chicago</td>\n",
       "      <td>1</td>\n",
       "      <td>1</td>\n",
       "      <td>2</td>\n",
       "      <td>0</td>\n",
       "      <td>3</td>\n",
       "      <td>0.036762</td>\n",
       "      <td>3476</td>\n",
       "      <td>0</td>\n",
       "      <td>1</td>\n",
       "      <td>0</td>\n",
       "      <td>0</td>\n",
       "      <td>3.946512</td>\n",
       "    </tr>\n",
       "    <tr>\n",
       "      <th>1</th>\n",
       "      <td>Chicago</td>\n",
       "      <td>3</td>\n",
       "      <td>1</td>\n",
       "      <td>2</td>\n",
       "      <td>18</td>\n",
       "      <td>2</td>\n",
       "      <td>0.036762</td>\n",
       "      <td>2499</td>\n",
       "      <td>0</td>\n",
       "      <td>1</td>\n",
       "      <td>0</td>\n",
       "      <td>0</td>\n",
       "      <td>3.946512</td>\n",
       "    </tr>\n",
       "    <tr>\n",
       "      <th>2</th>\n",
       "      <td>Chicago</td>\n",
       "      <td>1</td>\n",
       "      <td>1</td>\n",
       "      <td>2</td>\n",
       "      <td>0</td>\n",
       "      <td>2</td>\n",
       "      <td>0.036762</td>\n",
       "      <td>2624</td>\n",
       "      <td>0</td>\n",
       "      <td>1</td>\n",
       "      <td>0</td>\n",
       "      <td>0</td>\n",
       "      <td>3.946512</td>\n",
       "    </tr>\n",
       "    <tr>\n",
       "      <th>3</th>\n",
       "      <td>Chicago</td>\n",
       "      <td>1</td>\n",
       "      <td>1</td>\n",
       "      <td>1</td>\n",
       "      <td>0</td>\n",
       "      <td>2</td>\n",
       "      <td>0.036762</td>\n",
       "      <td>2749</td>\n",
       "      <td>0</td>\n",
       "      <td>1</td>\n",
       "      <td>0</td>\n",
       "      <td>0</td>\n",
       "      <td>3.946512</td>\n",
       "    </tr>\n",
       "    <tr>\n",
       "      <th>4</th>\n",
       "      <td>Chicago</td>\n",
       "      <td>1</td>\n",
       "      <td>1</td>\n",
       "      <td>2</td>\n",
       "      <td>18</td>\n",
       "      <td>3</td>\n",
       "      <td>0.041357</td>\n",
       "      <td>3840</td>\n",
       "      <td>0</td>\n",
       "      <td>1</td>\n",
       "      <td>0</td>\n",
       "      <td>0</td>\n",
       "      <td>3.946512</td>\n",
       "    </tr>\n",
       "  </tbody>\n",
       "</table>\n",
       "</div>"
      ],
      "text/plain": [
       "    Market  Host Response Time ord  Bed Type 1  Room_Type_1  Property_Type_1  \\\n",
       "0  Chicago                       1           1            2                0   \n",
       "1  Chicago                       3           1            2               18   \n",
       "2  Chicago                       1           1            2                0   \n",
       "3  Chicago                       1           1            1                0   \n",
       "4  Chicago                       1           1            2               18   \n",
       "\n",
       "   Cancellation Policy 1  Neighbourhood_Cleansed_1  Host Since Days  \\\n",
       "0                      3                  0.036762             3476   \n",
       "1                      2                  0.036762             2499   \n",
       "2                      2                  0.036762             2624   \n",
       "3                      2                  0.036762             2749   \n",
       "4                      3                  0.041357             3840   \n",
       "\n",
       "   North east  midwest  south  west  Market_1  \n",
       "0           0        1      0     0  3.946512  \n",
       "1           0        1      0     0  3.946512  \n",
       "2           0        1      0     0  3.946512  \n",
       "3           0        1      0     0  3.946512  \n",
       "4           0        1      0     0  3.946512  "
      ]
     },
     "execution_count": 387,
     "metadata": {},
     "output_type": "execute_result"
    }
   ],
   "source": [
    "df_cat1.head()"
   ]
  },
  {
   "cell_type": "code",
   "execution_count": 388,
   "id": "d133f94d",
   "metadata": {},
   "outputs": [],
   "source": [
    "df_cat1.drop('Market',axis=1,inplace=True)"
   ]
  },
  {
   "cell_type": "code",
   "execution_count": 389,
   "id": "fbdf142f",
   "metadata": {},
   "outputs": [
    {
     "data": {
      "text/html": [
       "<div>\n",
       "<style scoped>\n",
       "    .dataframe tbody tr th:only-of-type {\n",
       "        vertical-align: middle;\n",
       "    }\n",
       "\n",
       "    .dataframe tbody tr th {\n",
       "        vertical-align: top;\n",
       "    }\n",
       "\n",
       "    .dataframe thead th {\n",
       "        text-align: right;\n",
       "    }\n",
       "</style>\n",
       "<table border=\"1\" class=\"dataframe\">\n",
       "  <thead>\n",
       "    <tr style=\"text-align: right;\">\n",
       "      <th></th>\n",
       "      <th>Host Response Time ord</th>\n",
       "      <th>Bed Type 1</th>\n",
       "      <th>Room_Type_1</th>\n",
       "      <th>Property_Type_1</th>\n",
       "      <th>Cancellation Policy 1</th>\n",
       "      <th>Neighbourhood_Cleansed_1</th>\n",
       "      <th>Host Since Days</th>\n",
       "      <th>North east</th>\n",
       "      <th>midwest</th>\n",
       "      <th>south</th>\n",
       "      <th>west</th>\n",
       "      <th>Market_1</th>\n",
       "    </tr>\n",
       "  </thead>\n",
       "  <tbody>\n",
       "    <tr>\n",
       "      <th>0</th>\n",
       "      <td>1</td>\n",
       "      <td>1</td>\n",
       "      <td>2</td>\n",
       "      <td>0</td>\n",
       "      <td>3</td>\n",
       "      <td>0.036762</td>\n",
       "      <td>3476</td>\n",
       "      <td>0</td>\n",
       "      <td>1</td>\n",
       "      <td>0</td>\n",
       "      <td>0</td>\n",
       "      <td>3.946512</td>\n",
       "    </tr>\n",
       "    <tr>\n",
       "      <th>1</th>\n",
       "      <td>3</td>\n",
       "      <td>1</td>\n",
       "      <td>2</td>\n",
       "      <td>18</td>\n",
       "      <td>2</td>\n",
       "      <td>0.036762</td>\n",
       "      <td>2499</td>\n",
       "      <td>0</td>\n",
       "      <td>1</td>\n",
       "      <td>0</td>\n",
       "      <td>0</td>\n",
       "      <td>3.946512</td>\n",
       "    </tr>\n",
       "    <tr>\n",
       "      <th>2</th>\n",
       "      <td>1</td>\n",
       "      <td>1</td>\n",
       "      <td>2</td>\n",
       "      <td>0</td>\n",
       "      <td>2</td>\n",
       "      <td>0.036762</td>\n",
       "      <td>2624</td>\n",
       "      <td>0</td>\n",
       "      <td>1</td>\n",
       "      <td>0</td>\n",
       "      <td>0</td>\n",
       "      <td>3.946512</td>\n",
       "    </tr>\n",
       "    <tr>\n",
       "      <th>3</th>\n",
       "      <td>1</td>\n",
       "      <td>1</td>\n",
       "      <td>1</td>\n",
       "      <td>0</td>\n",
       "      <td>2</td>\n",
       "      <td>0.036762</td>\n",
       "      <td>2749</td>\n",
       "      <td>0</td>\n",
       "      <td>1</td>\n",
       "      <td>0</td>\n",
       "      <td>0</td>\n",
       "      <td>3.946512</td>\n",
       "    </tr>\n",
       "    <tr>\n",
       "      <th>4</th>\n",
       "      <td>1</td>\n",
       "      <td>1</td>\n",
       "      <td>2</td>\n",
       "      <td>18</td>\n",
       "      <td>3</td>\n",
       "      <td>0.041357</td>\n",
       "      <td>3840</td>\n",
       "      <td>0</td>\n",
       "      <td>1</td>\n",
       "      <td>0</td>\n",
       "      <td>0</td>\n",
       "      <td>3.946512</td>\n",
       "    </tr>\n",
       "  </tbody>\n",
       "</table>\n",
       "</div>"
      ],
      "text/plain": [
       "   Host Response Time ord  Bed Type 1  Room_Type_1  Property_Type_1  \\\n",
       "0                       1           1            2                0   \n",
       "1                       3           1            2               18   \n",
       "2                       1           1            2                0   \n",
       "3                       1           1            1                0   \n",
       "4                       1           1            2               18   \n",
       "\n",
       "   Cancellation Policy 1  Neighbourhood_Cleansed_1  Host Since Days  \\\n",
       "0                      3                  0.036762             3476   \n",
       "1                      2                  0.036762             2499   \n",
       "2                      2                  0.036762             2624   \n",
       "3                      2                  0.036762             2749   \n",
       "4                      3                  0.041357             3840   \n",
       "\n",
       "   North east  midwest  south  west  Market_1  \n",
       "0           0        1      0     0  3.946512  \n",
       "1           0        1      0     0  3.946512  \n",
       "2           0        1      0     0  3.946512  \n",
       "3           0        1      0     0  3.946512  \n",
       "4           0        1      0     0  3.946512  "
      ]
     },
     "execution_count": 389,
     "metadata": {},
     "output_type": "execute_result"
    }
   ],
   "source": [
    "df_cat1.head()"
   ]
  },
  {
   "cell_type": "code",
   "execution_count": 391,
   "id": "6c450d2b",
   "metadata": {},
   "outputs": [
    {
     "data": {
      "text/html": [
       "<div>\n",
       "<style scoped>\n",
       "    .dataframe tbody tr th:only-of-type {\n",
       "        vertical-align: middle;\n",
       "    }\n",
       "\n",
       "    .dataframe tbody tr th {\n",
       "        vertical-align: top;\n",
       "    }\n",
       "\n",
       "    .dataframe thead th {\n",
       "        text-align: right;\n",
       "    }\n",
       "</style>\n",
       "<table border=\"1\" class=\"dataframe\">\n",
       "  <thead>\n",
       "    <tr style=\"text-align: right;\">\n",
       "      <th></th>\n",
       "      <th>Host Response Rate</th>\n",
       "      <th>Accommodates</th>\n",
       "      <th>Bathrooms</th>\n",
       "      <th>Bedrooms</th>\n",
       "      <th>Beds</th>\n",
       "      <th>Price</th>\n",
       "      <th>Security Deposit</th>\n",
       "      <th>Cleaning Fee</th>\n",
       "      <th>Extra_people</th>\n",
       "      <th>Minimum Nights</th>\n",
       "      <th>...</th>\n",
       "      <th>Number of Reviews</th>\n",
       "      <th>Review Scores Rating</th>\n",
       "      <th>Review Scores Accuracy</th>\n",
       "      <th>Review Scores Cleanliness</th>\n",
       "      <th>Review Scores Checkin</th>\n",
       "      <th>Review Scores Communication</th>\n",
       "      <th>Review Scores Location</th>\n",
       "      <th>Review Scores Value</th>\n",
       "      <th>Calculated host listings count</th>\n",
       "      <th>Reviews per Month</th>\n",
       "    </tr>\n",
       "  </thead>\n",
       "  <tbody>\n",
       "    <tr>\n",
       "      <th>0</th>\n",
       "      <td>0.317206</td>\n",
       "      <td>-1.045902</td>\n",
       "      <td>-0.449154</td>\n",
       "      <td>-0.370885</td>\n",
       "      <td>-0.599209</td>\n",
       "      <td>-0.995039</td>\n",
       "      <td>-0.094036</td>\n",
       "      <td>-1.178355</td>\n",
       "      <td>-0.577403</td>\n",
       "      <td>-0.027689</td>\n",
       "      <td>...</td>\n",
       "      <td>-0.143191</td>\n",
       "      <td>0.787393</td>\n",
       "      <td>0.419371</td>\n",
       "      <td>0.509426</td>\n",
       "      <td>0.306354</td>\n",
       "      <td>0.298647</td>\n",
       "      <td>-0.912777</td>\n",
       "      <td>0.549619</td>\n",
       "      <td>-0.146142</td>\n",
       "      <td>1.031718</td>\n",
       "    </tr>\n",
       "    <tr>\n",
       "      <th>1</th>\n",
       "      <td>0.317206</td>\n",
       "      <td>-0.602341</td>\n",
       "      <td>0.383739</td>\n",
       "      <td>-0.370885</td>\n",
       "      <td>-0.599209</td>\n",
       "      <td>-0.702746</td>\n",
       "      <td>-0.094036</td>\n",
       "      <td>-1.114885</td>\n",
       "      <td>0.556128</td>\n",
       "      <td>-0.215261</td>\n",
       "      <td>...</td>\n",
       "      <td>0.557513</td>\n",
       "      <td>0.202871</td>\n",
       "      <td>0.419371</td>\n",
       "      <td>0.509426</td>\n",
       "      <td>0.306354</td>\n",
       "      <td>0.298647</td>\n",
       "      <td>-0.912777</td>\n",
       "      <td>0.549619</td>\n",
       "      <td>-0.249515</td>\n",
       "      <td>0.123987</td>\n",
       "    </tr>\n",
       "    <tr>\n",
       "      <th>2</th>\n",
       "      <td>0.317206</td>\n",
       "      <td>-0.602341</td>\n",
       "      <td>-0.449154</td>\n",
       "      <td>-0.370885</td>\n",
       "      <td>-0.599209</td>\n",
       "      <td>-0.856200</td>\n",
       "      <td>-0.094036</td>\n",
       "      <td>-1.220668</td>\n",
       "      <td>0.102715</td>\n",
       "      <td>-0.215261</td>\n",
       "      <td>...</td>\n",
       "      <td>-0.493544</td>\n",
       "      <td>0.787393</td>\n",
       "      <td>0.419371</td>\n",
       "      <td>-0.614406</td>\n",
       "      <td>0.306354</td>\n",
       "      <td>0.298647</td>\n",
       "      <td>0.505822</td>\n",
       "      <td>0.549619</td>\n",
       "      <td>-0.249515</td>\n",
       "      <td>0.221827</td>\n",
       "    </tr>\n",
       "    <tr>\n",
       "      <th>3</th>\n",
       "      <td>0.317206</td>\n",
       "      <td>1.171904</td>\n",
       "      <td>-0.449154</td>\n",
       "      <td>0.759500</td>\n",
       "      <td>0.904366</td>\n",
       "      <td>-0.702746</td>\n",
       "      <td>-0.094036</td>\n",
       "      <td>-1.009101</td>\n",
       "      <td>-0.123991</td>\n",
       "      <td>-0.215261</td>\n",
       "      <td>...</td>\n",
       "      <td>-0.385743</td>\n",
       "      <td>0.349001</td>\n",
       "      <td>-1.020295</td>\n",
       "      <td>-0.614406</td>\n",
       "      <td>0.306354</td>\n",
       "      <td>0.298647</td>\n",
       "      <td>-0.912777</td>\n",
       "      <td>0.549619</td>\n",
       "      <td>-0.146142</td>\n",
       "      <td>2.396031</td>\n",
       "    </tr>\n",
       "    <tr>\n",
       "      <th>4</th>\n",
       "      <td>0.048144</td>\n",
       "      <td>-0.602341</td>\n",
       "      <td>-0.449154</td>\n",
       "      <td>-0.370885</td>\n",
       "      <td>-0.599209</td>\n",
       "      <td>-0.856200</td>\n",
       "      <td>-0.094036</td>\n",
       "      <td>-1.136042</td>\n",
       "      <td>-0.123991</td>\n",
       "      <td>-0.121475</td>\n",
       "      <td>...</td>\n",
       "      <td>1.608569</td>\n",
       "      <td>0.202871</td>\n",
       "      <td>0.419371</td>\n",
       "      <td>-0.614406</td>\n",
       "      <td>0.306354</td>\n",
       "      <td>0.298647</td>\n",
       "      <td>-2.331377</td>\n",
       "      <td>-0.759615</td>\n",
       "      <td>-0.042768</td>\n",
       "      <td>2.711291</td>\n",
       "    </tr>\n",
       "  </tbody>\n",
       "</table>\n",
       "<p>5 rows × 25 columns</p>\n",
       "</div>"
      ],
      "text/plain": [
       "   Host Response Rate  Accommodates  Bathrooms  Bedrooms      Beds     Price  \\\n",
       "0            0.317206     -1.045902  -0.449154 -0.370885 -0.599209 -0.995039   \n",
       "1            0.317206     -0.602341   0.383739 -0.370885 -0.599209 -0.702746   \n",
       "2            0.317206     -0.602341  -0.449154 -0.370885 -0.599209 -0.856200   \n",
       "3            0.317206      1.171904  -0.449154  0.759500  0.904366 -0.702746   \n",
       "4            0.048144     -0.602341  -0.449154 -0.370885 -0.599209 -0.856200   \n",
       "\n",
       "   Security Deposit  Cleaning Fee  Extra_people  Minimum Nights  ...  \\\n",
       "0         -0.094036     -1.178355     -0.577403       -0.027689  ...   \n",
       "1         -0.094036     -1.114885      0.556128       -0.215261  ...   \n",
       "2         -0.094036     -1.220668      0.102715       -0.215261  ...   \n",
       "3         -0.094036     -1.009101     -0.123991       -0.215261  ...   \n",
       "4         -0.094036     -1.136042     -0.123991       -0.121475  ...   \n",
       "\n",
       "   Number of Reviews  Review Scores Rating  Review Scores Accuracy  \\\n",
       "0          -0.143191              0.787393                0.419371   \n",
       "1           0.557513              0.202871                0.419371   \n",
       "2          -0.493544              0.787393                0.419371   \n",
       "3          -0.385743              0.349001               -1.020295   \n",
       "4           1.608569              0.202871                0.419371   \n",
       "\n",
       "   Review Scores Cleanliness  Review Scores Checkin  \\\n",
       "0                   0.509426               0.306354   \n",
       "1                   0.509426               0.306354   \n",
       "2                  -0.614406               0.306354   \n",
       "3                  -0.614406               0.306354   \n",
       "4                  -0.614406               0.306354   \n",
       "\n",
       "   Review Scores Communication  Review Scores Location  Review Scores Value  \\\n",
       "0                     0.298647               -0.912777             0.549619   \n",
       "1                     0.298647               -0.912777             0.549619   \n",
       "2                     0.298647                0.505822             0.549619   \n",
       "3                     0.298647               -0.912777             0.549619   \n",
       "4                     0.298647               -2.331377            -0.759615   \n",
       "\n",
       "   Calculated host listings count  Reviews per Month  \n",
       "0                       -0.146142           1.031718  \n",
       "1                       -0.249515           0.123987  \n",
       "2                       -0.249515           0.221827  \n",
       "3                       -0.146142           2.396031  \n",
       "4                       -0.042768           2.711291  \n",
       "\n",
       "[5 rows x 25 columns]"
      ]
     },
     "execution_count": 391,
     "metadata": {},
     "output_type": "execute_result"
    }
   ],
   "source": [
    "df_num3.head()"
   ]
  },
  {
   "cell_type": "code",
   "execution_count": 392,
   "id": "b6b72bd9",
   "metadata": {},
   "outputs": [],
   "source": [
    "df_final=pd.concat([df_num3,df_cat1],axis=1)"
   ]
  },
  {
   "cell_type": "code",
   "execution_count": 394,
   "id": "10353de8",
   "metadata": {},
   "outputs": [
    {
     "data": {
      "text/html": [
       "<div>\n",
       "<style scoped>\n",
       "    .dataframe tbody tr th:only-of-type {\n",
       "        vertical-align: middle;\n",
       "    }\n",
       "\n",
       "    .dataframe tbody tr th {\n",
       "        vertical-align: top;\n",
       "    }\n",
       "\n",
       "    .dataframe thead th {\n",
       "        text-align: right;\n",
       "    }\n",
       "</style>\n",
       "<table border=\"1\" class=\"dataframe\">\n",
       "  <thead>\n",
       "    <tr style=\"text-align: right;\">\n",
       "      <th></th>\n",
       "      <th>Host Response Rate</th>\n",
       "      <th>Accommodates</th>\n",
       "      <th>Bathrooms</th>\n",
       "      <th>Bedrooms</th>\n",
       "      <th>Beds</th>\n",
       "      <th>Price</th>\n",
       "      <th>Security Deposit</th>\n",
       "      <th>Cleaning Fee</th>\n",
       "      <th>Extra_people</th>\n",
       "      <th>Minimum Nights</th>\n",
       "      <th>...</th>\n",
       "      <th>Room_Type_1</th>\n",
       "      <th>Property_Type_1</th>\n",
       "      <th>Cancellation Policy 1</th>\n",
       "      <th>Neighbourhood_Cleansed_1</th>\n",
       "      <th>Host Since Days</th>\n",
       "      <th>North east</th>\n",
       "      <th>midwest</th>\n",
       "      <th>south</th>\n",
       "      <th>west</th>\n",
       "      <th>Market_1</th>\n",
       "    </tr>\n",
       "  </thead>\n",
       "  <tbody>\n",
       "    <tr>\n",
       "      <th>0</th>\n",
       "      <td>0.317206</td>\n",
       "      <td>-1.045902</td>\n",
       "      <td>-0.449154</td>\n",
       "      <td>-0.370885</td>\n",
       "      <td>-0.599209</td>\n",
       "      <td>-0.995039</td>\n",
       "      <td>-0.094036</td>\n",
       "      <td>-1.178355</td>\n",
       "      <td>-0.577403</td>\n",
       "      <td>-0.027689</td>\n",
       "      <td>...</td>\n",
       "      <td>2</td>\n",
       "      <td>0</td>\n",
       "      <td>3</td>\n",
       "      <td>0.036762</td>\n",
       "      <td>3476</td>\n",
       "      <td>0</td>\n",
       "      <td>1</td>\n",
       "      <td>0</td>\n",
       "      <td>0</td>\n",
       "      <td>3.946512</td>\n",
       "    </tr>\n",
       "    <tr>\n",
       "      <th>1</th>\n",
       "      <td>0.317206</td>\n",
       "      <td>-0.602341</td>\n",
       "      <td>0.383739</td>\n",
       "      <td>-0.370885</td>\n",
       "      <td>-0.599209</td>\n",
       "      <td>-0.702746</td>\n",
       "      <td>-0.094036</td>\n",
       "      <td>-1.114885</td>\n",
       "      <td>0.556128</td>\n",
       "      <td>-0.215261</td>\n",
       "      <td>...</td>\n",
       "      <td>2</td>\n",
       "      <td>18</td>\n",
       "      <td>2</td>\n",
       "      <td>0.036762</td>\n",
       "      <td>2499</td>\n",
       "      <td>0</td>\n",
       "      <td>1</td>\n",
       "      <td>0</td>\n",
       "      <td>0</td>\n",
       "      <td>3.946512</td>\n",
       "    </tr>\n",
       "    <tr>\n",
       "      <th>2</th>\n",
       "      <td>0.317206</td>\n",
       "      <td>-0.602341</td>\n",
       "      <td>-0.449154</td>\n",
       "      <td>-0.370885</td>\n",
       "      <td>-0.599209</td>\n",
       "      <td>-0.856200</td>\n",
       "      <td>-0.094036</td>\n",
       "      <td>-1.220668</td>\n",
       "      <td>0.102715</td>\n",
       "      <td>-0.215261</td>\n",
       "      <td>...</td>\n",
       "      <td>2</td>\n",
       "      <td>0</td>\n",
       "      <td>2</td>\n",
       "      <td>0.036762</td>\n",
       "      <td>2624</td>\n",
       "      <td>0</td>\n",
       "      <td>1</td>\n",
       "      <td>0</td>\n",
       "      <td>0</td>\n",
       "      <td>3.946512</td>\n",
       "    </tr>\n",
       "    <tr>\n",
       "      <th>3</th>\n",
       "      <td>0.317206</td>\n",
       "      <td>1.171904</td>\n",
       "      <td>-0.449154</td>\n",
       "      <td>0.759500</td>\n",
       "      <td>0.904366</td>\n",
       "      <td>-0.702746</td>\n",
       "      <td>-0.094036</td>\n",
       "      <td>-1.009101</td>\n",
       "      <td>-0.123991</td>\n",
       "      <td>-0.215261</td>\n",
       "      <td>...</td>\n",
       "      <td>1</td>\n",
       "      <td>0</td>\n",
       "      <td>2</td>\n",
       "      <td>0.036762</td>\n",
       "      <td>2749</td>\n",
       "      <td>0</td>\n",
       "      <td>1</td>\n",
       "      <td>0</td>\n",
       "      <td>0</td>\n",
       "      <td>3.946512</td>\n",
       "    </tr>\n",
       "    <tr>\n",
       "      <th>4</th>\n",
       "      <td>0.048144</td>\n",
       "      <td>-0.602341</td>\n",
       "      <td>-0.449154</td>\n",
       "      <td>-0.370885</td>\n",
       "      <td>-0.599209</td>\n",
       "      <td>-0.856200</td>\n",
       "      <td>-0.094036</td>\n",
       "      <td>-1.136042</td>\n",
       "      <td>-0.123991</td>\n",
       "      <td>-0.121475</td>\n",
       "      <td>...</td>\n",
       "      <td>2</td>\n",
       "      <td>18</td>\n",
       "      <td>3</td>\n",
       "      <td>0.041357</td>\n",
       "      <td>3840</td>\n",
       "      <td>0</td>\n",
       "      <td>1</td>\n",
       "      <td>0</td>\n",
       "      <td>0</td>\n",
       "      <td>3.946512</td>\n",
       "    </tr>\n",
       "  </tbody>\n",
       "</table>\n",
       "<p>5 rows × 37 columns</p>\n",
       "</div>"
      ],
      "text/plain": [
       "   Host Response Rate  Accommodates  Bathrooms  Bedrooms      Beds     Price  \\\n",
       "0            0.317206     -1.045902  -0.449154 -0.370885 -0.599209 -0.995039   \n",
       "1            0.317206     -0.602341   0.383739 -0.370885 -0.599209 -0.702746   \n",
       "2            0.317206     -0.602341  -0.449154 -0.370885 -0.599209 -0.856200   \n",
       "3            0.317206      1.171904  -0.449154  0.759500  0.904366 -0.702746   \n",
       "4            0.048144     -0.602341  -0.449154 -0.370885 -0.599209 -0.856200   \n",
       "\n",
       "   Security Deposit  Cleaning Fee  Extra_people  Minimum Nights  ...  \\\n",
       "0         -0.094036     -1.178355     -0.577403       -0.027689  ...   \n",
       "1         -0.094036     -1.114885      0.556128       -0.215261  ...   \n",
       "2         -0.094036     -1.220668      0.102715       -0.215261  ...   \n",
       "3         -0.094036     -1.009101     -0.123991       -0.215261  ...   \n",
       "4         -0.094036     -1.136042     -0.123991       -0.121475  ...   \n",
       "\n",
       "   Room_Type_1  Property_Type_1  Cancellation Policy 1  \\\n",
       "0            2                0                      3   \n",
       "1            2               18                      2   \n",
       "2            2                0                      2   \n",
       "3            1                0                      2   \n",
       "4            2               18                      3   \n",
       "\n",
       "   Neighbourhood_Cleansed_1  Host Since Days  North east  midwest  south  \\\n",
       "0                  0.036762             3476           0        1      0   \n",
       "1                  0.036762             2499           0        1      0   \n",
       "2                  0.036762             2624           0        1      0   \n",
       "3                  0.036762             2749           0        1      0   \n",
       "4                  0.041357             3840           0        1      0   \n",
       "\n",
       "   west  Market_1  \n",
       "0     0  3.946512  \n",
       "1     0  3.946512  \n",
       "2     0  3.946512  \n",
       "3     0  3.946512  \n",
       "4     0  3.946512  \n",
       "\n",
       "[5 rows x 37 columns]"
      ]
     },
     "execution_count": 394,
     "metadata": {},
     "output_type": "execute_result"
    }
   ],
   "source": [
    "df_final.head()"
   ]
  },
  {
   "cell_type": "code",
   "execution_count": 396,
   "id": "abef0055",
   "metadata": {},
   "outputs": [
    {
     "data": {
      "text/html": [
       "<div>\n",
       "<style scoped>\n",
       "    .dataframe tbody tr th:only-of-type {\n",
       "        vertical-align: middle;\n",
       "    }\n",
       "\n",
       "    .dataframe tbody tr th {\n",
       "        vertical-align: top;\n",
       "    }\n",
       "\n",
       "    .dataframe thead th {\n",
       "        text-align: right;\n",
       "    }\n",
       "</style>\n",
       "<table border=\"1\" class=\"dataframe\">\n",
       "  <thead>\n",
       "    <tr style=\"text-align: right;\">\n",
       "      <th></th>\n",
       "      <th>Host Since Days</th>\n",
       "      <th>Price</th>\n",
       "    </tr>\n",
       "  </thead>\n",
       "  <tbody>\n",
       "    <tr>\n",
       "      <th>Host Since Days</th>\n",
       "      <td>1.000000</td>\n",
       "      <td>0.029125</td>\n",
       "    </tr>\n",
       "    <tr>\n",
       "      <th>Price</th>\n",
       "      <td>0.029125</td>\n",
       "      <td>1.000000</td>\n",
       "    </tr>\n",
       "  </tbody>\n",
       "</table>\n",
       "</div>"
      ],
      "text/plain": [
       "                 Host Since Days     Price\n",
       "Host Since Days         1.000000  0.029125\n",
       "Price                   0.029125  1.000000"
      ]
     },
     "execution_count": 396,
     "metadata": {},
     "output_type": "execute_result"
    }
   ],
   "source": [
    "df_final.loc[:,['Host Since Days','Price']].corr()"
   ]
  },
  {
   "cell_type": "code",
   "execution_count": 397,
   "id": "db1d249a",
   "metadata": {},
   "outputs": [],
   "source": [
    "# price doesn't depend on host since days so we cam also keep or can remove this feature"
   ]
  },
  {
   "cell_type": "code",
   "execution_count": 398,
   "id": "b8b00d49",
   "metadata": {},
   "outputs": [],
   "source": [
    "from sklearn.model_selection import train_test_split"
   ]
  },
  {
   "cell_type": "code",
   "execution_count": 404,
   "id": "7aecfedf",
   "metadata": {},
   "outputs": [],
   "source": [
    "x=df_final.drop('Price',axis=1)\n",
    "y=df_final['Price']\n"
   ]
  },
  {
   "cell_type": "code",
   "execution_count": 405,
   "id": "ca141ed0",
   "metadata": {},
   "outputs": [],
   "source": [
    "xtrain,xtest,ytrain,ytest=train_test_split(x,y,test_size=0.30,random_state=10)"
   ]
  },
  {
   "cell_type": "code",
   "execution_count": 407,
   "id": "4fbd75d8",
   "metadata": {},
   "outputs": [],
   "source": [
    "from sklearn.linear_model import LinearRegression\n",
    "lr=LinearRegression()\n",
    "model=lr.fit(xtrain,ytrain)\n",
    "pred=model.predict(xtest)"
   ]
  },
  {
   "cell_type": "code",
   "execution_count": 408,
   "id": "ec38fdc2",
   "metadata": {},
   "outputs": [],
   "source": [
    "from sklearn.metrics import mean_squared_error,mean_absolute_error,r2_score"
   ]
  },
  {
   "cell_type": "code",
   "execution_count": 409,
   "id": "8bc0b8a7",
   "metadata": {},
   "outputs": [
    {
     "data": {
      "text/plain": [
       "0.5014778033392638"
      ]
     },
     "execution_count": 409,
     "metadata": {},
     "output_type": "execute_result"
    }
   ],
   "source": [
    "r2_score(ytest,pred)"
   ]
  },
  {
   "cell_type": "code",
   "execution_count": 410,
   "id": "d2fc9576",
   "metadata": {},
   "outputs": [
    {
     "data": {
      "text/plain": [
       "0.49797200654860807"
      ]
     },
     "execution_count": 410,
     "metadata": {},
     "output_type": "execute_result"
    }
   ],
   "source": [
    "mean_squared_error(ytest,pred)"
   ]
  },
  {
   "cell_type": "code",
   "execution_count": 412,
   "id": "74d13688",
   "metadata": {},
   "outputs": [],
   "source": [
    "a=mean_absolute_error(ytest,pred)"
   ]
  },
  {
   "cell_type": "code",
   "execution_count": 413,
   "id": "569273c0",
   "metadata": {},
   "outputs": [
    {
     "data": {
      "text/plain": [
       "0.6576556039922702"
      ]
     },
     "execution_count": 413,
     "metadata": {},
     "output_type": "execute_result"
    }
   ],
   "source": [
    "np.sqrt(a)"
   ]
  },
  {
   "cell_type": "code",
   "execution_count": 417,
   "id": "6863daec",
   "metadata": {},
   "outputs": [
    {
     "data": {
      "text/html": [
       "<div>\n",
       "<style scoped>\n",
       "    .dataframe tbody tr th:only-of-type {\n",
       "        vertical-align: middle;\n",
       "    }\n",
       "\n",
       "    .dataframe tbody tr th {\n",
       "        vertical-align: top;\n",
       "    }\n",
       "\n",
       "    .dataframe thead th {\n",
       "        text-align: right;\n",
       "    }\n",
       "</style>\n",
       "<table border=\"1\" class=\"dataframe\">\n",
       "  <thead>\n",
       "    <tr style=\"text-align: right;\">\n",
       "      <th></th>\n",
       "      <th>features</th>\n",
       "      <th>correlation_with_price</th>\n",
       "    </tr>\n",
       "  </thead>\n",
       "  <tbody>\n",
       "    <tr>\n",
       "      <th>0</th>\n",
       "      <td>Host Response Rate</td>\n",
       "      <td>0.007223</td>\n",
       "    </tr>\n",
       "    <tr>\n",
       "      <th>1</th>\n",
       "      <td>Accommodates</td>\n",
       "      <td>0.572736</td>\n",
       "    </tr>\n",
       "    <tr>\n",
       "      <th>2</th>\n",
       "      <td>Bathrooms</td>\n",
       "      <td>0.460469</td>\n",
       "    </tr>\n",
       "    <tr>\n",
       "      <th>3</th>\n",
       "      <td>Bedrooms</td>\n",
       "      <td>0.546271</td>\n",
       "    </tr>\n",
       "    <tr>\n",
       "      <th>4</th>\n",
       "      <td>Beds</td>\n",
       "      <td>0.483264</td>\n",
       "    </tr>\n",
       "    <tr>\n",
       "      <th>5</th>\n",
       "      <td>Price</td>\n",
       "      <td>1.000000</td>\n",
       "    </tr>\n",
       "    <tr>\n",
       "      <th>6</th>\n",
       "      <td>Security Deposit</td>\n",
       "      <td>0.239177</td>\n",
       "    </tr>\n",
       "    <tr>\n",
       "      <th>7</th>\n",
       "      <td>Cleaning Fee</td>\n",
       "      <td>0.555202</td>\n",
       "    </tr>\n",
       "    <tr>\n",
       "      <th>8</th>\n",
       "      <td>Extra_people</td>\n",
       "      <td>0.098623</td>\n",
       "    </tr>\n",
       "    <tr>\n",
       "      <th>9</th>\n",
       "      <td>Minimum Nights</td>\n",
       "      <td>0.007609</td>\n",
       "    </tr>\n",
       "    <tr>\n",
       "      <th>11</th>\n",
       "      <td>Availability 30</td>\n",
       "      <td>0.055439</td>\n",
       "    </tr>\n",
       "    <tr>\n",
       "      <th>12</th>\n",
       "      <td>Availability 60</td>\n",
       "      <td>0.041572</td>\n",
       "    </tr>\n",
       "    <tr>\n",
       "      <th>13</th>\n",
       "      <td>Availability 90</td>\n",
       "      <td>0.033391</td>\n",
       "    </tr>\n",
       "    <tr>\n",
       "      <th>14</th>\n",
       "      <td>Availability 365</td>\n",
       "      <td>0.041704</td>\n",
       "    </tr>\n",
       "    <tr>\n",
       "      <th>16</th>\n",
       "      <td>Review Scores Rating</td>\n",
       "      <td>0.069861</td>\n",
       "    </tr>\n",
       "    <tr>\n",
       "      <th>17</th>\n",
       "      <td>Review Scores Accuracy</td>\n",
       "      <td>0.051681</td>\n",
       "    </tr>\n",
       "    <tr>\n",
       "      <th>18</th>\n",
       "      <td>Review Scores Cleanliness</td>\n",
       "      <td>0.091873</td>\n",
       "    </tr>\n",
       "    <tr>\n",
       "      <th>19</th>\n",
       "      <td>Review Scores Checkin</td>\n",
       "      <td>0.035783</td>\n",
       "    </tr>\n",
       "    <tr>\n",
       "      <th>20</th>\n",
       "      <td>Review Scores Communication</td>\n",
       "      <td>0.031341</td>\n",
       "    </tr>\n",
       "    <tr>\n",
       "      <th>21</th>\n",
       "      <td>Review Scores Location</td>\n",
       "      <td>0.123232</td>\n",
       "    </tr>\n",
       "    <tr>\n",
       "      <th>22</th>\n",
       "      <td>Review Scores Value</td>\n",
       "      <td>0.028923</td>\n",
       "    </tr>\n",
       "    <tr>\n",
       "      <th>23</th>\n",
       "      <td>Calculated host listings count</td>\n",
       "      <td>0.076455</td>\n",
       "    </tr>\n",
       "    <tr>\n",
       "      <th>25</th>\n",
       "      <td>Host Response Time ord</td>\n",
       "      <td>0.006055</td>\n",
       "    </tr>\n",
       "    <tr>\n",
       "      <th>28</th>\n",
       "      <td>Property_Type_1</td>\n",
       "      <td>0.106155</td>\n",
       "    </tr>\n",
       "    <tr>\n",
       "      <th>29</th>\n",
       "      <td>Cancellation Policy 1</td>\n",
       "      <td>0.151755</td>\n",
       "    </tr>\n",
       "    <tr>\n",
       "      <th>31</th>\n",
       "      <td>Host Since Days</td>\n",
       "      <td>0.029125</td>\n",
       "    </tr>\n",
       "    <tr>\n",
       "      <th>34</th>\n",
       "      <td>south</td>\n",
       "      <td>0.136534</td>\n",
       "    </tr>\n",
       "  </tbody>\n",
       "</table>\n",
       "</div>"
      ],
      "text/plain": [
       "                          features  correlation_with_price\n",
       "0               Host Response Rate                0.007223\n",
       "1                     Accommodates                0.572736\n",
       "2                        Bathrooms                0.460469\n",
       "3                         Bedrooms                0.546271\n",
       "4                             Beds                0.483264\n",
       "5                            Price                1.000000\n",
       "6                 Security Deposit                0.239177\n",
       "7                     Cleaning Fee                0.555202\n",
       "8                     Extra_people                0.098623\n",
       "9                   Minimum Nights                0.007609\n",
       "11                 Availability 30                0.055439\n",
       "12                 Availability 60                0.041572\n",
       "13                 Availability 90                0.033391\n",
       "14                Availability 365                0.041704\n",
       "16            Review Scores Rating                0.069861\n",
       "17          Review Scores Accuracy                0.051681\n",
       "18       Review Scores Cleanliness                0.091873\n",
       "19           Review Scores Checkin                0.035783\n",
       "20     Review Scores Communication                0.031341\n",
       "21          Review Scores Location                0.123232\n",
       "22             Review Scores Value                0.028923\n",
       "23  Calculated host listings count                0.076455\n",
       "25          Host Response Time ord                0.006055\n",
       "28                 Property_Type_1                0.106155\n",
       "29           Cancellation Policy 1                0.151755\n",
       "31                 Host Since Days                0.029125\n",
       "34                           south                0.136534"
      ]
     },
     "execution_count": 417,
     "metadata": {},
     "output_type": "execute_result"
    }
   ],
   "source": [
    "dfc = pd.DataFrame(df_final.corr(method=\"pearson\")[\"Price\"])\n",
    "dfc.reset_index(inplace=True)\n",
    "dfc.columns = [\"features\", \"correlation_with_price\"]\n",
    "dfc.sort_values(\"correlation_with_price\", ascending=False)\n",
    "df1 = dfc[dfc[\"correlation_with_price\"] > 0.00]\n",
    "corr_features = df1[\"features\"].values\n",
    "corr_features.tolist().append(\"Price\")\n",
    "df1"
   ]
  },
  {
   "cell_type": "code",
   "execution_count": 418,
   "id": "dd45915b",
   "metadata": {},
   "outputs": [
    {
     "name": "stdout",
     "output_type": "stream",
     "text": [
      "                            OLS Regression Results                            \n",
      "==============================================================================\n",
      "Dep. Variable:                  Price   R-squared:                       0.500\n",
      "Model:                            OLS   Adj. R-squared:                  0.500\n",
      "Method:                 Least Squares   F-statistic:                     3728.\n",
      "Date:                Mon, 18 Apr 2022   Prob (F-statistic):               0.00\n",
      "Time:                        13:30:40   Log-Likelihood:            -1.4003e+05\n",
      "No. Observations:              130571   AIC:                         2.801e+05\n",
      "Df Residuals:                  130535   BIC:                         2.805e+05\n",
      "Df Model:                          35                                         \n",
      "Covariance Type:            nonrobust                                         \n",
      "==================================================================================================\n",
      "                                     coef    std err          t      P>|t|      [0.025      0.975]\n",
      "--------------------------------------------------------------------------------------------------\n",
      "const                              0.5451      0.014     39.772      0.000       0.518       0.572\n",
      "Host Response Rate                -0.0172      0.003     -6.793      0.000      -0.022      -0.012\n",
      "Accommodates                       0.1969      0.004     48.099      0.000       0.189       0.205\n",
      "Bathrooms                          0.1534      0.003     59.242      0.000       0.148       0.159\n",
      "Bedrooms                           0.1539      0.003     46.217      0.000       0.147       0.160\n",
      "Beds                              -0.0410      0.004    -11.357      0.000      -0.048      -0.034\n",
      "Security Deposit                   0.0361      0.002     17.354      0.000       0.032       0.040\n",
      "Cleaning Fee                       0.2292      0.003     86.096      0.000       0.224       0.234\n",
      "Extra_people                       0.0080      0.002      3.969      0.000       0.004       0.012\n",
      "Minimum Nights                    -0.0185      0.002     -9.382      0.000      -0.022      -0.015\n",
      "Maximum Nights                    -0.0002      0.002     -0.096      0.924      -0.004       0.004\n",
      "Availability 30                    0.0856      0.006     14.223      0.000       0.074       0.097\n",
      "Availability 60                    0.0195      0.012      1.605      0.109      -0.004       0.043\n",
      "Availability 90                   -0.0209      0.009     -2.268      0.023      -0.039      -0.003\n",
      "Availability 365                  -0.0304      0.003    -11.018      0.000      -0.036      -0.025\n",
      "Number of Reviews                 -0.0183      0.003     -7.302      0.000      -0.023      -0.013\n",
      "Review Scores Rating               0.0013      0.004      0.351      0.726      -0.006       0.008\n",
      "Review Scores Accuracy             0.0065      0.003      2.138      0.033       0.001       0.012\n",
      "Review Scores Cleanliness          0.0481      0.003     16.335      0.000       0.042       0.054\n",
      "Review Scores Checkin             -0.0062      0.003     -2.216      0.027      -0.012      -0.001\n",
      "Review Scores Communication       -0.0041      0.003     -1.421      0.155      -0.010       0.002\n",
      "Review Scores Location             0.1044      0.002     44.333      0.000       0.100       0.109\n",
      "Review Scores Value               -0.0420      0.003    -12.941      0.000      -0.048      -0.036\n",
      "Calculated host listings count    -0.0183      0.002     -8.820      0.000      -0.022      -0.014\n",
      "Reviews per Month                 -0.0612      0.002    -24.814      0.000      -0.066      -0.056\n",
      "Host Response Time ord            -0.0433      0.003    -13.401      0.000      -0.050      -0.037\n",
      "Bed Type 1                        -0.0020      0.004     -0.499      0.618      -0.010       0.006\n",
      "Room_Type_1                       -0.3488      0.004    -79.100      0.000      -0.357      -0.340\n",
      "Property_Type_1                   -0.0011      0.000     -4.452      0.000      -0.002      -0.001\n",
      "Cancellation Policy 1             -0.0306      0.004     -7.180      0.000      -0.039      -0.022\n",
      "Neighbourhood_Cleansed_1           0.0663      0.004     18.581      0.000       0.059       0.073\n",
      "Host Since Days                 1.187e-06   3.37e-06      0.352      0.725   -5.42e-06    7.79e-06\n",
      "North east                         0.2985      0.007     42.068      0.000       0.285       0.312\n",
      "midwest                           -0.0636      0.009     -7.225      0.000      -0.081      -0.046\n",
      "south                              0.1962      0.005     36.669      0.000       0.186       0.207\n",
      "west                               0.1141      0.005     23.242      0.000       0.104       0.124\n",
      "Market_1                          -0.0071      0.000    -25.334      0.000      -0.008      -0.007\n",
      "==============================================================================\n",
      "Omnibus:                    77558.987   Durbin-Watson:                   1.787\n",
      "Prob(Omnibus):                  0.000   Jarque-Bera (JB):          1113710.516\n",
      "Skew:                           2.608   Prob(JB):                         0.00\n",
      "Kurtosis:                      16.323   Cond. No.                     2.08e+17\n",
      "==============================================================================\n",
      "\n",
      "Notes:\n",
      "[1] Standard Errors assume that the covariance matrix of the errors is correctly specified.\n",
      "[2] The smallest eigenvalue is 2.62e-23. This might indicate that there are\n",
      "strong multicollinearity problems or that the design matrix is singular.\n"
     ]
    }
   ],
   "source": [
    "from statsmodels.formula.api import ols\n",
    "import statsmodels\n",
    "import statsmodels.api as sm\n",
    "x= sm.add_constant(x)\n",
    "\n",
    "\n",
    "\n",
    "# building a model with an intercept\n",
    "# fit() is used to fit the OLS model\n",
    "SLR_model = sm.OLS(y,x).fit()\n",
    "print(SLR_model.summary())"
   ]
  },
  {
   "cell_type": "code",
   "execution_count": 416,
   "id": "2eadb195",
   "metadata": {},
   "outputs": [
    {
     "data": {
      "text/plain": [
       "Index(['Host Response Time ord', 'Bed Type 1', 'Room_Type_1',\n",
       "       'Property_Type_1', 'Cancellation Policy 1', 'Neighbourhood_Cleansed_1',\n",
       "       'Host Since Days', 'North east', 'midwest', 'south', 'west',\n",
       "       'Market_1'],\n",
       "      dtype='object')"
      ]
     },
     "execution_count": 416,
     "metadata": {},
     "output_type": "execute_result"
    }
   ],
   "source": [
    "df_cat1.columns"
   ]
  },
  {
   "cell_type": "code",
   "execution_count": 430,
   "id": "06c902a3",
   "metadata": {},
   "outputs": [],
   "source": [
    "from sklearn.ensemble import RandomForestRegressor\n",
    "regressor=RandomForestRegressor(n_estimators=20,random_state=10)\n",
    "regressor.fit(xtrain,ytrain)\n",
    "ypred5=regressor.predict(xtest)"
   ]
  },
  {
   "cell_type": "code",
   "execution_count": 431,
   "id": "e3047bba",
   "metadata": {},
   "outputs": [
    {
     "data": {
      "text/plain": [
       "0.6164928482226906"
      ]
     },
     "execution_count": 431,
     "metadata": {},
     "output_type": "execute_result"
    }
   ],
   "source": [
    "r2_score(ytest,ypred5)"
   ]
  },
  {
   "cell_type": "code",
   "execution_count": 433,
   "id": "3855387b",
   "metadata": {},
   "outputs": [
    {
     "data": {
      "text/plain": [
       "0.6189377166705332"
      ]
     },
     "execution_count": 433,
     "metadata": {},
     "output_type": "execute_result"
    }
   ],
   "source": [
    "np.sqrt(mean_squared_error(ytest,ypred5))"
   ]
  },
  {
   "cell_type": "code",
   "execution_count": 425,
   "id": "ad4d0368",
   "metadata": {},
   "outputs": [
    {
     "data": {
      "text/html": [
       "<div>\n",
       "<style scoped>\n",
       "    .dataframe tbody tr th:only-of-type {\n",
       "        vertical-align: middle;\n",
       "    }\n",
       "\n",
       "    .dataframe tbody tr th {\n",
       "        vertical-align: top;\n",
       "    }\n",
       "\n",
       "    .dataframe thead th {\n",
       "        text-align: right;\n",
       "    }\n",
       "</style>\n",
       "<table border=\"1\" class=\"dataframe\">\n",
       "  <thead>\n",
       "    <tr style=\"text-align: right;\">\n",
       "      <th></th>\n",
       "      <th>Host Since</th>\n",
       "      <th>Host Response Time</th>\n",
       "      <th>Neighbourhood Cleansed</th>\n",
       "      <th>State</th>\n",
       "      <th>Zipcode</th>\n",
       "      <th>Market</th>\n",
       "      <th>Property Type</th>\n",
       "      <th>Room Type</th>\n",
       "      <th>Bed Type</th>\n",
       "      <th>Cancellation Policy</th>\n",
       "      <th>Host Since Days</th>\n",
       "    </tr>\n",
       "  </thead>\n",
       "  <tbody>\n",
       "    <tr>\n",
       "      <th>241</th>\n",
       "      <td>2012-10-11</td>\n",
       "      <td>within an hour</td>\n",
       "      <td>Humboldt Park</td>\n",
       "      <td>IL</td>\n",
       "      <td>60647</td>\n",
       "      <td>Chicago</td>\n",
       "      <td>Apartment</td>\n",
       "      <td>Private room</td>\n",
       "      <td>Real Bed</td>\n",
       "      <td>strict</td>\n",
       "      <td>3476</td>\n",
       "    </tr>\n",
       "    <tr>\n",
       "      <th>242</th>\n",
       "      <td>2015-06-15</td>\n",
       "      <td>within a day</td>\n",
       "      <td>Humboldt Park</td>\n",
       "      <td>IL</td>\n",
       "      <td>60651</td>\n",
       "      <td>Chicago</td>\n",
       "      <td>House</td>\n",
       "      <td>Private room</td>\n",
       "      <td>Real Bed</td>\n",
       "      <td>flexible</td>\n",
       "      <td>2499</td>\n",
       "    </tr>\n",
       "    <tr>\n",
       "      <th>243</th>\n",
       "      <td>2015-02-10</td>\n",
       "      <td>within an hour</td>\n",
       "      <td>Humboldt Park</td>\n",
       "      <td>IL</td>\n",
       "      <td>60651</td>\n",
       "      <td>Chicago</td>\n",
       "      <td>Apartment</td>\n",
       "      <td>Private room</td>\n",
       "      <td>Real Bed</td>\n",
       "      <td>moderate</td>\n",
       "      <td>2624</td>\n",
       "    </tr>\n",
       "    <tr>\n",
       "      <th>244</th>\n",
       "      <td>2014-10-08</td>\n",
       "      <td>within an hour</td>\n",
       "      <td>Humboldt Park</td>\n",
       "      <td>IL</td>\n",
       "      <td>60651</td>\n",
       "      <td>Chicago</td>\n",
       "      <td>Apartment</td>\n",
       "      <td>Entire home/apt</td>\n",
       "      <td>Real Bed</td>\n",
       "      <td>flexible</td>\n",
       "      <td>2749</td>\n",
       "    </tr>\n",
       "    <tr>\n",
       "      <th>245</th>\n",
       "      <td>2011-10-13</td>\n",
       "      <td>within an hour</td>\n",
       "      <td>East Garfield Park</td>\n",
       "      <td>IL</td>\n",
       "      <td>60624</td>\n",
       "      <td>Chicago</td>\n",
       "      <td>House</td>\n",
       "      <td>Private room</td>\n",
       "      <td>Real Bed</td>\n",
       "      <td>strict</td>\n",
       "      <td>3840</td>\n",
       "    </tr>\n",
       "  </tbody>\n",
       "</table>\n",
       "</div>"
      ],
      "text/plain": [
       "    Host Since Host Response Time Neighbourhood Cleansed State Zipcode  \\\n",
       "241 2012-10-11     within an hour          Humboldt Park    IL   60647   \n",
       "242 2015-06-15       within a day          Humboldt Park    IL   60651   \n",
       "243 2015-02-10     within an hour          Humboldt Park    IL   60651   \n",
       "244 2014-10-08     within an hour          Humboldt Park    IL   60651   \n",
       "245 2011-10-13     within an hour     East Garfield Park    IL   60624   \n",
       "\n",
       "      Market Property Type        Room Type  Bed Type Cancellation Policy  \\\n",
       "241  Chicago     Apartment     Private room  Real Bed              strict   \n",
       "242  Chicago         House     Private room  Real Bed            flexible   \n",
       "243  Chicago     Apartment     Private room  Real Bed            moderate   \n",
       "244  Chicago     Apartment  Entire home/apt  Real Bed            flexible   \n",
       "245  Chicago         House     Private room  Real Bed              strict   \n",
       "\n",
       "     Host Since Days  \n",
       "241             3476  \n",
       "242             2499  \n",
       "243             2624  \n",
       "244             2749  \n",
       "245             3840  "
      ]
     },
     "execution_count": 425,
     "metadata": {},
     "output_type": "execute_result"
    }
   ],
   "source": [
    "df_cat.head()"
   ]
  },
  {
   "cell_type": "code",
   "execution_count": 426,
   "id": "978cb1c2",
   "metadata": {},
   "outputs": [],
   "source": [
    "df_cat.drop('Zipcode',axis=1,inplace=True)"
   ]
  },
  {
   "cell_type": "code",
   "execution_count": 427,
   "id": "b2018903",
   "metadata": {},
   "outputs": [
    {
     "data": {
      "text/html": [
       "<div>\n",
       "<style scoped>\n",
       "    .dataframe tbody tr th:only-of-type {\n",
       "        vertical-align: middle;\n",
       "    }\n",
       "\n",
       "    .dataframe tbody tr th {\n",
       "        vertical-align: top;\n",
       "    }\n",
       "\n",
       "    .dataframe thead th {\n",
       "        text-align: right;\n",
       "    }\n",
       "</style>\n",
       "<table border=\"1\" class=\"dataframe\">\n",
       "  <thead>\n",
       "    <tr style=\"text-align: right;\">\n",
       "      <th></th>\n",
       "      <th>Host Since</th>\n",
       "      <th>Host Response Time</th>\n",
       "      <th>Neighbourhood Cleansed</th>\n",
       "      <th>State</th>\n",
       "      <th>Market</th>\n",
       "      <th>Property Type</th>\n",
       "      <th>Room Type</th>\n",
       "      <th>Bed Type</th>\n",
       "      <th>Cancellation Policy</th>\n",
       "      <th>Host Since Days</th>\n",
       "    </tr>\n",
       "  </thead>\n",
       "  <tbody>\n",
       "    <tr>\n",
       "      <th>241</th>\n",
       "      <td>2012-10-11</td>\n",
       "      <td>within an hour</td>\n",
       "      <td>Humboldt Park</td>\n",
       "      <td>IL</td>\n",
       "      <td>Chicago</td>\n",
       "      <td>Apartment</td>\n",
       "      <td>Private room</td>\n",
       "      <td>Real Bed</td>\n",
       "      <td>strict</td>\n",
       "      <td>3476</td>\n",
       "    </tr>\n",
       "    <tr>\n",
       "      <th>242</th>\n",
       "      <td>2015-06-15</td>\n",
       "      <td>within a day</td>\n",
       "      <td>Humboldt Park</td>\n",
       "      <td>IL</td>\n",
       "      <td>Chicago</td>\n",
       "      <td>House</td>\n",
       "      <td>Private room</td>\n",
       "      <td>Real Bed</td>\n",
       "      <td>flexible</td>\n",
       "      <td>2499</td>\n",
       "    </tr>\n",
       "    <tr>\n",
       "      <th>243</th>\n",
       "      <td>2015-02-10</td>\n",
       "      <td>within an hour</td>\n",
       "      <td>Humboldt Park</td>\n",
       "      <td>IL</td>\n",
       "      <td>Chicago</td>\n",
       "      <td>Apartment</td>\n",
       "      <td>Private room</td>\n",
       "      <td>Real Bed</td>\n",
       "      <td>moderate</td>\n",
       "      <td>2624</td>\n",
       "    </tr>\n",
       "    <tr>\n",
       "      <th>244</th>\n",
       "      <td>2014-10-08</td>\n",
       "      <td>within an hour</td>\n",
       "      <td>Humboldt Park</td>\n",
       "      <td>IL</td>\n",
       "      <td>Chicago</td>\n",
       "      <td>Apartment</td>\n",
       "      <td>Entire home/apt</td>\n",
       "      <td>Real Bed</td>\n",
       "      <td>flexible</td>\n",
       "      <td>2749</td>\n",
       "    </tr>\n",
       "    <tr>\n",
       "      <th>245</th>\n",
       "      <td>2011-10-13</td>\n",
       "      <td>within an hour</td>\n",
       "      <td>East Garfield Park</td>\n",
       "      <td>IL</td>\n",
       "      <td>Chicago</td>\n",
       "      <td>House</td>\n",
       "      <td>Private room</td>\n",
       "      <td>Real Bed</td>\n",
       "      <td>strict</td>\n",
       "      <td>3840</td>\n",
       "    </tr>\n",
       "  </tbody>\n",
       "</table>\n",
       "</div>"
      ],
      "text/plain": [
       "    Host Since Host Response Time Neighbourhood Cleansed State   Market  \\\n",
       "241 2012-10-11     within an hour          Humboldt Park    IL  Chicago   \n",
       "242 2015-06-15       within a day          Humboldt Park    IL  Chicago   \n",
       "243 2015-02-10     within an hour          Humboldt Park    IL  Chicago   \n",
       "244 2014-10-08     within an hour          Humboldt Park    IL  Chicago   \n",
       "245 2011-10-13     within an hour     East Garfield Park    IL  Chicago   \n",
       "\n",
       "    Property Type        Room Type  Bed Type Cancellation Policy  \\\n",
       "241     Apartment     Private room  Real Bed              strict   \n",
       "242         House     Private room  Real Bed            flexible   \n",
       "243     Apartment     Private room  Real Bed            moderate   \n",
       "244     Apartment  Entire home/apt  Real Bed            flexible   \n",
       "245         House     Private room  Real Bed              strict   \n",
       "\n",
       "     Host Since Days  \n",
       "241             3476  \n",
       "242             2499  \n",
       "243             2624  \n",
       "244             2749  \n",
       "245             3840  "
      ]
     },
     "execution_count": 427,
     "metadata": {},
     "output_type": "execute_result"
    }
   ],
   "source": [
    "df_cat.head()"
   ]
  },
  {
   "cell_type": "code",
   "execution_count": 428,
   "id": "4c2e1f73",
   "metadata": {},
   "outputs": [],
   "source": [
    "df_cat.drop('Host Since',axis=1,inplace=True)"
   ]
  },
  {
   "cell_type": "code",
   "execution_count": 429,
   "id": "b81a3b68",
   "metadata": {},
   "outputs": [
    {
     "data": {
      "text/html": [
       "<div>\n",
       "<style scoped>\n",
       "    .dataframe tbody tr th:only-of-type {\n",
       "        vertical-align: middle;\n",
       "    }\n",
       "\n",
       "    .dataframe tbody tr th {\n",
       "        vertical-align: top;\n",
       "    }\n",
       "\n",
       "    .dataframe thead th {\n",
       "        text-align: right;\n",
       "    }\n",
       "</style>\n",
       "<table border=\"1\" class=\"dataframe\">\n",
       "  <thead>\n",
       "    <tr style=\"text-align: right;\">\n",
       "      <th></th>\n",
       "      <th>Host Response Time</th>\n",
       "      <th>Neighbourhood Cleansed</th>\n",
       "      <th>State</th>\n",
       "      <th>Market</th>\n",
       "      <th>Property Type</th>\n",
       "      <th>Room Type</th>\n",
       "      <th>Bed Type</th>\n",
       "      <th>Cancellation Policy</th>\n",
       "      <th>Host Since Days</th>\n",
       "    </tr>\n",
       "  </thead>\n",
       "  <tbody>\n",
       "    <tr>\n",
       "      <th>241</th>\n",
       "      <td>within an hour</td>\n",
       "      <td>Humboldt Park</td>\n",
       "      <td>IL</td>\n",
       "      <td>Chicago</td>\n",
       "      <td>Apartment</td>\n",
       "      <td>Private room</td>\n",
       "      <td>Real Bed</td>\n",
       "      <td>strict</td>\n",
       "      <td>3476</td>\n",
       "    </tr>\n",
       "    <tr>\n",
       "      <th>242</th>\n",
       "      <td>within a day</td>\n",
       "      <td>Humboldt Park</td>\n",
       "      <td>IL</td>\n",
       "      <td>Chicago</td>\n",
       "      <td>House</td>\n",
       "      <td>Private room</td>\n",
       "      <td>Real Bed</td>\n",
       "      <td>flexible</td>\n",
       "      <td>2499</td>\n",
       "    </tr>\n",
       "    <tr>\n",
       "      <th>243</th>\n",
       "      <td>within an hour</td>\n",
       "      <td>Humboldt Park</td>\n",
       "      <td>IL</td>\n",
       "      <td>Chicago</td>\n",
       "      <td>Apartment</td>\n",
       "      <td>Private room</td>\n",
       "      <td>Real Bed</td>\n",
       "      <td>moderate</td>\n",
       "      <td>2624</td>\n",
       "    </tr>\n",
       "    <tr>\n",
       "      <th>244</th>\n",
       "      <td>within an hour</td>\n",
       "      <td>Humboldt Park</td>\n",
       "      <td>IL</td>\n",
       "      <td>Chicago</td>\n",
       "      <td>Apartment</td>\n",
       "      <td>Entire home/apt</td>\n",
       "      <td>Real Bed</td>\n",
       "      <td>flexible</td>\n",
       "      <td>2749</td>\n",
       "    </tr>\n",
       "    <tr>\n",
       "      <th>245</th>\n",
       "      <td>within an hour</td>\n",
       "      <td>East Garfield Park</td>\n",
       "      <td>IL</td>\n",
       "      <td>Chicago</td>\n",
       "      <td>House</td>\n",
       "      <td>Private room</td>\n",
       "      <td>Real Bed</td>\n",
       "      <td>strict</td>\n",
       "      <td>3840</td>\n",
       "    </tr>\n",
       "  </tbody>\n",
       "</table>\n",
       "</div>"
      ],
      "text/plain": [
       "    Host Response Time Neighbourhood Cleansed State   Market Property Type  \\\n",
       "241     within an hour          Humboldt Park    IL  Chicago     Apartment   \n",
       "242       within a day          Humboldt Park    IL  Chicago         House   \n",
       "243     within an hour          Humboldt Park    IL  Chicago     Apartment   \n",
       "244     within an hour          Humboldt Park    IL  Chicago     Apartment   \n",
       "245     within an hour     East Garfield Park    IL  Chicago         House   \n",
       "\n",
       "           Room Type  Bed Type Cancellation Policy  Host Since Days  \n",
       "241     Private room  Real Bed              strict             3476  \n",
       "242     Private room  Real Bed            flexible             2499  \n",
       "243     Private room  Real Bed            moderate             2624  \n",
       "244  Entire home/apt  Real Bed            flexible             2749  \n",
       "245     Private room  Real Bed              strict             3840  "
      ]
     },
     "execution_count": 429,
     "metadata": {},
     "output_type": "execute_result"
    }
   ],
   "source": [
    "df_cat.head()"
   ]
  },
  {
   "cell_type": "code",
   "execution_count": 434,
   "id": "f5a57400",
   "metadata": {},
   "outputs": [],
   "source": [
    "from sklearn.preprocessing import OrdinalEncoder"
   ]
  },
  {
   "cell_type": "code",
   "execution_count": 435,
   "id": "0e9f9e3b",
   "metadata": {},
   "outputs": [],
   "source": [
    "oe=OrdinalEncoder()"
   ]
  },
  {
   "cell_type": "code",
   "execution_count": 439,
   "id": "2dae0d5f",
   "metadata": {},
   "outputs": [],
   "source": [
    "a=oe.fit_transform(df_cat)"
   ]
  },
  {
   "cell_type": "code",
   "execution_count": 441,
   "id": "4c20c246",
   "metadata": {},
   "outputs": [],
   "source": [
    "df_cat_dusri_eda=pd.DataFrame(a,columns=df_cat.columns)"
   ]
  },
  {
   "cell_type": "code",
   "execution_count": 442,
   "id": "83ca6c8e",
   "metadata": {},
   "outputs": [],
   "source": [
    "df_final_dusra=pd.concat([df_num3,df_cat_dusri_eda],axis=1)"
   ]
  },
  {
   "cell_type": "code",
   "execution_count": 459,
   "id": "b7a44abb",
   "metadata": {},
   "outputs": [],
   "source": [
    "df_final_dusra.drop('Host Since Days',axis=1,inplace=True)"
   ]
  },
  {
   "cell_type": "code",
   "execution_count": 460,
   "id": "119e345c",
   "metadata": {},
   "outputs": [],
   "source": [
    "x1=df_final_dusra.drop('Price',axis=1)\n",
    "y1=df_final_dusra['Price']"
   ]
  },
  {
   "cell_type": "code",
   "execution_count": 461,
   "id": "ad814eea",
   "metadata": {},
   "outputs": [],
   "source": [
    "x_train,x_test,y_train,y_test=train_test_split(x1,y1,test_size=0.30,random_state=10)"
   ]
  },
  {
   "cell_type": "code",
   "execution_count": 462,
   "id": "30403067",
   "metadata": {},
   "outputs": [],
   "source": [
    "from sklearn.linear_model import LinearRegression\n",
    "lr=LinearRegression()\n",
    "model=lr.fit(x_train,y_train)\n",
    "pred1=model.predict(x_test)"
   ]
  },
  {
   "cell_type": "code",
   "execution_count": 463,
   "id": "bc3c2f6a",
   "metadata": {},
   "outputs": [
    {
     "data": {
      "text/plain": [
       "0.4957666581191196"
      ]
     },
     "execution_count": 463,
     "metadata": {},
     "output_type": "execute_result"
    }
   ],
   "source": [
    "r2_score(y_test,pred1)"
   ]
  },
  {
   "cell_type": "code",
   "execution_count": 464,
   "id": "a9804157",
   "metadata": {},
   "outputs": [
    {
     "data": {
      "text/plain": [
       "0.7097019435707684"
      ]
     },
     "execution_count": 464,
     "metadata": {},
     "output_type": "execute_result"
    }
   ],
   "source": [
    "np.sqrt(mean_squared_error(y_test,pred1))"
   ]
  },
  {
   "cell_type": "code",
   "execution_count": 465,
   "id": "60392856",
   "metadata": {},
   "outputs": [],
   "source": [
    "from sklearn.ensemble import RandomForestRegressor\n",
    "regressor=RandomForestRegressor(n_estimators=20,random_state=10)\n",
    "regressor.fit(x_train,y_train)\n",
    "ypred5=regressor.predict(x_test)"
   ]
  },
  {
   "cell_type": "code",
   "execution_count": 466,
   "id": "d977bc25",
   "metadata": {},
   "outputs": [
    {
     "data": {
      "text/plain": [
       "0.6130085764706237"
      ]
     },
     "execution_count": 466,
     "metadata": {},
     "output_type": "execute_result"
    }
   ],
   "source": [
    "r2_score(y_test,ypred5)"
   ]
  },
  {
   "cell_type": "code",
   "execution_count": 457,
   "id": "27e637b7",
   "metadata": {},
   "outputs": [
    {
     "data": {
      "text/plain": [
       "0.6196062650725477"
      ]
     },
     "execution_count": 457,
     "metadata": {},
     "output_type": "execute_result"
    }
   ],
   "source": [
    "np.sqrt(mean_squared_error(y_test,ypred5))"
   ]
  },
  {
   "cell_type": "code",
   "execution_count": null,
   "id": "dcc3b329",
   "metadata": {},
   "outputs": [],
   "source": []
  },
  {
   "cell_type": "code",
   "execution_count": null,
   "id": "0915c587",
   "metadata": {},
   "outputs": [],
   "source": []
  },
  {
   "cell_type": "code",
   "execution_count": null,
   "id": "dcdef4c0",
   "metadata": {},
   "outputs": [],
   "source": []
  },
  {
   "cell_type": "code",
   "execution_count": null,
   "id": "bcb332b8",
   "metadata": {},
   "outputs": [],
   "source": []
  },
  {
   "cell_type": "code",
   "execution_count": null,
   "id": "e93ec1eb",
   "metadata": {},
   "outputs": [],
   "source": []
  },
  {
   "cell_type": "code",
   "execution_count": 467,
   "id": "808ae2f3",
   "metadata": {},
   "outputs": [],
   "source": [
    "#################################"
   ]
  },
  {
   "cell_type": "code",
   "execution_count": 471,
   "id": "3a9e2616",
   "metadata": {},
   "outputs": [],
   "source": [
    "a_num=df2.loc[:,[  'Accommodates', 'Bedrooms', 'Beds', 'Minimum Nights',\n",
    "             'Availability 30', 'Availability 60', 'Availability 90',\n",
    "             'Availability 365', 'Number of Reviews', 'Reviews per Month',\n",
    "             'Review Scores Rating', 'Review Scores Accuracy', 'Review Scores Cleanliness',\n",
    "             'Review Scores Checkin', 'Review Scores Communication', 'Review Scores Location',\n",
    "             'Review Scores Value', 'Host Response Rate']]"
   ]
  },
  {
   "cell_type": "code",
   "execution_count": 469,
   "id": "e9d36c43",
   "metadata": {},
   "outputs": [
    {
     "data": {
      "text/plain": [
       "Index(['Host Since', 'Host Response Time', 'Host Response Rate',\n",
       "       'Neighbourhood Cleansed', 'State', 'Zipcode', 'Market', 'Property Type',\n",
       "       'Room Type', 'Accommodates', 'Bathrooms', 'Bedrooms', 'Beds',\n",
       "       'Bed Type', 'Price', 'Security Deposit', 'Cleaning Fee', 'Extra_people',\n",
       "       'Minimum Nights', 'Maximum Nights', 'Availability 30',\n",
       "       'Availability 60', 'Availability 90', 'Availability 365',\n",
       "       'Number of Reviews', 'Review Scores Rating', 'Review Scores Accuracy',\n",
       "       'Review Scores Cleanliness', 'Review Scores Checkin',\n",
       "       'Review Scores Communication', 'Review Scores Location',\n",
       "       'Review Scores Value', 'Cancellation Policy',\n",
       "       'Calculated host listings count', 'Reviews per Month'],\n",
       "      dtype='object')"
      ]
     },
     "execution_count": 469,
     "metadata": {},
     "output_type": "execute_result"
    }
   ],
   "source": [
    "df2.columns"
   ]
  },
  {
   "cell_type": "code",
   "execution_count": 472,
   "id": "2f0a6be7",
   "metadata": {},
   "outputs": [
    {
     "data": {
      "text/plain": [
       "Accommodates                       0\n",
       "Bedrooms                           0\n",
       "Beds                               0\n",
       "Minimum Nights                     0\n",
       "Availability 30                    0\n",
       "Availability 60                    0\n",
       "Availability 90                    0\n",
       "Availability 365                   0\n",
       "Number of Reviews                  0\n",
       "Reviews per Month              28795\n",
       "Review Scores Rating           30213\n",
       "Review Scores Accuracy         30431\n",
       "Review Scores Cleanliness      30384\n",
       "Review Scores Checkin          30512\n",
       "Review Scores Communication    30382\n",
       "Review Scores Location         30512\n",
       "Review Scores Value            30538\n",
       "Host Response Rate             29240\n",
       "dtype: int64"
      ]
     },
     "execution_count": 472,
     "metadata": {},
     "output_type": "execute_result"
    }
   ],
   "source": [
    "a_num.isnull().sum()"
   ]
  },
  {
   "cell_type": "code",
   "execution_count": 473,
   "id": "87633a02",
   "metadata": {},
   "outputs": [],
   "source": [
    "a_cat=df2.loc[:,['State', \"Neighbourhood Cleansed\",\n",
    "                    \"Property Type\", \"Room Type\", \"Bed Type\", \"Cancellation Policy\",\n",
    "                    \"Host Response Time\"]]"
   ]
  },
  {
   "cell_type": "code",
   "execution_count": null,
   "id": "2dc71f80",
   "metadata": {},
   "outputs": [],
   "source": []
  }
 ],
 "metadata": {
  "kernelspec": {
   "display_name": "Python 3 (ipykernel)",
   "language": "python",
   "name": "python3"
  },
  "language_info": {
   "codemirror_mode": {
    "name": "ipython",
    "version": 3
   },
   "file_extension": ".py",
   "mimetype": "text/x-python",
   "name": "python",
   "nbconvert_exporter": "python",
   "pygments_lexer": "ipython3",
   "version": "3.8.12"
  }
 },
 "nbformat": 4,
 "nbformat_minor": 5
}
